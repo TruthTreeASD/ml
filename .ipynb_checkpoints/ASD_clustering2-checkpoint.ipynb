{
 "cells": [
  {
   "cell_type": "markdown",
   "metadata": {
    "colab_type": "text",
    "id": "view-in-github"
   },
   "source": [
    "<a href=\"https://colab.research.google.com/github/TruthTreeASD/ml/blob/apar/ASD_clustering2.ipynb\" target=\"_parent\"><img src=\"https://colab.research.google.com/assets/colab-badge.svg\" alt=\"Open In Colab\"/></a>"
   ]
  },
  {
   "cell_type": "code",
   "execution_count": 2,
   "metadata": {
    "colab": {},
    "colab_type": "code",
    "id": "No6WmmKkN1gG"
   },
   "outputs": [],
   "source": [
    "import pandas as pd\n",
    "import numpy as np\n",
    "from sklearn.neighbors import NearestNeighbors\n",
    "import matplotlib.pyplot as plt\n",
    "import os"
   ]
  },
  {
   "cell_type": "code",
   "execution_count": null,
   "metadata": {
    "colab": {
     "base_uri": "https://localhost:8080/",
     "height": 355
    },
    "colab_type": "code",
    "id": "IfOZn4BBOdKs",
    "outputId": "c72e1555-dc70-435a-d7dd-acd3096c0a6d"
   },
   "outputs": [],
   "source": [
    "# filename = 'Cleaned_StateData_2.csv'\n",
    "filename = 'MunicipalData.csv'\n",
    "data_folder = '../../data'\n",
    "data = pd.read_csv(os.path.jfilename)\n",
    "print(data.shape)\n",
    "data.head()"
   ]
  },
  {
   "cell_type": "code",
   "execution_count": null,
   "metadata": {
    "colab": {
     "base_uri": "https://localhost:8080/",
     "height": 2000
    },
    "colab_type": "code",
    "id": "842C1SubWdyX",
    "outputId": "5ade381c-ce0e-4786-804c-44b75f478ea3"
   },
   "outputs": [],
   "source": [
    "data[['Name', 'Year4']].drop_duplicates().groupby('Name').count()"
   ]
  },
  {
   "cell_type": "code",
   "execution_count": null,
   "metadata": {
    "colab": {
     "base_uri": "https://localhost:8080/",
     "height": 338
    },
    "colab_type": "code",
    "id": "dy7qg8xp52Hi",
    "outputId": "0ed90802-9597-4ecf-8134-b014bedc4cf3"
   },
   "outputs": [],
   "source": [
    "# data = data.rename(columns={'State':'Name'})\n",
    "data = data.rename(columns={'Year4':'Year'})\n",
    "data.head()"
   ]
  },
  {
   "cell_type": "code",
   "execution_count": null,
   "metadata": {
    "colab": {},
    "colab_type": "code",
    "id": "rCUAGtQBHo1E"
   },
   "outputs": [],
   "source": [
    "data = data[(data['Year']>=1977) & (data['Year']<=2016)]"
   ]
  },
  {
   "cell_type": "code",
   "execution_count": null,
   "metadata": {
    "colab": {
     "base_uri": "https://localhost:8080/",
     "height": 10115
    },
    "colab_type": "code",
    "id": "5UJ6ayKgPWTY",
    "outputId": "61449e7b-aec1-4cd5-acd2-f4354b50aa3f"
   },
   "outputs": [],
   "source": [
    "keys = data.keys().tolist()\n",
    "keys"
   ]
  },
  {
   "cell_type": "code",
   "execution_count": null,
   "metadata": {
    "colab": {},
    "colab_type": "code",
    "id": "J1O1U_18bucq"
   },
   "outputs": [],
   "source": [
    "def getNearest(df, num):  \n",
    "  nbrs = NearestNeighbors(n_neighbors=num, algorithm='auto').fit(df)\n",
    "  distances, indices = nbrs.kneighbors(df)\n",
    "  \n",
    "  return distances, indices"
   ]
  },
  {
   "cell_type": "code",
   "execution_count": null,
   "metadata": {
    "colab": {},
    "colab_type": "code",
    "id": "xSjWmZB5CHYp"
   },
   "outputs": [],
   "source": [
    "def getNearest2(df1, df2, num):  \n",
    "  nbrs = NearestNeighbors(n_neighbors=num, algorithm='auto').fit(df1)\n",
    "  distances, indices = nbrs.kneighbors(df2)\n",
    "  \n",
    "  return distances, indices"
   ]
  },
  {
   "cell_type": "code",
   "execution_count": null,
   "metadata": {
    "colab": {},
    "colab_type": "code",
    "id": "_l6tyb8jrFKG"
   },
   "outputs": [],
   "source": [
    "# def getSimilarStates_multi(state, attributes, year, num=1):\n",
    "#   df = data[data['Year']==year][['Name'] + attributes]\n",
    "#   df = df.set_index('Name')\n",
    "#   _, indices = getNearest(df, num+1)\n",
    "#   id_ = df.index.tolist().index(state)\n",
    "  \n",
    "#   neighbors = indices[id_]\n",
    "#   return df.index[neighbors].tolist()"
   ]
  },
  {
   "cell_type": "code",
   "execution_count": null,
   "metadata": {
    "colab": {},
    "colab_type": "code",
    "id": "LsEW4lUZeRvU"
   },
   "outputs": [],
   "source": [
    "# def getSimilarStates(state, attribute, num=1):\n",
    "#   df = data[['Year', 'Name'] + [attribute]]\n",
    "#   pivoted = df.pivot_table(index='Name', columns='Year', values=attribute)\n",
    "#   pivoted = pivoted.sort_index()\n",
    "#   distances, indices = getNearest(pivoted, num+1)\n",
    "#   id_ = pivoted.index.tolist().index(state)\n",
    "  \n",
    "#   neighbors = indices[id_]\n",
    "#   distances = distances[id_]\n",
    "\n",
    "#   return pivoted.index[neighbors].tolist(), distances"
   ]
  },
  {
   "cell_type": "code",
   "execution_count": null,
   "metadata": {
    "colab": {},
    "colab_type": "code",
    "id": "tLhysH3c6o08"
   },
   "outputs": [],
   "source": [
    "state = 'ALABAMA'\n",
    "attribute = 'Total_Expenditure'\n",
    "norm_by = 'Total_Revenue'\n",
    "yearRange = [2000, 2016]\n",
    "num=2"
   ]
  },
  {
   "cell_type": "code",
   "execution_count": null,
   "metadata": {
    "colab": {},
    "colab_type": "code",
    "id": "DKR4MvVFGyeV"
   },
   "outputs": [],
   "source": [
    "#"
   ]
  },
  {
   "cell_type": "code",
   "execution_count": null,
   "metadata": {
    "colab": {
     "base_uri": "https://localhost:8080/",
     "height": 359
    },
    "colab_type": "code",
    "id": "FvjtkCpRHGOD",
    "outputId": "1ad7f6c6-6d7b-4f54-c447-bad37ef757aa"
   },
   "outputs": [],
   "source": [
    "df = df[['Year', 'Name', attribute, norm_by]]\n",
    "df.head(10)"
   ]
  },
  {
   "cell_type": "code",
   "execution_count": null,
   "metadata": {
    "colab": {},
    "colab_type": "code",
    "id": "a7A7GUvPGyFw"
   },
   "outputs": [],
   "source": [
    "df = data\n",
    "df1 = df[['Year', 'Name'] + [attribute]]\n",
    "df2 = df[['Year', 'Name'] + [norm_by]]\n",
    "\n",
    "pivoted1 = df1.pivot_table(index='Name', columns='Year', values=attribute)\n",
    "pivoted2 = df2.pivot_table(index='Name', columns='Year', values=norm_by)\n",
    "\n",
    "pivoted = pivoted1/pivoted2"
   ]
  },
  {
   "cell_type": "code",
   "execution_count": null,
   "metadata": {
    "colab": {
     "base_uri": "https://localhost:8080/",
     "height": 352
    },
    "colab_type": "code",
    "id": "S_7lTMQlG2si",
    "outputId": "c977af78-d8cf-42e2-f278-9df35f14416b"
   },
   "outputs": [],
   "source": [
    "pivoted.head()"
   ]
  },
  {
   "cell_type": "code",
   "execution_count": null,
   "metadata": {
    "colab": {
     "base_uri": "https://localhost:8080/",
     "height": 34
    },
    "colab_type": "code",
    "id": "ksd1Ux8qI-91",
    "outputId": "fb500d37-32fd-4c0d-ef3f-a241d123e259"
   },
   "outputs": [],
   "source": []
  },
  {
   "cell_type": "code",
   "execution_count": null,
   "metadata": {
    "colab": {
     "base_uri": "https://localhost:8080/",
     "height": 34
    },
    "colab_type": "code",
    "id": "NJ4txLxtI6Cy",
    "outputId": "8522dd8c-b159-496d-ca93-65d219d00e7e"
   },
   "outputs": [],
   "source": []
  },
  {
   "cell_type": "code",
   "execution_count": null,
   "metadata": {
    "colab": {
     "base_uri": "https://localhost:8080/",
     "height": 34
    },
    "colab_type": "code",
    "id": "i--Khz9eIzRT",
    "outputId": "59afa0f8-1f8c-4ca3-f47b-425e8112b3cf"
   },
   "outputs": [],
   "source": [
    "data['Name'].nunique() * data['Year'].nunique(), data[['Year', 'Name']].drop_duplicates().shape[0]"
   ]
  },
  {
   "cell_type": "code",
   "execution_count": null,
   "metadata": {
    "colab": {},
    "colab_type": "code",
    "id": "mEGt4sn-InbI"
   },
   "outputs": [],
   "source": [
    "pd.pivot_table(data, index='Name', columns='Year', aggfunc='count')"
   ]
  },
  {
   "cell_type": "code",
   "execution_count": null,
   "metadata": {
    "colab": {},
    "colab_type": "code",
    "id": "t-BKytTOGzaX"
   },
   "outputs": [],
   "source": [
    "\n",
    "distances, indices = getNearest(pivoted, num+1)\n",
    "id_ = pivoted.index.tolist().index(state)\n",
    "neighbors = indices[id_]\n",
    "distances = distances[id_]\n"
   ]
  },
  {
   "cell_type": "code",
   "execution_count": null,
   "metadata": {
    "colab": {
     "base_uri": "https://localhost:8080/",
     "height": 34
    },
    "colab_type": "code",
    "id": "MwUjbjjuGknd",
    "outputId": "6df3f4c8-85d9-4069-f3c0-31fa3d666565"
   },
   "outputs": [],
   "source": [
    "##"
   ]
  },
  {
   "cell_type": "code",
   "execution_count": null,
   "metadata": {
    "colab": {},
    "colab_type": "code",
    "id": "DQiMYPk0-4RT"
   },
   "outputs": [],
   "source": [
    "def getSimilarStates(df, state, attribute, year_range, norm_by, num=1):\n",
    "  df1 = df[['Year', 'Name'] + [attribute]]  \n",
    "  df2 = df[['Year', 'Name'] + [norm_by]]\n",
    "\n",
    "  pivoted1 = df1.pivot_table(index='Name', columns='Year', values=attribute)\n",
    "  pivoted2 = df2.pivot_table(index='Name', columns='Year', values=norm_by)\n",
    "\n",
    "  pivoted1 = pivoted1.sort_index()\n",
    "  pivoted2 = pivoted2.sort_index()\n",
    "    \n",
    "  pivoted = pivoted1/pivoted2\n",
    "\n",
    "  distances, indices = getNearest(pivoted, num+1)\n",
    "  id_ = pivoted.index.tolist().index(state)\n",
    "  neighbors = indices[id_]\n",
    "  distances = distances[id_]\n",
    "\n",
    "  return pivoted.index[neighbors].tolist(), distances"
   ]
  },
  {
   "cell_type": "code",
   "execution_count": null,
   "metadata": {
    "colab": {
     "base_uri": "https://localhost:8080/",
     "height": 863
    },
    "colab_type": "code",
    "id": "bdbFQu8HGfII",
    "outputId": "a4cf5bd7-7df3-4f8e-c6bd-e70cb7ac0c87"
   },
   "outputs": [],
   "source": [
    "getSimilarStates(data, state, attribute, yearRange, norm_by)"
   ]
  },
  {
   "cell_type": "code",
   "execution_count": null,
   "metadata": {
    "colab": {
     "base_uri": "https://localhost:8080/",
     "height": 34
    },
    "colab_type": "code",
    "id": "e9WdX1UH_gfM",
    "outputId": "7480bf99-7ef3-431b-c7fa-4a4a12f6546f"
   },
   "outputs": [],
   "source": [
    "%%timeit\n",
    "getSimilarStates(data, state, attribute, yearRange, norm_by)"
   ]
  },
  {
   "cell_type": "code",
   "execution_count": null,
   "metadata": {
    "colab": {},
    "colab_type": "code",
    "id": "BjO_Cscf_jkL"
   },
   "outputs": [],
   "source": [
    "def getSimilarStates(df, state, attribute, year_range, norm_by, num=1):\n",
    "  df1 = df[['Year', 'Name'] + [attribute]]\n",
    "  df2 = df[['Year', 'Name'] + [norm_by]]\n",
    "\n",
    "  pivoted1 = df1.pivot_table(index='Name', columns='Year', values=attribute)\n",
    "  pivoted2 = df2.pivot_table(index='Name', columns='Year', values=norm_by)\n",
    "\n",
    "  pivoted = pivoted1/pivoted2\n",
    "\n",
    "  distances, indices = getNearest(pivoted, num+1)\n",
    "  id_ = pivoted.index.tolist().index(state)\n",
    "  neighbors = indices[id_]\n",
    "  distances = distances[id_]\n",
    "\n",
    "  return pivoted.index[neighbors].tolist(), distances"
   ]
  },
  {
   "cell_type": "code",
   "execution_count": null,
   "metadata": {
    "colab": {
     "base_uri": "https://localhost:8080/",
     "height": 34
    },
    "colab_type": "code",
    "id": "H5RHT2Qf_jto",
    "outputId": "02428a58-cbcc-4c2e-dd4d-384f9c33276b"
   },
   "outputs": [],
   "source": [
    "%%timeit\n",
    "getSimilarStates(data, state, attribute, yearRange, norm_by)"
   ]
  },
  {
   "cell_type": "code",
   "execution_count": null,
   "metadata": {
    "colab": {},
    "colab_type": "code",
    "id": "WsY_YFrx_sVr"
   },
   "outputs": [],
   "source": [
    "def getSimilarStates(df, state, attribute, year_range, norm_by, num=1):\n",
    "  pivoted1 = df.pivot_table(index='Name', columns='Year', values=attribute)\n",
    "  pivoted2 = df.pivot_table(index='Name', columns='Year', values=norm_by)\n",
    "\n",
    "  pivoted = pivoted1/pivoted2\n",
    "\n",
    "  distances, indices = getNearest(pivoted, num+1)\n",
    "  id_ = pivoted.index.tolist().index(state)\n",
    "  neighbors = indices[id_]\n",
    "  distances = distances[id_]\n",
    "\n",
    "  return pivoted.index[neighbors].tolist(), distances"
   ]
  },
  {
   "cell_type": "code",
   "execution_count": null,
   "metadata": {
    "colab": {
     "base_uri": "https://localhost:8080/",
     "height": 34
    },
    "colab_type": "code",
    "id": "8aCXF_r8_sbH",
    "outputId": "44950570-111d-4cb1-a087-695da6738420"
   },
   "outputs": [],
   "source": [
    "%%timeit\n",
    "getSimilarStates(data, state, attribute, yearRange, norm_by)"
   ]
  },
  {
   "cell_type": "code",
   "execution_count": null,
   "metadata": {
    "colab": {},
    "colab_type": "code",
    "id": "bqpftlds_sgd"
   },
   "outputs": [],
   "source": [
    "def getSimilarStates(df, state, attribute, year_range, norm_by, num=1):\n",
    "  pivoted = df.pivot_table(index='Name', columns='Year', values=[attribute, norm_by])\n",
    "\n",
    "  pivoted = pivoted[attribute]/pivoted[norm_by]\n",
    "\n",
    "  distances, indices = getNearest(pivoted, num+1)\n",
    "  id_ = pivoted.index.tolist().index(state)\n",
    "  neighbors = indices[id_]\n",
    "  distances = distances[id_]\n",
    "\n",
    "  return pivoted.index[neighbors].tolist(), distances"
   ]
  },
  {
   "cell_type": "code",
   "execution_count": null,
   "metadata": {
    "colab": {
     "base_uri": "https://localhost:8080/",
     "height": 34
    },
    "colab_type": "code",
    "id": "MxUBKfYu_sl_",
    "outputId": "787b722b-1090-4adc-bf71-7986d86d8bf2"
   },
   "outputs": [],
   "source": [
    "%%timeit\n",
    "getSimilarStates(data, state, attribute, yearRange, norm_by)"
   ]
  },
  {
   "cell_type": "code",
   "execution_count": null,
   "metadata": {
    "colab": {},
    "colab_type": "code",
    "id": "LrCgIPdA_su8"
   },
   "outputs": [],
   "source": [
    "def getSimilarStates(df, place, attribute, year_range, norm_by, num=1):\n",
    "  pivoted = df.pivot_table(index='Name', columns='Year', values=[attribute, norm_by])\n",
    "\n",
    "  pivoted = pivoted[attribute]/pivoted[norm_by]\n",
    "\n",
    "  distances, indices = getNearest2(pivoted, pivoted.loc[place][np.newaxis, :], num+1)\n",
    "\n",
    "  return pivoted.index[indices].tolist(), distances  "
   ]
  },
  {
   "cell_type": "code",
   "execution_count": null,
   "metadata": {
    "colab": {
     "base_uri": "https://localhost:8080/",
     "height": 34
    },
    "colab_type": "code",
    "id": "K-wfwzAz_szF",
    "outputId": "dff24dcf-ab9a-4886-f0ab-ba693479cbe4"
   },
   "outputs": [],
   "source": [
    "%%timeit\n",
    "getSimilarStates(data, state, attribute, yearRange, norm_by)"
   ]
  },
  {
   "cell_type": "code",
   "execution_count": null,
   "metadata": {
    "colab": {},
    "colab_type": "code",
    "id": "PVtbvQsw_s3c"
   },
   "outputs": [],
   "source": []
  },
  {
   "cell_type": "code",
   "execution_count": null,
   "metadata": {
    "colab": {},
    "colab_type": "code",
    "id": "gyqgrJo366jZ"
   },
   "outputs": [],
   "source": [
    "def getSimilarStates2(df, state, attribute, year_range, norm_by, num=1):\n",
    "  pivoted = pd.pivot_table(df, index='Name', columns='Year', values=[attribute, norm_by])\n",
    "  temp = pivoted[attribute]/pivoted[norm_by]\n",
    "  distances, indices = getNearest(temp, num+1)\n",
    "  id_ = temp.index.tolist().index(state)\n",
    "  neighbors = indices[id_]\n",
    "  distances = distances[id_]\n",
    "\n",
    "  return pivoted.index[neighbors].tolist(), distances"
   ]
  },
  {
   "cell_type": "code",
   "execution_count": null,
   "metadata": {
    "colab": {
     "base_uri": "https://localhost:8080/",
     "height": 34
    },
    "colab_type": "code",
    "id": "LmC5yaxq6auV",
    "outputId": "75befeba-6a80-4fb1-ccd2-81c1d462411d"
   },
   "outputs": [],
   "source": []
  },
  {
   "cell_type": "code",
   "execution_count": null,
   "metadata": {
    "colab": {
     "base_uri": "https://localhost:8080/",
     "height": 34
    },
    "colab_type": "code",
    "id": "SZkoSXbZ6abN",
    "outputId": "2c1bf2fc-1b5d-4f52-87a1-0d7595532efd"
   },
   "outputs": [],
   "source": [
    "%%timeit\n",
    "getSimilarStates2(data, state, attribute, yearRange, norm_by)"
   ]
  },
  {
   "cell_type": "code",
   "execution_count": null,
   "metadata": {
    "colab": {},
    "colab_type": "code",
    "id": "Tvr4cN8PBvrA"
   },
   "outputs": [],
   "source": [
    "def getSimilarStates_norm(state, attribute, norm_by, num=1):\n",
    "  df = data[['Year', 'Name'] + [attribute]]\n",
    "  df_norm = data[['Year', 'Name'] + [norm_by]]\n",
    "\n",
    "  pivoted = df.pivot_table(index='State', columns='Year', values=attribute)\n",
    "  pivoted_norm = df_norm.pivot_table(index='State', columns='Year', values=norm_by)\n",
    "\n",
    "  pivoted = pivoted.sort_index()\n",
    "  pivoted_norm = pivoted_norm.sort_index()\n",
    "    \n",
    "  pivoted = pivoted/pivoted_norm\n",
    "\n",
    "  distances, indices = getNearest(pivoted, num+1)\n",
    "  id_ = pivoted.index.tolist().index(state)\n",
    "  neighbors = indices[id_]\n",
    "  distances = distances[id_]\n",
    "\n",
    "  return pivoted.index[neighbors].tolist(), distances"
   ]
  },
  {
   "cell_type": "code",
   "execution_count": null,
   "metadata": {
    "colab": {},
    "colab_type": "code",
    "id": "ojnZyInQNFnz"
   },
   "outputs": [],
   "source": [
    "def getSimilarStates_norm_yearRange(state, attribute, norm_by, years, num=1):\n",
    "  df = data[(years[0] <= data['Year']) & (data['Year'] <= years[1])]\n",
    "  df = data[['Year', 'State'] + [attribute, norm_by]]\n",
    "\n",
    "  pivoted = df.pivot_table(index='State', columns='Year', values=attribute)\n",
    "  pivoted_norm = df.pivot_table(index='State', columns='Year', values=norm_by)\n",
    "\n",
    "  pivoted = pivoted.sort_index()\n",
    "  pivoted_norm = pivoted_norm.sort_index()\n",
    "    \n",
    "  pivoted = pivoted/pivoted_norm\n",
    "\n",
    "  distances, indices = getNearest(pivoted, num+1)\n",
    "  id_ = pivoted.index.tolist().index(state)\n",
    "  neighbors = indices[id_]\n",
    "  distances = distances[id_]\n",
    "\n",
    "  return pivoted.index[neighbors].tolist(), distances"
   ]
  },
  {
   "cell_type": "code",
   "execution_count": null,
   "metadata": {
    "colab": {},
    "colab_type": "code",
    "id": "wCUQ9jP4ixvO"
   },
   "outputs": [],
   "source": [
    "# def plotting(states, attribute):\n",
    "#   for state in states:\n",
    "#     plt.plot(data['Year'].drop_duplicates(), data[data['State']==state][attribute])\n",
    "# #   plt.title(states[0])\n",
    "#   plt.legend(states)\n",
    "#   plt.xlabel('Year')\n",
    "#   plt.ylabel(attribute)\n",
    "#   plt.show()"
   ]
  },
  {
   "cell_type": "code",
   "execution_count": null,
   "metadata": {
    "colab": {},
    "colab_type": "code",
    "id": "T0AhkIVCGY68"
   },
   "outputs": [],
   "source": [
    "def plotting(states, attribute, norm_by=None):\n",
    "  for state in states:\n",
    "    if norm_by:\n",
    "      df = data[data['State']==state][[attribute, norm_by]]\n",
    "      df = df[attribute]/df[norm_by]\n",
    "    else:\n",
    "      df = data[data['State']==state][attribute]\n",
    "    \n",
    "    plt.plot(data['Year'].drop_duplicates(), df)\n",
    "#   plt.title(states[0])\n",
    "  plt.legend(states)\n",
    "  plt.xlabel('Year')\n",
    "  plt.ylabel(attribute)\n",
    "  plt.show()"
   ]
  },
  {
   "cell_type": "markdown",
   "metadata": {
    "colab_type": "text",
    "id": "iAstldsMOtVv"
   },
   "source": [
    "### Finding similarity based on time series for a multiple attributes"
   ]
  },
  {
   "cell_type": "code",
   "execution_count": null,
   "metadata": {
    "colab": {},
    "colab_type": "code",
    "id": "uJd3PsOARZSs"
   },
   "outputs": [],
   "source": [
    "def getSimilarStates_multiAtt_multiYear(state, attributes, years=None, num=1):\n",
    "  if years:\n",
    "    df = data[(years[0] <= data['Year']) & (data['Year'] <= years[1])]\n",
    "  else:\n",
    "    df = data\n",
    "    \n",
    "  df = df[['Year', 'State'] + attributes]\n",
    "  pivoted = pd.pivot_table(df, index='State', columns='Year')\n",
    "  pivoted = pivoted.sort_index()\n",
    "  distances, indices = getNearest(pivoted, num+1)\n",
    "  id_ = pivoted.index.tolist().index(state)\n",
    "  neighbors = indices[id_]\n",
    "  distances = distances[id_]\n",
    "\n",
    "  return pivoted.index[neighbors].tolist(), distances"
   ]
  },
  {
   "cell_type": "code",
   "execution_count": null,
   "metadata": {
    "colab": {},
    "colab_type": "code",
    "id": "Crht9yEAQRwG"
   },
   "outputs": [],
   "source": [
    "state = 'SOUTH CAROLINA'\n",
    "attributes = ['Total_Revenue', 'Total_Taxes', 'Total_Expenditure']\n",
    "years = None#[2000, 2005]"
   ]
  },
  {
   "cell_type": "code",
   "execution_count": null,
   "metadata": {
    "colab": {
     "base_uri": "https://localhost:8080/",
     "height": 34
    },
    "colab_type": "code",
    "id": "YAulCjI6T9Au",
    "outputId": "910e2ee8-f3f6-4d27-ec9f-aa42e677fa35"
   },
   "outputs": [],
   "source": [
    "similar, _ = getSimilarStates_multiAtt_multiYear(state, attributes, years=years, num=3) \n",
    "print(similar[0], '->', similar[1:])"
   ]
  },
  {
   "cell_type": "code",
   "execution_count": null,
   "metadata": {
    "colab": {
     "base_uri": "https://localhost:8080/",
     "height": 1052
    },
    "colab_type": "code",
    "id": "FmuZUnwzQ_u5",
    "outputId": "5cd6949c-7f77-4946-dfe2-5a53321d0c9a"
   },
   "outputs": [],
   "source": [
    "for attribute in attributes:\n",
    "  for state in similar:\n",
    "    df = data\n",
    "    if years:\n",
    "      df = df[(df['Year']>=years[0]) & (df['Year']<=years[1])]\n",
    "    plt.plot(df[df['State']==state]['Year'], df[df['State']==state][attribute])\n",
    "  plt.title(attribute)\n",
    "  plt.legend(similar)\n",
    "  plt.show()"
   ]
  },
  {
   "cell_type": "code",
   "execution_count": null,
   "metadata": {
    "colab": {},
    "colab_type": "code",
    "id": "m0lb8fWkTGAb"
   },
   "outputs": [],
   "source": []
  },
  {
   "cell_type": "code",
   "execution_count": null,
   "metadata": {
    "colab": {},
    "colab_type": "code",
    "id": "Xkw3pgXeTF5b"
   },
   "outputs": [],
   "source": []
  },
  {
   "cell_type": "code",
   "execution_count": null,
   "metadata": {
    "colab": {},
    "colab_type": "code",
    "id": "LZ6aqXCRTFyI"
   },
   "outputs": [],
   "source": []
  },
  {
   "cell_type": "code",
   "execution_count": null,
   "metadata": {
    "colab": {},
    "colab_type": "code",
    "id": "r3cmnZhJQDM2"
   },
   "outputs": [],
   "source": []
  },
  {
   "cell_type": "code",
   "execution_count": null,
   "metadata": {
    "colab": {},
    "colab_type": "code",
    "id": "SA07qcQTPbGo"
   },
   "outputs": [],
   "source": []
  },
  {
   "cell_type": "code",
   "execution_count": null,
   "metadata": {
    "colab": {},
    "colab_type": "code",
    "id": "5KSP6jXqPwet"
   },
   "outputs": [],
   "source": []
  },
  {
   "cell_type": "code",
   "execution_count": null,
   "metadata": {
    "colab": {
     "base_uri": "https://localhost:8080/",
     "height": 1052
    },
    "colab_type": "code",
    "id": "7H-7i_bWOozI",
    "outputId": "d26fd298-4d5b-420a-b3fd-04d57f45eb58"
   },
   "outputs": [],
   "source": [
    "for attribute in attributes:\n",
    "  plt.title(attribute + ' : ' + state)\n",
    "  plt.plot(data[data['State']==state]['Year'], data[data['State']==state][attribute])\n",
    "  plt.show()"
   ]
  },
  {
   "cell_type": "code",
   "execution_count": null,
   "metadata": {
    "colab": {},
    "colab_type": "code",
    "id": "GQfFEXb7Oos1"
   },
   "outputs": [],
   "source": []
  },
  {
   "cell_type": "code",
   "execution_count": null,
   "metadata": {
    "colab": {},
    "colab_type": "code",
    "id": "2IFXPVmXOol3"
   },
   "outputs": [],
   "source": []
  },
  {
   "cell_type": "code",
   "execution_count": null,
   "metadata": {
    "colab": {},
    "colab_type": "code",
    "id": "KHyLk2bEOodI"
   },
   "outputs": [],
   "source": []
  },
  {
   "cell_type": "markdown",
   "metadata": {
    "colab_type": "text",
    "id": "tqxCV4r1OoW3"
   },
   "source": [
    "### Finding similarity based on time series for a particular attribute"
   ]
  },
  {
   "cell_type": "code",
   "execution_count": null,
   "metadata": {
    "colab": {
     "base_uri": "https://localhost:8080/",
     "height": 34
    },
    "colab_type": "code",
    "id": "8dJMJDJeWTJu",
    "outputId": "a625bee8-b482-4c8c-9f7e-9a3d035d9184"
   },
   "outputs": [],
   "source": [
    "[state for state in data['State'].drop_duplicates() if 'wa' in state.lower()]"
   ]
  },
  {
   "cell_type": "code",
   "execution_count": null,
   "metadata": {
    "colab": {
     "base_uri": "https://localhost:8080/",
     "height": 34
    },
    "colab_type": "code",
    "id": "8UzON-8ABc_K",
    "outputId": "4c9c2f51-a4b8-494d-ba74-44e2605ecf68"
   },
   "outputs": [],
   "source": [
    "# [key for key in keys if 'total_' in key.lower()]\n",
    "[key for key in keys if key.startswith('Total_R')]"
   ]
  },
  {
   "cell_type": "code",
   "execution_count": null,
   "metadata": {
    "colab": {},
    "colab_type": "code",
    "id": "eQAqzfiVCBXC"
   },
   "outputs": [],
   "source": [
    "attribute = 'Total_Expenditure'\n",
    "# attribute = 'Total_Taxes'\n",
    "\n",
    "# norm_by = 'Population'\n",
    "norm_by = 'Total_Revenue'\n",
    "\n",
    "state = 'ALABAMA'\n",
    "# state = 'WASHINGTON'"
   ]
  },
  {
   "cell_type": "code",
   "execution_count": null,
   "metadata": {
    "colab": {
     "base_uri": "https://localhost:8080/",
     "height": 71
    },
    "colab_type": "code",
    "id": "T_8IRITSgPyP",
    "outputId": "861c98e1-afde-47c9-a979-27b56ac7e514"
   },
   "outputs": [],
   "source": [
    "similar_states, dist = getSimilarStates(state, attribute, num=1)\n",
    "print('States similar to', state, 'with respect to', attribute, 'are', similar_states[1:])\n",
    "\n",
    "similar_states_norm, dist_norm = getSimilarStates_norm(state, attribute, norm_by, num=5)\n",
    "print('States similar to', state, 'with respect to', attribute, 'normalized by', norm_by, 'are', similar_states_norm[1:])"
   ]
  },
  {
   "cell_type": "code",
   "execution_count": null,
   "metadata": {
    "colab": {
     "base_uri": "https://localhost:8080/",
     "height": 361
    },
    "colab_type": "code",
    "id": "D8MRuRc9GJjO",
    "outputId": "2f488ece-f19b-4562-87c7-a8f3a960f8f0"
   },
   "outputs": [],
   "source": [
    "plotting(similar_states, attribute, norm_by)"
   ]
  },
  {
   "cell_type": "code",
   "execution_count": null,
   "metadata": {
    "colab": {
     "base_uri": "https://localhost:8080/",
     "height": 805
    },
    "colab_type": "code",
    "id": "tfiFUJjlKk7a",
    "outputId": "15c0de53-50b1-4e4a-f57b-6242f0252ad8"
   },
   "outputs": [],
   "source": [
    "plotting(data['State'].drop_duplicates(), attribute, norm_by)"
   ]
  },
  {
   "cell_type": "code",
   "execution_count": null,
   "metadata": {
    "colab": {},
    "colab_type": "code",
    "id": "6zgkjcA1Kk1K"
   },
   "outputs": [],
   "source": []
  },
  {
   "cell_type": "code",
   "execution_count": null,
   "metadata": {
    "colab": {},
    "colab_type": "code",
    "id": "0FzhNtX5Kkuc"
   },
   "outputs": [],
   "source": []
  },
  {
   "cell_type": "code",
   "execution_count": null,
   "metadata": {
    "colab": {},
    "colab_type": "code",
    "id": "zxTQGYrNKknf"
   },
   "outputs": [],
   "source": []
  },
  {
   "cell_type": "code",
   "execution_count": null,
   "metadata": {
    "colab": {},
    "colab_type": "code",
    "id": "xRJANE9EEeWj"
   },
   "outputs": [],
   "source": [
    "get(similar_states, attribute, norm, [2000, 2015])"
   ]
  },
  {
   "cell_type": "code",
   "execution_count": null,
   "metadata": {
    "colab": {
     "base_uri": "https://localhost:8080/",
     "height": 361
    },
    "colab_type": "code",
    "id": "-pMbqEGeGbik",
    "outputId": "76836b75-12b5-4d1a-a491-d9cc3f398ac6"
   },
   "outputs": [],
   "source": [
    "states = similar_states\n",
    "for state in states:\n",
    "  plt.plot(data['Year'].drop_duplicates(), data[data['State']==state][attribute]/data[data['State']==state][norm_by])\n",
    "#   plt.title(states[0])\n",
    "plt.legend(states)\n",
    "plt.xlabel('Year')\n",
    "plt.ylabel(attribute)\n",
    "plt.show()\n",
    "  \n",
    "del states"
   ]
  },
  {
   "cell_type": "markdown",
   "metadata": {
    "colab_type": "text",
    "id": "IwFh3oHIjmb2"
   },
   "source": [
    "### Finding similarity for single year"
   ]
  },
  {
   "cell_type": "code",
   "execution_count": null,
   "metadata": {
    "colab": {
     "base_uri": "https://localhost:8080/",
     "height": 153
    },
    "colab_type": "code",
    "id": "3NwI75crudFo",
    "outputId": "e00460c2-2764-4745-c38c-dff38b43f4cd"
   },
   "outputs": [],
   "source": [
    "keyword = 'health'\n",
    "\n",
    "# attributes_ = ['Total_Revenue']\n",
    "attributes_ = [key for key in keys if keyword in key.lower()]\n",
    "attributes_"
   ]
  },
  {
   "cell_type": "code",
   "execution_count": null,
   "metadata": {
    "colab": {
     "base_uri": "https://localhost:8080/",
     "height": 734
    },
    "colab_type": "code",
    "id": "hssQRZ8zjmPo",
    "outputId": "c64f3b0b-ca2d-435b-f9ac-6ef84fe13485"
   },
   "outputs": [],
   "source": [
    "state = 'ARIZONA'\n",
    "# state = 'COLORADO'\n",
    "# state = 'HAWAII'\n",
    "# state = 'WASHINGTON'\n",
    "# state = 'ALABAMA'\n",
    "\n",
    "print('In terms of', attributes_, ':')\n",
    "for y in range(1977, 2017):\n",
    "  similar_states = getSimilarStates_multi(state, attributes_, y, num=1)\n",
    "  print(similar_states[0], 'was similar to', similar_states[1:], 'in the year', y)"
   ]
  },
  {
   "cell_type": "code",
   "execution_count": null,
   "metadata": {
    "colab": {},
    "colab_type": "code",
    "id": "yqEXJMDv8MLk"
   },
   "outputs": [],
   "source": []
  },
  {
   "cell_type": "code",
   "execution_count": null,
   "metadata": {
    "colab": {
     "base_uri": "https://localhost:8080/",
     "height": 111
    },
    "colab_type": "code",
    "id": "cxcw7qJMxiG9",
    "outputId": "0ddb5bee-eec5-4bdc-b9ec-18099208bf98"
   },
   "outputs": [],
   "source": [
    "data[(data['Year']==2016) & (data['State'].isin(similar_states))][attributes_]"
   ]
  },
  {
   "cell_type": "code",
   "execution_count": null,
   "metadata": {
    "colab": {},
    "colab_type": "code",
    "id": "cPI_6YSgxh-E"
   },
   "outputs": [],
   "source": []
  },
  {
   "cell_type": "code",
   "execution_count": null,
   "metadata": {
    "colab": {},
    "colab_type": "code",
    "id": "UcuFD7Zc9ffV"
   },
   "outputs": [],
   "source": [
    "###"
   ]
  },
  {
   "cell_type": "code",
   "execution_count": null,
   "metadata": {
    "colab": {
     "base_uri": "https://localhost:8080/",
     "height": 34
    },
    "colab_type": "code",
    "id": "bRMIPyLU9mE6",
    "outputId": "e2ddc440-4b7c-4a01-c37a-50063c0c4540"
   },
   "outputs": [],
   "source": [
    "[key for key in keys if 'income' in key.lower()]"
   ]
  },
  {
   "cell_type": "code",
   "execution_count": null,
   "metadata": {
    "colab": {
     "base_uri": "https://localhost:8080/",
     "height": 901
    },
    "colab_type": "code",
    "id": "anqebPM-9fqK",
    "outputId": "458c5a7e-bd8a-451d-8c03-1e952b4e639e"
   },
   "outputs": [],
   "source": [
    "attribute = 'Total_Income_Taxes'\n",
    "\n",
    "print('With respect to', attribute, ':')\n",
    "for state in data['State'].sort_values().drop_duplicates():\n",
    "  similar_states = getSimilarStates(state, attribute, 2)\n",
    "  print(state, 'is most similar to', similar_states[1:])\n",
    "#   plotting(similar_states, attribute)"
   ]
  },
  {
   "cell_type": "code",
   "execution_count": null,
   "metadata": {
    "colab": {},
    "colab_type": "code",
    "id": "e6suGfALLDF0"
   },
   "outputs": [],
   "source": []
  },
  {
   "cell_type": "code",
   "execution_count": null,
   "metadata": {
    "colab": {},
    "colab_type": "code",
    "id": "Y0QFftpnLDem"
   },
   "outputs": [],
   "source": [
    "state = 'ALABAMA'\n",
    "attribute = 'Property_Tax'"
   ]
  },
  {
   "cell_type": "code",
   "execution_count": null,
   "metadata": {
    "colab": {},
    "colab_type": "code",
    "id": "TycHRGOLaCaE"
   },
   "outputs": [],
   "source": [
    "def clean_data(attribute):\n",
    "  df = data.pivot_table(index='State', columns='Year', values=attribute).sort_index()\n",
    "  a = df.astype(bool).sum(axis=1)\n",
    "  df = df.drop(index=a[a<10].index)\n",
    "  df = df.replace(0, np.nan)\n",
    "  df.iloc[:, 0] = df.iloc[:, 0].fillna(0)\n",
    "  df = df.interpolate()\n",
    "  df = df.fillna(0)\n",
    "  return df"
   ]
  },
  {
   "cell_type": "code",
   "execution_count": null,
   "metadata": {
    "colab": {},
    "colab_type": "code",
    "id": "a9-YfMDxHFp8"
   },
   "outputs": [],
   "source": [
    "# state = 'ALABAMA'\n",
    "\n",
    "attribute = 'Property_Tax'\n",
    "# attribute = 'Total_Income_Taxes'\n",
    "# attribute = 'Tot_Sales___Gr_Rec_Tax'\n",
    "\n",
    "num = 1"
   ]
  },
  {
   "cell_type": "code",
   "execution_count": null,
   "metadata": {
    "colab": {
     "base_uri": "https://localhost:8080/",
     "height": 379
    },
    "colab_type": "code",
    "id": "Qvyxgc8mhcGg",
    "outputId": "0ccf1f1c-872d-41c5-b3b0-40c6b06cd473"
   },
   "outputs": [],
   "source": [
    "df.loc['COLORADO'].plot()"
   ]
  },
  {
   "cell_type": "code",
   "execution_count": null,
   "metadata": {
    "colab": {
     "base_uri": "https://localhost:8080/",
     "height": 14829
    },
    "colab_type": "code",
    "id": "FyZU8j8MHWqI",
    "outputId": "dd14093c-978f-4bf7-a5c6-e9feea2a0aca"
   },
   "outputs": [],
   "source": [
    "print('With respect to', attribute, ':')\n",
    "df = clean_data(attribute)\n",
    "for state in df.index.tolist():\n",
    "  indices = getNearest(df, num+1)\n",
    "  id_ = df.index.tolist().index(state)\n",
    "  neighbors = indices[id_]\n",
    "  similar_states = df.index[neighbors].tolist()\n",
    "#   print(state, 'is most similar to', similar_states[1:])\n",
    "  plotting(similar_states, attribute)"
   ]
  },
  {
   "cell_type": "code",
   "execution_count": null,
   "metadata": {
    "colab": {},
    "colab_type": "code",
    "id": "QkUL4uOfITZA"
   },
   "outputs": [],
   "source": []
  },
  {
   "cell_type": "code",
   "execution_count": null,
   "metadata": {
    "colab": {},
    "colab_type": "code",
    "id": "UwGFe6FaJfQO"
   },
   "outputs": [],
   "source": []
  },
  {
   "cell_type": "code",
   "execution_count": null,
   "metadata": {
    "colab": {},
    "colab_type": "code",
    "id": "M3ey7TeAHWbX"
   },
   "outputs": [],
   "source": []
  },
  {
   "cell_type": "code",
   "execution_count": null,
   "metadata": {
    "colab": {},
    "colab_type": "code",
    "id": "fDnxAZW_Hfsa"
   },
   "outputs": [],
   "source": []
  },
  {
   "cell_type": "code",
   "execution_count": null,
   "metadata": {
    "colab": {},
    "colab_type": "code",
    "id": "x7HdByIyHWCB"
   },
   "outputs": [],
   "source": []
  },
  {
   "cell_type": "code",
   "execution_count": null,
   "metadata": {
    "colab": {},
    "colab_type": "code",
    "id": "be8vWmRoEw1i"
   },
   "outputs": [],
   "source": []
  },
  {
   "cell_type": "code",
   "execution_count": null,
   "metadata": {
    "colab": {},
    "colab_type": "code",
    "id": "JSF00XwHEnEp"
   },
   "outputs": [],
   "source": []
  }
 ],
 "metadata": {
  "colab": {
   "collapsed_sections": [],
   "include_colab_link": true,
   "name": "ASD_clustering2.ipynb",
   "provenance": [],
   "toc_visible": true,
   "version": "0.3.2"
  },
  "kernelspec": {
   "display_name": "Python 3",
   "language": "python",
   "name": "python3"
  },
  "language_info": {
   "codemirror_mode": {
    "name": "ipython",
    "version": 3
   },
   "file_extension": ".py",
   "mimetype": "text/x-python",
   "name": "python",
   "nbconvert_exporter": "python",
   "pygments_lexer": "ipython3",
   "version": "3.5.5"
  }
 },
 "nbformat": 4,
 "nbformat_minor": 1
}
