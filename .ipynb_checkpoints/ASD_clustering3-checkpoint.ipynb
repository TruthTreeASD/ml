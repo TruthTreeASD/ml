{
 "cells": [
  {
   "cell_type": "markdown",
   "metadata": {
    "colab_type": "text",
    "id": "view-in-github"
   },
   "source": [
    "<a href=\"https://colab.research.google.com/github/TruthTreeASD/ml/blob/apar/ASD_clustering2.ipynb\" target=\"_parent\"><img src=\"https://colab.research.google.com/assets/colab-badge.svg\" alt=\"Open In Colab\"/></a>"
   ]
  },
  {
   "cell_type": "code",
   "execution_count": 1,
   "metadata": {
    "colab": {},
    "colab_type": "code",
    "id": "No6WmmKkN1gG"
   },
   "outputs": [],
   "source": [
    "import pandas as pd\n",
    "import numpy as np\n",
    "from sklearn.neighbors import NearestNeighbors\n",
    "import matplotlib.pyplot as plt\n",
    "import os"
   ]
  },
  {
   "cell_type": "code",
   "execution_count": 39,
   "metadata": {
    "colab": {
     "base_uri": "https://localhost:8080/",
     "height": 355
    },
    "colab_type": "code",
    "id": "IfOZn4BBOdKs",
    "outputId": "c72e1555-dc70-435a-d7dd-acd3096c0a6d"
   },
   "outputs": [
    {
     "name": "stdout",
     "output_type": "stream",
     "text": [
      "(2098, 330)\n"
     ]
    },
    {
     "data": {
      "text/html": [
       "<div>\n",
       "<style scoped>\n",
       "    .dataframe tbody tr th:only-of-type {\n",
       "        vertical-align: middle;\n",
       "    }\n",
       "\n",
       "    .dataframe tbody tr th {\n",
       "        vertical-align: top;\n",
       "    }\n",
       "\n",
       "    .dataframe thead th {\n",
       "        text-align: right;\n",
       "    }\n",
       "</style>\n",
       "<table border=\"1\" class=\"dataframe\">\n",
       "  <thead>\n",
       "    <tr style=\"text-align: right;\">\n",
       "      <th></th>\n",
       "      <th>Unnamed: 0</th>\n",
       "      <th>year</th>\n",
       "      <th>id</th>\n",
       "      <th>population</th>\n",
       "      <th>total_revenue</th>\n",
       "      <th>total_rev_own_sources</th>\n",
       "      <th>general_revenue</th>\n",
       "      <th>gen_rev_own_sources</th>\n",
       "      <th>total_taxes</th>\n",
       "      <th>property_tax</th>\n",
       "      <th>...</th>\n",
       "      <th>prop_sale_total</th>\n",
       "      <th>air_trans_current_exp</th>\n",
       "      <th>educ_nec_current_exp</th>\n",
       "      <th>emp_sec_adm_current_exp</th>\n",
       "      <th>own_hospital_current_exp</th>\n",
       "      <th>toll_hwy_current_exp</th>\n",
       "      <th>libraries_current_exp</th>\n",
       "      <th>welf_ins_current_exp</th>\n",
       "      <th>sw_mgmt_current_exp</th>\n",
       "      <th>total_util_current_exp</th>\n",
       "    </tr>\n",
       "  </thead>\n",
       "  <tbody>\n",
       "    <tr>\n",
       "      <th>0</th>\n",
       "      <td>0</td>\n",
       "      <td>2016</td>\n",
       "      <td>10000000</td>\n",
       "      <td>4858979</td>\n",
       "      <td>30172490</td>\n",
       "      <td>20650521</td>\n",
       "      <td>25288886</td>\n",
       "      <td>15766917</td>\n",
       "      <td>9919794</td>\n",
       "      <td>346277</td>\n",
       "      <td>...</td>\n",
       "      <td>0</td>\n",
       "      <td>997</td>\n",
       "      <td>340844</td>\n",
       "      <td>47216</td>\n",
       "      <td>0</td>\n",
       "      <td>0</td>\n",
       "      <td>3886</td>\n",
       "      <td>51106</td>\n",
       "      <td>0</td>\n",
       "      <td>75</td>\n",
       "    </tr>\n",
       "    <tr>\n",
       "      <th>1</th>\n",
       "      <td>1</td>\n",
       "      <td>2016</td>\n",
       "      <td>20000000</td>\n",
       "      <td>738432</td>\n",
       "      <td>8060170</td>\n",
       "      <td>5206968</td>\n",
       "      <td>7628651</td>\n",
       "      <td>4775449</td>\n",
       "      <td>1042164</td>\n",
       "      <td>111736</td>\n",
       "      <td>...</td>\n",
       "      <td>373736</td>\n",
       "      <td>143090</td>\n",
       "      <td>48476</td>\n",
       "      <td>37907</td>\n",
       "      <td>0</td>\n",
       "      <td>117890</td>\n",
       "      <td>4817</td>\n",
       "      <td>51600</td>\n",
       "      <td>0</td>\n",
       "      <td>215320</td>\n",
       "    </tr>\n",
       "    <tr>\n",
       "      <th>2</th>\n",
       "      <td>2</td>\n",
       "      <td>2016</td>\n",
       "      <td>30000000</td>\n",
       "      <td>6828065</td>\n",
       "      <td>38241052</td>\n",
       "      <td>23700590</td>\n",
       "      <td>34582961</td>\n",
       "      <td>20042499</td>\n",
       "      <td>14676375</td>\n",
       "      <td>943008</td>\n",
       "      <td>...</td>\n",
       "      <td>111677</td>\n",
       "      <td>3945</td>\n",
       "      <td>51651</td>\n",
       "      <td>0</td>\n",
       "      <td>0</td>\n",
       "      <td>0</td>\n",
       "      <td>2509</td>\n",
       "      <td>34576</td>\n",
       "      <td>1079</td>\n",
       "      <td>27802</td>\n",
       "    </tr>\n",
       "    <tr>\n",
       "      <th>3</th>\n",
       "      <td>3</td>\n",
       "      <td>2016</td>\n",
       "      <td>40000000</td>\n",
       "      <td>2978204</td>\n",
       "      <td>21431620</td>\n",
       "      <td>14000079</td>\n",
       "      <td>20346096</td>\n",
       "      <td>12914555</td>\n",
       "      <td>9452883</td>\n",
       "      <td>1119958</td>\n",
       "      <td>...</td>\n",
       "      <td>45</td>\n",
       "      <td>389</td>\n",
       "      <td>140148</td>\n",
       "      <td>93573</td>\n",
       "      <td>0</td>\n",
       "      <td>0</td>\n",
       "      <td>2527</td>\n",
       "      <td>10826</td>\n",
       "      <td>9313</td>\n",
       "      <td>4356</td>\n",
       "    </tr>\n",
       "    <tr>\n",
       "      <th>4</th>\n",
       "      <td>4</td>\n",
       "      <td>2016</td>\n",
       "      <td>50000000</td>\n",
       "      <td>39144818</td>\n",
       "      <td>322332307</td>\n",
       "      <td>227996024</td>\n",
       "      <td>282907926</td>\n",
       "      <td>188571643</td>\n",
       "      <td>155231252</td>\n",
       "      <td>2513157</td>\n",
       "      <td>...</td>\n",
       "      <td>8749</td>\n",
       "      <td>4462</td>\n",
       "      <td>1042836</td>\n",
       "      <td>307593</td>\n",
       "      <td>0</td>\n",
       "      <td>0</td>\n",
       "      <td>23242</td>\n",
       "      <td>325039</td>\n",
       "      <td>560662</td>\n",
       "      <td>482860</td>\n",
       "    </tr>\n",
       "  </tbody>\n",
       "</table>\n",
       "<p>5 rows × 330 columns</p>\n",
       "</div>"
      ],
      "text/plain": [
       "   Unnamed: 0  year        id  population  total_revenue  \\\n",
       "0           0  2016  10000000     4858979       30172490   \n",
       "1           1  2016  20000000      738432        8060170   \n",
       "2           2  2016  30000000     6828065       38241052   \n",
       "3           3  2016  40000000     2978204       21431620   \n",
       "4           4  2016  50000000    39144818      322332307   \n",
       "\n",
       "   total_rev_own_sources  general_revenue  gen_rev_own_sources  total_taxes  \\\n",
       "0               20650521         25288886             15766917      9919794   \n",
       "1                5206968          7628651              4775449      1042164   \n",
       "2               23700590         34582961             20042499     14676375   \n",
       "3               14000079         20346096             12914555      9452883   \n",
       "4              227996024        282907926            188571643    155231252   \n",
       "\n",
       "   property_tax           ...            prop_sale_total  \\\n",
       "0        346277           ...                          0   \n",
       "1        111736           ...                     373736   \n",
       "2        943008           ...                     111677   \n",
       "3       1119958           ...                         45   \n",
       "4       2513157           ...                       8749   \n",
       "\n",
       "   air_trans_current_exp  educ_nec_current_exp  emp_sec_adm_current_exp  \\\n",
       "0                    997                340844                    47216   \n",
       "1                 143090                 48476                    37907   \n",
       "2                   3945                 51651                        0   \n",
       "3                    389                140148                    93573   \n",
       "4                   4462               1042836                   307593   \n",
       "\n",
       "   own_hospital_current_exp  toll_hwy_current_exp  libraries_current_exp  \\\n",
       "0                         0                     0                   3886   \n",
       "1                         0                117890                   4817   \n",
       "2                         0                     0                   2509   \n",
       "3                         0                     0                   2527   \n",
       "4                         0                     0                  23242   \n",
       "\n",
       "   welf_ins_current_exp  sw_mgmt_current_exp  total_util_current_exp  \n",
       "0                 51106                    0                      75  \n",
       "1                 51600                    0                  215320  \n",
       "2                 34576                 1079                   27802  \n",
       "3                 10826                 9313                    4356  \n",
       "4                325039               560662                  482860  \n",
       "\n",
       "[5 rows x 330 columns]"
      ]
     },
     "execution_count": 39,
     "metadata": {},
     "output_type": "execute_result"
    }
   ],
   "source": [
    "data_folder = '../../data'\n",
    "filename = 'RECleaned_StateData3.csv'\n",
    "data = pd.read_csv(os.path.join(data_folder, filename))\n",
    "print(data.shape)\n",
    "data.head()"
   ]
  },
  {
   "cell_type": "code",
   "execution_count": 40,
   "metadata": {
    "colab": {
     "base_uri": "https://localhost:8080/",
     "height": 2000
    },
    "colab_type": "code",
    "id": "842C1SubWdyX",
    "outputId": "5ade381c-ce0e-4786-804c-44b75f478ea3"
   },
   "outputs": [
    {
     "data": {
      "text/html": [
       "<div>\n",
       "<style scoped>\n",
       "    .dataframe tbody tr th:only-of-type {\n",
       "        vertical-align: middle;\n",
       "    }\n",
       "\n",
       "    .dataframe tbody tr th {\n",
       "        vertical-align: top;\n",
       "    }\n",
       "\n",
       "    .dataframe thead th {\n",
       "        text-align: right;\n",
       "    }\n",
       "</style>\n",
       "<table border=\"1\" class=\"dataframe\">\n",
       "  <thead>\n",
       "    <tr style=\"text-align: right;\">\n",
       "      <th></th>\n",
       "      <th>year</th>\n",
       "      <th>id</th>\n",
       "      <th>population</th>\n",
       "      <th>total_revenue</th>\n",
       "      <th>total_rev_own_sources</th>\n",
       "      <th>general_revenue</th>\n",
       "      <th>gen_rev_own_sources</th>\n",
       "      <th>total_taxes</th>\n",
       "      <th>property_tax</th>\n",
       "      <th>tot_sales___gr_rec_tax</th>\n",
       "      <th>...</th>\n",
       "      <th>prop_sale_total</th>\n",
       "      <th>air_trans_current_exp</th>\n",
       "      <th>educ_nec_current_exp</th>\n",
       "      <th>emp_sec_adm_current_exp</th>\n",
       "      <th>own_hospital_current_exp</th>\n",
       "      <th>toll_hwy_current_exp</th>\n",
       "      <th>libraries_current_exp</th>\n",
       "      <th>welf_ins_current_exp</th>\n",
       "      <th>sw_mgmt_current_exp</th>\n",
       "      <th>total_util_current_exp</th>\n",
       "    </tr>\n",
       "  </thead>\n",
       "  <tbody>\n",
       "    <tr>\n",
       "      <th>0</th>\n",
       "      <td>2016</td>\n",
       "      <td>10000000</td>\n",
       "      <td>4858979</td>\n",
       "      <td>30172490</td>\n",
       "      <td>20650521</td>\n",
       "      <td>25288886</td>\n",
       "      <td>15766917</td>\n",
       "      <td>9919794</td>\n",
       "      <td>346277</td>\n",
       "      <td>5106102</td>\n",
       "      <td>...</td>\n",
       "      <td>0</td>\n",
       "      <td>997</td>\n",
       "      <td>340844</td>\n",
       "      <td>47216</td>\n",
       "      <td>0</td>\n",
       "      <td>0</td>\n",
       "      <td>3886</td>\n",
       "      <td>51106</td>\n",
       "      <td>0</td>\n",
       "      <td>75</td>\n",
       "    </tr>\n",
       "  </tbody>\n",
       "</table>\n",
       "<p>1 rows × 329 columns</p>\n",
       "</div>"
      ],
      "text/plain": [
       "   year        id  population  total_revenue  total_rev_own_sources  \\\n",
       "0  2016  10000000     4858979       30172490               20650521   \n",
       "\n",
       "   general_revenue  gen_rev_own_sources  total_taxes  property_tax  \\\n",
       "0         25288886             15766917      9919794        346277   \n",
       "\n",
       "   tot_sales___gr_rec_tax           ...            prop_sale_total  \\\n",
       "0                 5106102           ...                          0   \n",
       "\n",
       "   air_trans_current_exp  educ_nec_current_exp  emp_sec_adm_current_exp  \\\n",
       "0                    997                340844                    47216   \n",
       "\n",
       "   own_hospital_current_exp  toll_hwy_current_exp  libraries_current_exp  \\\n",
       "0                         0                     0                   3886   \n",
       "\n",
       "   welf_ins_current_exp  sw_mgmt_current_exp  total_util_current_exp  \n",
       "0                 51106                    0                      75  \n",
       "\n",
       "[1 rows x 329 columns]"
      ]
     },
     "execution_count": 40,
     "metadata": {},
     "output_type": "execute_result"
    }
   ],
   "source": [
    "data = data.drop(columns=['Unnamed: 0'])\n",
    "data.head(1)"
   ]
  },
  {
   "cell_type": "code",
   "execution_count": 41,
   "metadata": {},
   "outputs": [],
   "source": [
    "def convert_to_pivot(data):\n",
    "    pivoted = pd.pivot_table(data,\n",
    "                             index='id', \n",
    "                             columns='year', \n",
    "                             values=list(set(data.keys())-set(['year', 'id'])))\n",
    "\n",
    "    keys = list(set([key[0] for key in pivoted.keys()]))\n",
    "    for i, key in enumerate(keys, 1):\n",
    "        pivoted[key].iloc[:, 0] = pivoted[key].iloc[:, 0].fillna(0)\n",
    "        pivoted[key].iloc[:, -1] = pivoted[key].iloc[:, -1].fillna(0)\n",
    "#         pivoted[key] = pivoted[key].interpolate(axis=1)\n",
    "        print(np.round(i/len(keys), 2), end='\\r')\n",
    "    pivoted = pivoted.interpolate(axis=1)\n",
    "\n",
    "    print(' DONE !')\n",
    "    return pivoted"
   ]
  },
  {
   "cell_type": "code",
   "execution_count": 42,
   "metadata": {},
   "outputs": [
    {
     "name": "stderr",
     "output_type": "stream",
     "text": [
      "C:\\ProgramData\\Anaconda3\\lib\\site-packages\\pandas\\core\\indexing.py:630: SettingWithCopyWarning: \n",
      "A value is trying to be set on a copy of a slice from a DataFrame.\n",
      "Try using .loc[row_indexer,col_indexer] = value instead\n",
      "\n",
      "See the caveats in the documentation: http://pandas.pydata.org/pandas-docs/stable/indexing.html#indexing-view-versus-copy\n",
      "  self.obj[item_labels[indexer[info_axis]]] = value\n"
     ]
    },
    {
     "name": "stdout",
     "output_type": "stream",
     "text": [
      " DONE !\n",
      "Wall time: 27.7 s\n"
     ]
    }
   ],
   "source": [
    "%%time\n",
    "pivoted = convert_to_pivot(data)\n",
    "pivoted.head()"
   ]
  },
  {
   "cell_type": "code",
   "execution_count": null,
   "metadata": {},
   "outputs": [],
   "source": []
  },
  {
   "cell_type": "code",
   "execution_count": 43,
   "metadata": {},
   "outputs": [
    {
     "data": {
      "text/html": [
       "<div>\n",
       "<style scoped>\n",
       "    .dataframe tbody tr th:only-of-type {\n",
       "        vertical-align: middle;\n",
       "    }\n",
       "\n",
       "    .dataframe tbody tr th {\n",
       "        vertical-align: top;\n",
       "    }\n",
       "\n",
       "    .dataframe thead th {\n",
       "        text-align: right;\n",
       "    }\n",
       "</style>\n",
       "<table border=\"1\" class=\"dataframe\">\n",
       "  <thead>\n",
       "    <tr style=\"text-align: right;\">\n",
       "      <th></th>\n",
       "      <th>id</th>\n",
       "      <th>name</th>\n",
       "    </tr>\n",
       "  </thead>\n",
       "  <tbody>\n",
       "    <tr>\n",
       "      <th>0</th>\n",
       "      <td>10000000</td>\n",
       "      <td>ALABAMA</td>\n",
       "    </tr>\n",
       "    <tr>\n",
       "      <th>1</th>\n",
       "      <td>20000000</td>\n",
       "      <td>ALASKA</td>\n",
       "    </tr>\n",
       "    <tr>\n",
       "      <th>2</th>\n",
       "      <td>30000000</td>\n",
       "      <td>ARIZONA</td>\n",
       "    </tr>\n",
       "    <tr>\n",
       "      <th>3</th>\n",
       "      <td>40000000</td>\n",
       "      <td>ARKANSAS</td>\n",
       "    </tr>\n",
       "    <tr>\n",
       "      <th>4</th>\n",
       "      <td>50000000</td>\n",
       "      <td>CALIFORNIA</td>\n",
       "    </tr>\n",
       "  </tbody>\n",
       "</table>\n",
       "</div>"
      ],
      "text/plain": [
       "         id        name\n",
       "0  10000000     ALABAMA\n",
       "1  20000000      ALASKA\n",
       "2  30000000     ARIZONA\n",
       "3  40000000    ARKANSAS\n",
       "4  50000000  CALIFORNIA"
      ]
     },
     "execution_count": 43,
     "metadata": {},
     "output_type": "execute_result"
    }
   ],
   "source": [
    "mapping = pd.read_csv(os.path.join(data_folder, 'mapping_id_name_state.csv'))\n",
    "mapping = mapping.drop(columns=['Unnamed: 0'])\n",
    "mapping.head()"
   ]
  },
  {
   "cell_type": "code",
   "execution_count": 44,
   "metadata": {
    "colab": {},
    "colab_type": "code",
    "id": "xSjWmZB5CHYp"
   },
   "outputs": [],
   "source": [
    "def getNearest(df1, df2, num):\n",
    "    nbrs = NearestNeighbors(n_neighbors=num, algorithm='auto').fit(df1)\n",
    "    distances, indices = nbrs.kneighbors(df2)\n",
    "    \n",
    "    return distances, indices\n",
    "\n",
    "def getSimilarPlaces_singleAtt_multiYear(pivoted, name_id, attribute, norm_by=None, year_range=None, num=1):\n",
    "    if norm_by:\n",
    "        df = pivoted[attribute] / pivoted[norm_by]\n",
    "    else:\n",
    "        df = pivoted[attribute]\n",
    "    df = df.replace([np.inf, -np.inf], np.nan)\n",
    "    df.iloc[:, 0] = df.iloc[:, 0].fillna(0)\n",
    "    df.iloc[:, -1] = df.iloc[:, -1].fillna(0)\n",
    "    df = df.interpolate(axis=1)\n",
    "    if year_range:\n",
    "        df = df.loc[:, year_range[0]:year_range[1]]\n",
    "    \n",
    "    distances, indices = getNearest(df, np.asarray(df.loc[name_id]).reshape(1, -1), num+1)\n",
    "    indices = indices[0]\n",
    "    \n",
    "    return df.iloc[indices].index.tolist(), distances\n",
    "\n",
    "def getSimilarPlaces_multiAtt_singleYear(pivoted, name_id, attributes, year, norm_by=None, num=1):\n",
    "    if norm_by:\n",
    "        df = pivoted[attributes] / pivoted[norm_by]\n",
    "    else:\n",
    "        df = pivoted[attributes]\n",
    "    df = df[[key for key in df.keys() if key[1]==year]]\n",
    "    df = df.replace([np.inf, -np.inf], np.nan).fillna(0)\n",
    "    distances, indices = getNearest(df, np.asarray(df.loc[name_id]).reshape(1, -1), num+1)\n",
    "    indices = indices[0]\n",
    "    \n",
    "    return df.iloc[indices].index.tolist(), distances"
   ]
  },
  {
   "cell_type": "code",
   "execution_count": 46,
   "metadata": {
    "colab": {},
    "colab_type": "code",
    "id": "tLhysH3c6o08"
   },
   "outputs": [
    {
     "name": "stdout",
     "output_type": "stream",
     "text": [
      "10000000\n"
     ]
    }
   ],
   "source": [
    "name_id = mapping[mapping['name']=='ALABAMA']['id'].iloc[0]\n",
    "print(name_id)\n",
    "attribute = 'total_expenditure'\n",
    "norm_by = 'total_revenue'\n",
    "yearRange = [2000, 2010]\n",
    "num=2"
   ]
  },
  {
   "cell_type": "code",
   "execution_count": 53,
   "metadata": {},
   "outputs": [
    {
     "data": {
      "text/plain": [
       "([10000000, 230000000], array([[0.        , 0.47435393]]))"
      ]
     },
     "execution_count": 53,
     "metadata": {},
     "output_type": "execute_result"
    }
   ],
   "source": [
    "a, _ = getSimilarPlaces_singleAtt_multiYear(pivoted, name_id, attribute, norm_by, year_range=None, num=1)\n",
    "a, _"
   ]
  },
  {
   "cell_type": "code",
   "execution_count": 54,
   "metadata": {},
   "outputs": [
    {
     "data": {
      "text/plain": [
       "['ALABAMA', 'MICHIGAN']"
      ]
     },
     "execution_count": 54,
     "metadata": {},
     "output_type": "execute_result"
    }
   ],
   "source": [
    "[mapping[mapping['id']==idx]['name'].values[0] for idx in a]"
   ]
  },
  {
   "cell_type": "code",
   "execution_count": 55,
   "metadata": {},
   "outputs": [
    {
     "data": {
      "image/png": "[encoded data removed]",
      "text/plain": [
       "<matplotlib.figure.Figure at 0x1bb8d0267b8>"
      ]
     },
     "metadata": {},
     "output_type": "display_data"
    }
   ],
   "source": [
    "for idx in a:\n",
    "    temp = pivoted[attribute].loc[idx]\n",
    "    temp /= pivoted[norm_by].loc[idx]\n",
    "#     temp = temp.loc[yearRange[0]:yearRange[1]]\n",
    "    plt.plot(temp)\n",
    "# plt.legend([mapping[mapping['id']==idx]['name'].values[0] for idx in a])"
   ]
  },
  {
   "cell_type": "code",
   "execution_count": null,
   "metadata": {},
   "outputs": [],
   "source": []
  },
  {
   "cell_type": "code",
   "execution_count": 60,
   "metadata": {},
   "outputs": [],
   "source": [
    "attributes = ['total_expenditure', 'total_revenue']\n",
    "norm_by = 'population'\n",
    "year = 2000\n",
    "num=4"
   ]
  },
  {
   "cell_type": "code",
   "execution_count": 62,
   "metadata": {},
   "outputs": [
    {
     "data": {
      "text/plain": [
       "([10000000, 170000000, 40000000, 300000000, 210000000],\n",
       " array([[0.        , 0.19106832, 0.24598289, 0.2526016 , 0.25885467]]))"
      ]
     },
     "execution_count": 62,
     "metadata": {},
     "output_type": "execute_result"
    }
   ],
   "source": [
    "a, _ = getSimilarPlaces_multiAtt_singleYear(pivoted, name_id, attributes, year, norm_by, num)\n",
    "a, _"
   ]
  },
  {
   "cell_type": "code",
   "execution_count": 63,
   "metadata": {},
   "outputs": [
    {
     "data": {
      "text/plain": [
       "['ALABAMA', 'KANSAS', 'ARKANSAS', 'NEW HAMPSHIRE', 'MARYLAND']"
      ]
     },
     "execution_count": 63,
     "metadata": {},
     "output_type": "execute_result"
    }
   ],
   "source": [
    "[mapping[mapping['id']==idx]['name'].values[0] for idx in a]"
   ]
  },
  {
   "cell_type": "code",
   "execution_count": null,
   "metadata": {},
   "outputs": [],
   "source": []
  },
  {
   "cell_type": "code",
   "execution_count": null,
   "metadata": {},
   "outputs": [],
   "source": []
  },
  {
   "cell_type": "code",
   "execution_count": null,
   "metadata": {
    "colab": {},
    "colab_type": "code",
    "id": "x7HdByIyHWCB"
   },
   "outputs": [],
   "source": []
  },
  {
   "cell_type": "code",
   "execution_count": null,
   "metadata": {
    "colab": {},
    "colab_type": "code",
    "id": "be8vWmRoEw1i"
   },
   "outputs": [],
   "source": []
  },
  {
   "cell_type": "code",
   "execution_count": null,
   "metadata": {
    "colab": {},
    "colab_type": "code",
    "id": "JSF00XwHEnEp"
   },
   "outputs": [],
   "source": []
  }
 ],
 "metadata": {
  "colab": {
   "collapsed_sections": [],
   "include_colab_link": true,
   "name": "ASD_clustering2.ipynb",
   "provenance": [],
   "toc_visible": true,
   "version": "0.3.2"
  },
  "kernelspec": {
   "display_name": "Python 3",
   "language": "python",
   "name": "python3"
  },
  "language_info": {
   "codemirror_mode": {
    "name": "ipython",
    "version": 3
   },
   "file_extension": ".py",
   "mimetype": "text/x-python",
   "name": "python",
   "nbconvert_exporter": "python",
   "pygments_lexer": "ipython3",
   "version": "3.5.5"
  }
 },
 "nbformat": 4,
 "nbformat_minor": 1
}
