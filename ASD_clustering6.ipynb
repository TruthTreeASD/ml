{
 "cells": [
  {
   "cell_type": "markdown",
   "metadata": {
    "colab_type": "text",
    "id": "view-in-github"
   },
   "source": [
    "<a href=\"https://colab.research.google.com/github/TruthTreeASD/ml/blob/apar/ASD_clustering2.ipynb\" target=\"_parent\"><img src=\"https://colab.research.google.com/assets/colab-badge.svg\" alt=\"Open In Colab\"/></a>"
   ]
  },
  {
   "cell_type": "code",
   "execution_count": 1,
   "metadata": {
    "colab": {},
    "colab_type": "code",
    "id": "No6WmmKkN1gG"
   },
   "outputs": [],
   "source": [
    "import pandas as pd\n",
    "import numpy as np\n",
    "from sklearn.neighbors import NearestNeighbors\n",
    "import matplotlib.pyplot as plt\n",
    "import os"
   ]
  },
  {
   "cell_type": "code",
   "execution_count": 2,
   "metadata": {
    "colab": {
     "base_uri": "https://localhost:8080/",
     "height": 355
    },
    "colab_type": "code",
    "id": "IfOZn4BBOdKs",
    "outputId": "c72e1555-dc70-435a-d7dd-acd3096c0a6d"
   },
   "outputs": [
    {
     "name": "stdout",
     "output_type": "stream",
     "text": [
      "(2098, 329)\n"
     ]
    },
    {
     "data": {
      "text/html": [
       "<div>\n",
       "<style scoped>\n",
       "    .dataframe tbody tr th:only-of-type {\n",
       "        vertical-align: middle;\n",
       "    }\n",
       "\n",
       "    .dataframe tbody tr th {\n",
       "        vertical-align: top;\n",
       "    }\n",
       "\n",
       "    .dataframe thead th {\n",
       "        text-align: right;\n",
       "    }\n",
       "</style>\n",
       "<table border=\"1\" class=\"dataframe\">\n",
       "  <thead>\n",
       "    <tr style=\"text-align: right;\">\n",
       "      <th></th>\n",
       "      <th>year</th>\n",
       "      <th>id</th>\n",
       "      <th>population</th>\n",
       "      <th>total_revenue</th>\n",
       "      <th>total_rev_own_sources</th>\n",
       "      <th>general_revenue</th>\n",
       "      <th>gen_rev_own_sources</th>\n",
       "      <th>total_taxes</th>\n",
       "      <th>property_tax</th>\n",
       "      <th>tot_sales___gr_rec_tax</th>\n",
       "      <th>...</th>\n",
       "      <th>prop_sale_total</th>\n",
       "      <th>air_trans_current_exp</th>\n",
       "      <th>educ_nec_current_exp</th>\n",
       "      <th>emp_sec_adm_current_exp</th>\n",
       "      <th>own_hospital_current_exp</th>\n",
       "      <th>toll_hwy_current_exp</th>\n",
       "      <th>libraries_current_exp</th>\n",
       "      <th>welf_ins_current_exp</th>\n",
       "      <th>sw_mgmt_current_exp</th>\n",
       "      <th>total_util_current_exp</th>\n",
       "    </tr>\n",
       "  </thead>\n",
       "  <tbody>\n",
       "    <tr>\n",
       "      <th>0</th>\n",
       "      <td>2016</td>\n",
       "      <td>10000000</td>\n",
       "      <td>4858979</td>\n",
       "      <td>30172490</td>\n",
       "      <td>20650521</td>\n",
       "      <td>25288886</td>\n",
       "      <td>15766917</td>\n",
       "      <td>9919794</td>\n",
       "      <td>346277</td>\n",
       "      <td>5106102</td>\n",
       "      <td>...</td>\n",
       "      <td>0</td>\n",
       "      <td>997</td>\n",
       "      <td>340844</td>\n",
       "      <td>47216</td>\n",
       "      <td>0</td>\n",
       "      <td>0</td>\n",
       "      <td>3886</td>\n",
       "      <td>51106</td>\n",
       "      <td>0</td>\n",
       "      <td>75</td>\n",
       "    </tr>\n",
       "    <tr>\n",
       "      <th>1</th>\n",
       "      <td>2016</td>\n",
       "      <td>20000000</td>\n",
       "      <td>738432</td>\n",
       "      <td>8060170</td>\n",
       "      <td>5206968</td>\n",
       "      <td>7628651</td>\n",
       "      <td>4775449</td>\n",
       "      <td>1042164</td>\n",
       "      <td>111736</td>\n",
       "      <td>260846</td>\n",
       "      <td>...</td>\n",
       "      <td>373736</td>\n",
       "      <td>143090</td>\n",
       "      <td>48476</td>\n",
       "      <td>37907</td>\n",
       "      <td>0</td>\n",
       "      <td>117890</td>\n",
       "      <td>4817</td>\n",
       "      <td>51600</td>\n",
       "      <td>0</td>\n",
       "      <td>215320</td>\n",
       "    </tr>\n",
       "    <tr>\n",
       "      <th>2</th>\n",
       "      <td>2016</td>\n",
       "      <td>30000000</td>\n",
       "      <td>6828065</td>\n",
       "      <td>38241052</td>\n",
       "      <td>23700590</td>\n",
       "      <td>34582961</td>\n",
       "      <td>20042499</td>\n",
       "      <td>14676375</td>\n",
       "      <td>943008</td>\n",
       "      <td>8680009</td>\n",
       "      <td>...</td>\n",
       "      <td>111677</td>\n",
       "      <td>3945</td>\n",
       "      <td>51651</td>\n",
       "      <td>0</td>\n",
       "      <td>0</td>\n",
       "      <td>0</td>\n",
       "      <td>2509</td>\n",
       "      <td>34576</td>\n",
       "      <td>1079</td>\n",
       "      <td>27802</td>\n",
       "    </tr>\n",
       "    <tr>\n",
       "      <th>3</th>\n",
       "      <td>2016</td>\n",
       "      <td>40000000</td>\n",
       "      <td>2978204</td>\n",
       "      <td>21431620</td>\n",
       "      <td>14000079</td>\n",
       "      <td>20346096</td>\n",
       "      <td>12914555</td>\n",
       "      <td>9452883</td>\n",
       "      <td>1119958</td>\n",
       "      <td>4590072</td>\n",
       "      <td>...</td>\n",
       "      <td>45</td>\n",
       "      <td>389</td>\n",
       "      <td>140148</td>\n",
       "      <td>93573</td>\n",
       "      <td>0</td>\n",
       "      <td>0</td>\n",
       "      <td>2527</td>\n",
       "      <td>10826</td>\n",
       "      <td>9313</td>\n",
       "      <td>4356</td>\n",
       "    </tr>\n",
       "    <tr>\n",
       "      <th>4</th>\n",
       "      <td>2016</td>\n",
       "      <td>50000000</td>\n",
       "      <td>39144818</td>\n",
       "      <td>322332307</td>\n",
       "      <td>227996024</td>\n",
       "      <td>282907926</td>\n",
       "      <td>188571643</td>\n",
       "      <td>155231252</td>\n",
       "      <td>2513157</td>\n",
       "      <td>53365753</td>\n",
       "      <td>...</td>\n",
       "      <td>8749</td>\n",
       "      <td>4462</td>\n",
       "      <td>1042836</td>\n",
       "      <td>307593</td>\n",
       "      <td>0</td>\n",
       "      <td>0</td>\n",
       "      <td>23242</td>\n",
       "      <td>325039</td>\n",
       "      <td>560662</td>\n",
       "      <td>482860</td>\n",
       "    </tr>\n",
       "  </tbody>\n",
       "</table>\n",
       "<p>5 rows × 329 columns</p>\n",
       "</div>"
      ],
      "text/plain": [
       "   year        id  population  total_revenue  total_rev_own_sources  \\\n",
       "0  2016  10000000     4858979       30172490               20650521   \n",
       "1  2016  20000000      738432        8060170                5206968   \n",
       "2  2016  30000000     6828065       38241052               23700590   \n",
       "3  2016  40000000     2978204       21431620               14000079   \n",
       "4  2016  50000000    39144818      322332307              227996024   \n",
       "\n",
       "   general_revenue  gen_rev_own_sources  total_taxes  property_tax  \\\n",
       "0         25288886             15766917      9919794        346277   \n",
       "1          7628651              4775449      1042164        111736   \n",
       "2         34582961             20042499     14676375        943008   \n",
       "3         20346096             12914555      9452883       1119958   \n",
       "4        282907926            188571643    155231252       2513157   \n",
       "\n",
       "   tot_sales___gr_rec_tax           ...            prop_sale_total  \\\n",
       "0                 5106102           ...                          0   \n",
       "1                  260846           ...                     373736   \n",
       "2                 8680009           ...                     111677   \n",
       "3                 4590072           ...                         45   \n",
       "4                53365753           ...                       8749   \n",
       "\n",
       "   air_trans_current_exp  educ_nec_current_exp  emp_sec_adm_current_exp  \\\n",
       "0                    997                340844                    47216   \n",
       "1                 143090                 48476                    37907   \n",
       "2                   3945                 51651                        0   \n",
       "3                    389                140148                    93573   \n",
       "4                   4462               1042836                   307593   \n",
       "\n",
       "   own_hospital_current_exp  toll_hwy_current_exp  libraries_current_exp  \\\n",
       "0                         0                     0                   3886   \n",
       "1                         0                117890                   4817   \n",
       "2                         0                     0                   2509   \n",
       "3                         0                     0                   2527   \n",
       "4                         0                     0                  23242   \n",
       "\n",
       "   welf_ins_current_exp  sw_mgmt_current_exp  total_util_current_exp  \n",
       "0                 51106                    0                      75  \n",
       "1                 51600                    0                  215320  \n",
       "2                 34576                 1079                   27802  \n",
       "3                 10826                 9313                    4356  \n",
       "4                325039               560662                  482860  \n",
       "\n",
       "[5 rows x 329 columns]"
      ]
     },
     "execution_count": 2,
     "metadata": {},
     "output_type": "execute_result"
    }
   ],
   "source": [
    "data_folder = '../../data'\n",
    "data_filename = 'RECleaned_StateData3.csv'\n",
    "mapping_filename = 'mapping_id_name_state.csv'\n",
    "data = pd.read_csv(os.path.join(data_folder, data_filename))\n",
    "print(data.shape)\n",
    "data.head()"
   ]
  },
  {
   "cell_type": "code",
   "execution_count": 3,
   "metadata": {},
   "outputs": [
    {
     "data": {
      "text/plain": [
       "['total_income_taxes',\n",
       " 'welf_nec_current_exp',\n",
       " 'hunting___fishing_license',\n",
       " 'emp_ret_loc_emp_ctrib',\n",
       " 'regular_hwy_construct',\n",
       " 'ltd_ret_ffc_other_nec',\n",
       " 'total_ltd_out_ffc',\n",
       " 'judicial_total_expend',\n",
       " 'natural_res_ig_loc_govts',\n",
       " 'total_hospital_current_exp',\n",
       " 'interest_revenue',\n",
       " 'gen_pub_bldg_cap_out',\n",
       " 'ltd_out_ng_other_educ',\n",
       " 'total_interest_on_debt',\n",
       " 'elem_educ_total_exp',\n",
       " 'natural_res_cap_outlay',\n",
       " 'emp_ret_withdrawals',\n",
       " 'emp_retire_sec_corp_bds',\n",
       " 'cen_staff_construction',\n",
       " 'chg_toll_highways',\n",
       " 'chg_regular_highways',\n",
       " 'individual_income_tax',\n",
       " 'educ_nec_cap_outlay',\n",
       " 'public_welf_cash_asst',\n",
       " 'occup_and_bus_lic_nec',\n",
       " 'regular_hwy_current_exp',\n",
       " 'natural_res_total_exp',\n",
       " 'fed_igr_public_welf',\n",
       " 'ltd_iss_private_purp',\n",
       " 'corporation_license',\n",
       " 'emp_retire_sec_tot_fed',\n",
       " 'nonin_trust_cash___sec',\n",
       " 'total_hospital_cap_out',\n",
       " 'total_capital_outlays',\n",
       " 'welf_vend_pmts_nec',\n",
       " 'cen_staff_cap_outlay',\n",
       " 'total_util_current_exp',\n",
       " 'population',\n",
       " 'emp_ret_from_other_gov',\n",
       " 'total_ltd_retired',\n",
       " 'ltd_ret_general',\n",
       " 'general_revenue',\n",
       " 'chg_housing___comm_dev',\n",
       " 'hous___com_ig_loc_govts',\n",
       " 'motor_vehicle_license',\n",
       " 'prop_sale_other',\n",
       " 'ltd_iss_all_other',\n",
       " 'ltd_out_gen_other_nec',\n",
       " 'total_insur_trust_ctrb',\n",
       " 'total_educ_cap_outlay',\n",
       " 'libraries_total_expend',\n",
       " 'fed_igr_education',\n",
       " 'cen_staff_current_exp',\n",
       " 'emp_ret_benefit_paymts',\n",
       " 'total_expenditure',\n",
       " 'correct_construct',\n",
       " 'cen_staff_direct_exp',\n",
       " 'total_taxes',\n",
       " 'higher_ed_total_exp',\n",
       " 'ltd_out_general',\n",
       " 'judicial_cap_outlay',\n",
       " 'parks___rec_construct',\n",
       " 'ltd_ret_gen_other_educ',\n",
       " 'public_utility_tax',\n",
       " 'total_construction',\n",
       " 'natural_res_direct_exp',\n",
       " 'public_welf_construct',\n",
       " 'total_educ_current_exp',\n",
       " 'sw_mgmt_direct_expend',\n",
       " 'public_utility_license',\n",
       " 'correct_cap_outlay',\n",
       " 'emp_retire_sec_oth_nong',\n",
       " 'total_educ_direct_exp',\n",
       " 'local_igr_highways',\n",
       " 'welf_nec_total_expend',\n",
       " 'total_ig_expenditure',\n",
       " 'total_ltd_ret_ng',\n",
       " 'total_highways_dir_exp',\n",
       " 'fed_igr_highways',\n",
       " 'total_highways_cap_out',\n",
       " 'emp_ret_total_expend',\n",
       " 'ltd_ret_ng_general',\n",
       " 'fin_admin_current_exp',\n",
       " 'total_other_capital_outlays',\n",
       " 'unemp_ext___spec_pmts',\n",
       " 'pari_mutuels_tax',\n",
       " 'emp_retire_sec_corp_stk',\n",
       " 'total_rev_own_sources',\n",
       " 'oth_nonin_fd_cash___sec',\n",
       " 'motor_fuels_tax',\n",
       " 'chg_hospitals',\n",
       " 'emp_retire_sec_tot_nong',\n",
       " 'total_fed_ig_revenue',\n",
       " 'ltd_iss_gen_other_educ',\n",
       " 'chg_total_high_ed',\n",
       " 'police_prot_ig_loc_govts',\n",
       " 'fed_igr_other',\n",
       " 'gen_pub_bldg_current_exp',\n",
       " 'hous___com_total_exp',\n",
       " 'chg_total_nat_res',\n",
       " 'gen_pub_bldg_construct',\n",
       " 'regular_hwy_total_exp',\n",
       " 'fed_igr_air_transport',\n",
       " 'own_hospital_total_exp',\n",
       " 'emp_retire_total_sec',\n",
       " 'fed_igr_hous_com_dev',\n",
       " 'total_insur_trust_rev',\n",
       " 'air_trans_total_expend',\n",
       " 'fin_admin_direct_exp',\n",
       " 'tot_sales___gr_rec_tax',\n",
       " 'total_emp_ret_rev',\n",
       " 'fed_igr_emp_sec_adm',\n",
       " 'fin_admin_construction',\n",
       " 'higher_ed_construct',\n",
       " 'educ_nec_direct_expend',\n",
       " 'public_welf_cap_outlay',\n",
       " 'ltd_iss_ng_general',\n",
       " 'other_license_taxes',\n",
       " 'unemp_comp_other_balance',\n",
       " 'elem_educ_ig_local_govts',\n",
       " 'total_debt_outstanding',\n",
       " 'police_prot_direct_exp',\n",
       " 'beg_ltd_out_other_nec',\n",
       " 'cen_staff_total_expend',\n",
       " 'emp_ret_total_ctrib',\n",
       " 'health_ig_local_govts',\n",
       " 'ltd_iss_gen_other_nec',\n",
       " 'severance_tax',\n",
       " 'fin_admin_total_exp',\n",
       " 'health_direct_expend',\n",
       " 'bond_fd_cash___sec',\n",
       " 'total_gen_sales_tax',\n",
       " 'total_educ_total_exp',\n",
       " 'fed_igr_natural_res',\n",
       " 'beg_ltd_out_general',\n",
       " 'hous___com_current_exp',\n",
       " 'public_welf_current_exp',\n",
       " 'total_current_oper',\n",
       " 'welf_cash_total_exp',\n",
       " 'higher_ed_cap_outlay',\n",
       " 'sw_mgmt_total_expend',\n",
       " 'educ_nec_total_expend',\n",
       " 'own_hospital_construct',\n",
       " 'sw_mgmt_current_exp',\n",
       " 'total_hospital_construct',\n",
       " 'own_hospital_cap_out',\n",
       " 'total_educ_construct',\n",
       " 'ltd_out_all_other',\n",
       " 'unemp_federal_advances',\n",
       " 'net_lottery_revenue',\n",
       " 'total_salaries___wages',\n",
       " 'judicial_ig_local_govts',\n",
       " 'motor_vehicle_license_total',\n",
       " 'gen_rev_own_sources',\n",
       " 'tot_assist___subsidies',\n",
       " 'sewerage_total_expend',\n",
       " 'total_ltd_ret_ffc',\n",
       " 'total_select_sales_tax',\n",
       " 'general_nec_total_exp',\n",
       " 'chg_all_other_nec',\n",
       " 'welf_nec_ig_local_govts',\n",
       " 'misc_general_rev_nec',\n",
       " 'emp_ret_int_rev',\n",
       " 'ltd_ret_gen_other_nec',\n",
       " 'general_construction',\n",
       " 'police_prot_current_exp',\n",
       " 'ltd_out_ng_private_purp',\n",
       " 'correct_ig_loc_govts',\n",
       " 'hous___com_cap_outlay',\n",
       " 'total_ltd_out',\n",
       " 'amusement_tax',\n",
       " 'emp_retire_sec_misc_inv',\n",
       " 'own_hospital_current_exp',\n",
       " 'natural_res_construct',\n",
       " 'police_prot_construct',\n",
       " 'prot_insp_total_exp',\n",
       " 'misc_general_revenue',\n",
       " 'corp_net_income_tax',\n",
       " 'general_capital_outlay_other',\n",
       " 'fin_admin_cap_outlay',\n",
       " 'ltd_ret_ffc_general',\n",
       " 'emp_retire_cash___dep',\n",
       " 'ltd_out_ffc_other_nec',\n",
       " 'general_current_expend',\n",
       " 'judicial_direct_expend',\n",
       " 'correct_total_exp',\n",
       " 'tot_ins_trust_inv_rev',\n",
       " 'general_current_oper',\n",
       " 'judicial_current_exp',\n",
       " 'insur_trust_cash___sec',\n",
       " 'unemp_comp_cash___sec',\n",
       " 'total_revenue',\n",
       " 'libraries_cap_outlay',\n",
       " 'general_assist___sub',\n",
       " 'health_current_exp',\n",
       " 'educ_nec_current_exp',\n",
       " 'unemp_int_revenue',\n",
       " 'higher_ed_current_exp',\n",
       " 'local_igr_health___hos',\n",
       " 'total_hospital_dir_exp',\n",
       " 'ig_exp_to_federal_govt',\n",
       " 'ltd_iss_ng_other_educ',\n",
       " 'prot_insp_cap_outlay',\n",
       " 'emp_ret_sta_to_sta_ctr',\n",
       " 'beg_ltd_out_all_other',\n",
       " 'parks___rec_direct_exp',\n",
       " 'higher_ed_direct_exp',\n",
       " 'other_select_sales_tax',\n",
       " 'air_trans_direct_expend',\n",
       " 'judicial_construction',\n",
       " 'unemp_comp_ben_paymts',\n",
       " 'st_debt_end_of_year',\n",
       " 'total_insur_trust_ben',\n",
       " 'gen_pub_bldg_total_exp',\n",
       " 'ltd_out_ng_other_nec',\n",
       " 'unemp_payroll_tax',\n",
       " 'toll_hwy_current_exp',\n",
       " 'emp_sec_adm_cap_outlay',\n",
       " 'ltd_out_gen_other_educ',\n",
       " 'direct_expenditure',\n",
       " 'total_beg_ltd_out',\n",
       " 'property_tax',\n",
       " 'welf_categ_cash_assist',\n",
       " 'total_util_total_exp',\n",
       " 'tot_chgs_and_misc_rev',\n",
       " 'health_construction',\n",
       " 'amusement_license',\n",
       " 'libraries_current_exp',\n",
       " 'ltd_out_private_purp',\n",
       " 'general_debt_interest',\n",
       " 'correct_current_exp',\n",
       " 'total_hospital_total_exp',\n",
       " 'total_license_taxes',\n",
       " 'welf_nec_direct_expend',\n",
       " 'educ_nec_construction',\n",
       " 'welf_ins_current_exp',\n",
       " 'ltd_ret_private_purp',\n",
       " 'sinking_fd_cash___sec',\n",
       " 'regular_hwy_ig_loc_govts',\n",
       " 'ltd_out_ng_general',\n",
       " 'ltd_iss_general',\n",
       " 'rents_and_royalties',\n",
       " 'total_general_charges',\n",
       " 'natural_res_current_exp',\n",
       " 'toll_hwy_total_expend',\n",
       " 'emp_retire_cash___sec',\n",
       " 'ltd_iss_ng_private_purp',\n",
       " 'ig_exp_to_local_govts',\n",
       " 'fed_igr_health___hos',\n",
       " 'libraries_direct_exp',\n",
       " 'public_welf_total_exp',\n",
       " 'regular_hwy_cap_outlay',\n",
       " 'air_trans_current_exp',\n",
       " 'general_capital_outlay',\n",
       " 'ltd_ret_all_other',\n",
       " 'alcoholic_beverage_lic',\n",
       " 'local_igr_other_education',\n",
       " 'interest_on_gen_debt',\n",
       " 'regular_hwy_direct_exp',\n",
       " 'total_current_expend',\n",
       " 'prot_insp_current_exp',\n",
       " 'local_igr_public_welf',\n",
       " 'tobacco_tax',\n",
       " 'total_ig_revenue',\n",
       " 'unemp_comp_bal_in_us_trs',\n",
       " 'death_and_gift_tax',\n",
       " 'health_capital_outlay',\n",
       " 'general_expenditure',\n",
       " 'ltd_ret_ng_private_purp',\n",
       " 'docum_and_stock_tr_tax',\n",
       " 'parks___rec_total_exp',\n",
       " 'health_total_expend',\n",
       " 'chg_highways',\n",
       " 'emp_sec_adm_current_exp',\n",
       " 'welf_vend_pmts_medical',\n",
       " 'emp_sec_adm_direct_exp',\n",
       " 'parks___rec_ig_loc_govts',\n",
       " 'ltd_out_ffc_general',\n",
       " 'total_highways_current_exp',\n",
       " 'total_highways_tot_exp',\n",
       " 'welf_ins_total_exp',\n",
       " 'total_long_term_debt_out',\n",
       " 'educ_nec_assistance',\n",
       " 'ltd_iss_ng_other_nec',\n",
       " 'general_nec_construct',\n",
       " 'general_nec_direct_exp',\n",
       " 'public_welf_direct_exp',\n",
       " 'local_igr_other',\n",
       " 'police_prot_total_exp',\n",
       " 'general_nec_current_exp',\n",
       " 'general_nec_ig_loc_govts',\n",
       " 'general_nec_cap_outlay',\n",
       " 'unemp_comp_total_exp',\n",
       " 'alcoholic_beverage_tax',\n",
       " 'police_prot_cap_outlay',\n",
       " 'educ_nec_ig_local_govts',\n",
       " 'total_ltd_iss_ng',\n",
       " 'correct_direct_exp',\n",
       " 'ltd_ret_ng_other_educ',\n",
       " 'hous___com_direct_exp',\n",
       " 'motor_veh_oper_license',\n",
       " 'total_unemp_rev',\n",
       " 'welf_ins_cap_outlay',\n",
       " 'fines_and_forfeits',\n",
       " 'air_trans_ig_local_govts',\n",
       " 'air_trans_cap_outlay',\n",
       " 'total_ltd_issued',\n",
       " 'tot_ltd_out_ng',\n",
       " 'chg_total_education',\n",
       " 'prop_sale_total',\n",
       " 'parks___rec_cap_outlay',\n",
       " 'welf_nec_construction',\n",
       " 'welf_ins_construction',\n",
       " 'total_educ_assist___sub',\n",
       " 'welf_nec_cap_outlay',\n",
       " 'libraries_ig_local_govts',\n",
       " 'parks___rec_current_exp',\n",
       " 'total_highways_construct',\n",
       " 'welf_categ_total_exp',\n",
       " 'prot_insp_direct_exp',\n",
       " 'chg_parks___recreation',\n",
       " 'direct_general_expend',\n",
       " 'welf_cash_cash_assist',\n",
       " 'insurance_premium_tax',\n",
       " 'ltd_ret_ng_other_nec',\n",
       " 'tot_local_ig_rev',\n",
       " 'total_cash___securities']"
      ]
     },
     "execution_count": 3,
     "metadata": {},
     "output_type": "execute_result"
    }
   ],
   "source": [
    "supported_attributes = list(set([key for key in data.keys()]) - set(['year', 'id']))\n",
    "supported_attributes"
   ]
  },
  {
   "cell_type": "code",
   "execution_count": null,
   "metadata": {},
   "outputs": [],
   "source": []
  },
  {
   "cell_type": "code",
   "execution_count": 4,
   "metadata": {},
   "outputs": [],
   "source": [
    "def convert_to_pivot(data):\n",
    "    pivoted = pd.pivot_table(data,\n",
    "                             index='id', \n",
    "                             columns='year', \n",
    "                             values=list(set(data.keys())-set(['year', 'id'])))\n",
    "\n",
    "    keys = list(set([key[0] for key in pivoted.keys()]))\n",
    "    for i, key in enumerate(keys, 1):\n",
    "        pivoted[key].iloc[:, 0] = pivoted[key].iloc[:, 0].fillna(0)\n",
    "        pivoted[key].iloc[:, -1] = pivoted[key].iloc[:, -1].fillna(0)\n",
    "        print(np.round(i/len(keys), 2), end='\\r')\n",
    "\n",
    "    pivoted = pivoted.interpolate(axis=1)\n",
    "\n",
    "    print(' DONE !')\n",
    "    return pivoted"
   ]
  },
  {
   "cell_type": "code",
   "execution_count": null,
   "metadata": {},
   "outputs": [],
   "source": [
    "def convert_to_pivot(data):\n",
    "    pivoted = pd.pivot_table(data,\n",
    "                             index='id', \n",
    "                             columns='year', \n",
    "                             values=list(set(data.keys())-set(['year', 'id'])))\n",
    "\n",
    "    keys = list(set([key[0] for key in pivoted.keys()]))\n",
    "    for i, key in enumerate(keys, 1):\n",
    "        pivoted[key].iloc[:, 0] = pivoted[key].iloc[:, 0].fillna(0)\n",
    "        pivoted[key].iloc[:, -1] = pivoted[key].iloc[:, -1].fillna(0)\n",
    "        pivoted[key] = pivoted[key].interpolate(axis=1)\n",
    "        print(np.round(i/len(keys), 2), end='\\r')\n",
    "\n",
    "    print(' DONE !')\n",
    "    return pivoted"
   ]
  },
  {
   "cell_type": "code",
   "execution_count": 5,
   "metadata": {},
   "outputs": [
    {
     "name": "stderr",
     "output_type": "stream",
     "text": [
      "C:\\ProgramData\\Anaconda3\\lib\\site-packages\\pandas\\core\\indexing.py:630: SettingWithCopyWarning: \n",
      "A value is trying to be set on a copy of a slice from a DataFrame.\n",
      "Try using .loc[row_indexer,col_indexer] = value instead\n",
      "\n",
      "See the caveats in the documentation: http://pandas.pydata.org/pandas-docs/stable/indexing.html#indexing-view-versus-copy\n",
      "  self.obj[item_labels[indexer[info_axis]]] = value\n"
     ]
    },
    {
     "name": "stdout",
     "output_type": "stream",
     "text": [
      " DONE !\n",
      "Wall time: 23.5 s\n"
     ]
    }
   ],
   "source": [
    "%%time\n",
    "pivoted = convert_to_pivot(data)\n",
    "pivoted.head()"
   ]
  },
  {
   "cell_type": "code",
   "execution_count": null,
   "metadata": {},
   "outputs": [],
   "source": []
  },
  {
   "cell_type": "code",
   "execution_count": 6,
   "metadata": {},
   "outputs": [
    {
     "data": {
      "text/html": [
       "<div>\n",
       "<style scoped>\n",
       "    .dataframe tbody tr th:only-of-type {\n",
       "        vertical-align: middle;\n",
       "    }\n",
       "\n",
       "    .dataframe tbody tr th {\n",
       "        vertical-align: top;\n",
       "    }\n",
       "\n",
       "    .dataframe thead th {\n",
       "        text-align: right;\n",
       "    }\n",
       "</style>\n",
       "<table border=\"1\" class=\"dataframe\">\n",
       "  <thead>\n",
       "    <tr style=\"text-align: right;\">\n",
       "      <th></th>\n",
       "      <th>id</th>\n",
       "      <th>name</th>\n",
       "    </tr>\n",
       "  </thead>\n",
       "  <tbody>\n",
       "    <tr>\n",
       "      <th>0</th>\n",
       "      <td>10000000</td>\n",
       "      <td>ALABAMA</td>\n",
       "    </tr>\n",
       "    <tr>\n",
       "      <th>1</th>\n",
       "      <td>20000000</td>\n",
       "      <td>ALASKA</td>\n",
       "    </tr>\n",
       "    <tr>\n",
       "      <th>2</th>\n",
       "      <td>30000000</td>\n",
       "      <td>ARIZONA</td>\n",
       "    </tr>\n",
       "    <tr>\n",
       "      <th>3</th>\n",
       "      <td>40000000</td>\n",
       "      <td>ARKANSAS</td>\n",
       "    </tr>\n",
       "    <tr>\n",
       "      <th>4</th>\n",
       "      <td>50000000</td>\n",
       "      <td>CALIFORNIA</td>\n",
       "    </tr>\n",
       "  </tbody>\n",
       "</table>\n",
       "</div>"
      ],
      "text/plain": [
       "         id        name\n",
       "0  10000000     ALABAMA\n",
       "1  20000000      ALASKA\n",
       "2  30000000     ARIZONA\n",
       "3  40000000    ARKANSAS\n",
       "4  50000000  CALIFORNIA"
      ]
     },
     "execution_count": 6,
     "metadata": {},
     "output_type": "execute_result"
    }
   ],
   "source": [
    "mapping = pd.read_csv(os.path.join(data_folder, mapping_filename))\n",
    "mapping.head()"
   ]
  },
  {
   "cell_type": "code",
   "execution_count": 120,
   "metadata": {
    "colab": {},
    "colab_type": "code",
    "id": "xSjWmZB5CHYp"
   },
   "outputs": [],
   "source": [
    "def getNearest(df1, df2, num):\n",
    "    nbrs = NearestNeighbors(n_neighbors=num, algorithm='auto').fit(df1)\n",
    "    distances, indices = nbrs.kneighbors(df2)\n",
    "    \n",
    "    return distances, indices\n",
    "\n",
    "def getSimilarPlaces_singleAtt_multiYear(pivoted, name_id, attribute, norm_by=None, year_range=None, num=1):\n",
    "    if norm_by:\n",
    "        df = pivoted[attribute] / pivoted[norm_by]\n",
    "    else:\n",
    "        df = pivoted[attribute]\n",
    "    df = df.replace([np.inf, -np.inf], np.nan)\n",
    "    df.iloc[:, 0] = df.iloc[:, 0].fillna(0)\n",
    "    df.iloc[:, -1] = df.iloc[:, -1].fillna(0)\n",
    "    df = df.interpolate(axis=1)\n",
    "    if year_range:\n",
    "        df = df.loc[:, year_range[0]:year_range[1]]\n",
    "    \n",
    "    distances, indices = getNearest(df, np.asarray(df.loc[name_id]).reshape(1, -1), num+1)\n",
    "    indices = indices[0]\n",
    "    similarity_score = (df.loc[name_id].mean() - distances)/df.loc[name_id].mean()\n",
    "    \n",
    "    return df.iloc[indices].index.tolist(), similarity_score, distances\n",
    "\n",
    "def getSimilarPlaces_multiAtt_singleYear(pivoted, name_id, attributes, year, norm_by=None, num=1):\n",
    "    if norm_by:\n",
    "        df = pivoted[attributes] / pivoted[norm_by]\n",
    "    else:\n",
    "        df = pivoted[attributes]\n",
    "    df = df[[key for key in df.keys() if key[1]==year]]\n",
    "    df = df.replace([np.inf, -np.inf], np.nan).fillna(0)\n",
    "    distances, indices = getNearest(df, np.asarray(df.loc[name_id]).reshape(1, -1), num+1)\n",
    "    indices = indices[0]\n",
    "    similarity_score = (df.loc[name_id].mean() - distances)/df.loc[name_id].mean()\n",
    "    \n",
    "    return df.iloc[indices].index.tolist(), similarity_score"
   ]
  },
  {
   "cell_type": "code",
   "execution_count": null,
   "metadata": {},
   "outputs": [],
   "source": []
  },
  {
   "cell_type": "code",
   "execution_count": 121,
   "metadata": {
    "colab": {},
    "colab_type": "code",
    "id": "tLhysH3c6o08"
   },
   "outputs": [
    {
     "name": "stdout",
     "output_type": "stream",
     "text": [
      "480000000\n"
     ]
    }
   ],
   "source": [
    "name_id = mapping[mapping['name']=='WASHINGTON']['id'].iloc[0]\n",
    "print(name_id)\n",
    "attribute = 'total_expenditure'\n",
    "norm_by = 'total_revenue'\n",
    "yearRange = [2000, 2010]\n",
    "num = 10"
   ]
  },
  {
   "cell_type": "code",
   "execution_count": 126,
   "metadata": {},
   "outputs": [
    {
     "name": "stdout",
     "output_type": "stream",
     "text": [
      "Wall time: 16 ms\n"
     ]
    }
   ],
   "source": [
    "%%time\n",
    "a, similarity_score, dist = getSimilarPlaces_singleAtt_multiYear(pivoted, name_id, attribute, norm_by=norm_by, year_range=None, num=num)"
   ]
  },
  {
   "cell_type": "code",
   "execution_count": 127,
   "metadata": {},
   "outputs": [
    {
     "name": "stdout",
     "output_type": "stream",
     "text": [
      "[480000000, 470000000, 140000000, 390000000, 450000000, 330000000, 240000000, 100000000, 260000000, 200000000, 130000000]\n",
      "['WASHINGTON', 'VIRGINIA', 'ILLINOIS', 'PENNSYLVANIA', 'UTAH', 'NEW YORK', 'MINNESOTA', 'FLORIDA', 'MISSOURI', 'MAINE', 'IDAHO']\n"
     ]
    }
   ],
   "source": [
    "print(a)\n",
    "print([mapping[mapping['id']==idx]['name'].values[0] for idx in a])"
   ]
  },
  {
   "cell_type": "code",
   "execution_count": 128,
   "metadata": {},
   "outputs": [
    {
     "data": {
      "text/plain": [
       "array([[1.        , 0.66419077, 0.57877767, 0.53310217, 0.53154642,\n",
       "        0.51797665, 0.49569814, 0.48459445, 0.44558686, 0.43960074,\n",
       "        0.4310181 ]])"
      ]
     },
     "execution_count": 128,
     "metadata": {},
     "output_type": "execute_result"
    }
   ],
   "source": [
    "similarity_score"
   ]
  },
  {
   "cell_type": "code",
   "execution_count": 130,
   "metadata": {},
   "outputs": [
    {
     "data": {
      "text/plain": [
       "array([[0.        , 0.31581471, 0.39614221, 0.43909814, 0.44056125,\n",
       "        0.45332306, 0.47427508, 0.48471764, 0.52140267, 0.52703236,\n",
       "        0.53510399]])"
      ]
     },
     "execution_count": 130,
     "metadata": {},
     "output_type": "execute_result"
    }
   ],
   "source": [
    "dist"
   ]
  },
  {
   "cell_type": "code",
   "execution_count": null,
   "metadata": {},
   "outputs": [],
   "source": [
    "2449284"
   ]
  },
  {
   "cell_type": "code",
   "execution_count": null,
   "metadata": {},
   "outputs": [],
   "source": []
  },
  {
   "cell_type": "code",
   "execution_count": 105,
   "metadata": {},
   "outputs": [
    {
     "data": {
      "text/plain": [
       "<matplotlib.legend.Legend at 0x16d19a277b8>"
      ]
     },
     "execution_count": 105,
     "metadata": {},
     "output_type": "execute_result"
    },
    {
     "data": {
      "image/png": "[encoded data removed]",
      "text/plain": [
       "<matplotlib.figure.Figure at 0x16d19a27898>"
      ]
     },
     "metadata": {},
     "output_type": "display_data"
    }
   ],
   "source": [
    "for idx in a:\n",
    "    temp = pivoted[attribute].loc[idx]\n",
    "    if norm_by:\n",
    "        temp /= pivoted[norm_by].loc[idx]\n",
    "    if yearRange:\n",
    "        temp = temp.loc[yearRange[0]:yearRange[1]]\n",
    "    plt.plot(temp)\n",
    "plt.legend([mapping[mapping['id']==idx]['name'].values[0] for idx in a])"
   ]
  },
  {
   "cell_type": "code",
   "execution_count": null,
   "metadata": {},
   "outputs": [],
   "source": []
  },
  {
   "cell_type": "code",
   "execution_count": 106,
   "metadata": {},
   "outputs": [],
   "source": [
    "attributes = ['total_expenditure', 'total_revenue']\n",
    "norm_by = 'population'\n",
    "year = 2000\n",
    "num=4"
   ]
  },
  {
   "cell_type": "code",
   "execution_count": 109,
   "metadata": {},
   "outputs": [
    {
     "name": "stdout",
     "output_type": "stream",
     "text": [
      "Wall time: 16 ms\n"
     ]
    }
   ],
   "source": [
    "%%time\n",
    "a, similarity_score = getSimilarPlaces_multiAtt_singleYear(pivoted, name_id, attributes, year, norm_by=norm_by, num=num)"
   ]
  },
  {
   "cell_type": "code",
   "execution_count": 110,
   "metadata": {},
   "outputs": [
    {
     "name": "stdout",
     "output_type": "stream",
     "text": [
      "[480000000, 350000000, 50000000, 400000000, 230000000]\n",
      "['WASHINGTON', 'NORTH DAKOTA', 'CALIFORNIA', 'RHODE ISLAND', 'MICHIGAN']\n"
     ]
    }
   ],
   "source": [
    "print(a)\n",
    "print([mapping[mapping['id']==idx]['name'].values[0] for idx in a])"
   ]
  },
  {
   "cell_type": "code",
   "execution_count": 116,
   "metadata": {},
   "outputs": [
    {
     "data": {
      "text/plain": [
       "array([[1.        , 0.98296013, 0.97795828, 0.97022903, 0.95161112]])"
      ]
     },
     "execution_count": 116,
     "metadata": {},
     "output_type": "execute_result"
    }
   ],
   "source": [
    "similarity_score"
   ]
  },
  {
   "cell_type": "code",
   "execution_count": null,
   "metadata": {},
   "outputs": [],
   "source": []
  },
  {
   "cell_type": "code",
   "execution_count": null,
   "metadata": {},
   "outputs": [],
   "source": []
  }
 ],
 "metadata": {
  "colab": {
   "collapsed_sections": [],
   "include_colab_link": true,
   "name": "ASD_clustering2.ipynb",
   "provenance": [],
   "toc_visible": true,
   "version": "0.3.2"
  },
  "kernelspec": {
   "display_name": "Python 3",
   "language": "python",
   "name": "python3"
  },
  "language_info": {
   "codemirror_mode": {
    "name": "ipython",
    "version": 3
   },
   "file_extension": ".py",
   "mimetype": "text/x-python",
   "name": "python",
   "nbconvert_exporter": "python",
   "pygments_lexer": "ipython3",
   "version": "3.5.5"
  }
 },
 "nbformat": 4,
 "nbformat_minor": 1
}
