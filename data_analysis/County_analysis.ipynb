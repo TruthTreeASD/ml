{
 "cells": [
  {
   "cell_type": "code",
   "execution_count": 11,
   "metadata": {},
   "outputs": [],
   "source": [
    "%run helper.ipynb"
   ]
  },
  {
   "cell_type": "code",
   "execution_count": 12,
   "metadata": {},
   "outputs": [],
   "source": [
    "file_path=\"/Users/lohith/Desktop/NEU_Courses/ThirdSemester/CS6510-ASD/data/TheGovernmentFinanceDatabase_CountyData/CountyData.csv\"\n",
    "ignore=set(['YearofData','IDChanged','FIPS_Place','YearPop','SchLevCode','FunctionCode'])"
   ]
  },
  {
   "cell_type": "code",
   "execution_count": 13,
   "metadata": {},
   "outputs": [],
   "source": [
    "county = pd.read_csv(file_path)"
   ]
  },
  {
   "cell_type": "code",
   "execution_count": 4,
   "metadata": {},
   "outputs": [
    {
     "data": {
      "text/html": [
       "<div>\n",
       "<style scoped>\n",
       "    .dataframe tbody tr th:only-of-type {\n",
       "        vertical-align: middle;\n",
       "    }\n",
       "\n",
       "    .dataframe tbody tr th {\n",
       "        vertical-align: top;\n",
       "    }\n",
       "\n",
       "    .dataframe thead th {\n",
       "        text-align: right;\n",
       "    }\n",
       "</style>\n",
       "<table border=\"1\" class=\"dataframe\">\n",
       "  <thead>\n",
       "    <tr style=\"text-align: right;\">\n",
       "      <th></th>\n",
       "      <th>SurveyYr</th>\n",
       "      <th>Year4</th>\n",
       "      <th>YearofData</th>\n",
       "      <th>ID</th>\n",
       "      <th>IDChanged</th>\n",
       "      <th>State_Code</th>\n",
       "      <th>Type_Code</th>\n",
       "      <th>County</th>\n",
       "      <th>Name</th>\n",
       "      <th>FIPS_Code_State</th>\n",
       "      <th>...</th>\n",
       "      <th>Emp_Retire_Sec_Mortgages</th>\n",
       "      <th>Emp_Retire_Sec_Misc_Inv</th>\n",
       "      <th>Emp_Retire_Sec_Oth_Nong</th>\n",
       "      <th>Unemp_Comp_Cash___Sec</th>\n",
       "      <th>Unemp_Comp_Bal_In_US_Trs</th>\n",
       "      <th>Unemp_Comp_Other_Balance</th>\n",
       "      <th>Nonin_Trust_Cash___Sec</th>\n",
       "      <th>Sinking_Fd_Cash___Sec</th>\n",
       "      <th>Bond_Fd_Cash___Sec</th>\n",
       "      <th>Oth_Nonin_Fd_Cash___Sec</th>\n",
       "    </tr>\n",
       "  </thead>\n",
       "  <tbody>\n",
       "    <tr>\n",
       "      <th>0</th>\n",
       "      <td>16</td>\n",
       "      <td>2016</td>\n",
       "      <td>NaN</td>\n",
       "      <td>11002002</td>\n",
       "      <td>NaN</td>\n",
       "      <td>1</td>\n",
       "      <td>1</td>\n",
       "      <td>2</td>\n",
       "      <td>BALDWIN COUNTY</td>\n",
       "      <td>1</td>\n",
       "      <td>...</td>\n",
       "      <td>0</td>\n",
       "      <td>0</td>\n",
       "      <td>0</td>\n",
       "      <td>0</td>\n",
       "      <td>0</td>\n",
       "      <td>0</td>\n",
       "      <td>95519</td>\n",
       "      <td>14789</td>\n",
       "      <td>0</td>\n",
       "      <td>80730</td>\n",
       "    </tr>\n",
       "    <tr>\n",
       "      <th>1</th>\n",
       "      <td>16</td>\n",
       "      <td>2016</td>\n",
       "      <td>NaN</td>\n",
       "      <td>11005005</td>\n",
       "      <td>NaN</td>\n",
       "      <td>1</td>\n",
       "      <td>1</td>\n",
       "      <td>5</td>\n",
       "      <td>BLOUNT COUNTY</td>\n",
       "      <td>1</td>\n",
       "      <td>...</td>\n",
       "      <td>0</td>\n",
       "      <td>0</td>\n",
       "      <td>0</td>\n",
       "      <td>0</td>\n",
       "      <td>0</td>\n",
       "      <td>0</td>\n",
       "      <td>11092</td>\n",
       "      <td>0</td>\n",
       "      <td>0</td>\n",
       "      <td>11092</td>\n",
       "    </tr>\n",
       "    <tr>\n",
       "      <th>2</th>\n",
       "      <td>16</td>\n",
       "      <td>2016</td>\n",
       "      <td>NaN</td>\n",
       "      <td>11008008</td>\n",
       "      <td>NaN</td>\n",
       "      <td>1</td>\n",
       "      <td>1</td>\n",
       "      <td>8</td>\n",
       "      <td>CALHOUN COUNTY</td>\n",
       "      <td>1</td>\n",
       "      <td>...</td>\n",
       "      <td>0</td>\n",
       "      <td>0</td>\n",
       "      <td>0</td>\n",
       "      <td>0</td>\n",
       "      <td>0</td>\n",
       "      <td>0</td>\n",
       "      <td>27871</td>\n",
       "      <td>0</td>\n",
       "      <td>0</td>\n",
       "      <td>27871</td>\n",
       "    </tr>\n",
       "    <tr>\n",
       "      <th>3</th>\n",
       "      <td>16</td>\n",
       "      <td>2016</td>\n",
       "      <td>NaN</td>\n",
       "      <td>11010010</td>\n",
       "      <td>NaN</td>\n",
       "      <td>1</td>\n",
       "      <td>1</td>\n",
       "      <td>10</td>\n",
       "      <td>CHEROKEE COUNTY</td>\n",
       "      <td>1</td>\n",
       "      <td>...</td>\n",
       "      <td>0</td>\n",
       "      <td>0</td>\n",
       "      <td>0</td>\n",
       "      <td>0</td>\n",
       "      <td>0</td>\n",
       "      <td>0</td>\n",
       "      <td>4074</td>\n",
       "      <td>340</td>\n",
       "      <td>0</td>\n",
       "      <td>3734</td>\n",
       "    </tr>\n",
       "    <tr>\n",
       "      <th>4</th>\n",
       "      <td>16</td>\n",
       "      <td>2016</td>\n",
       "      <td>NaN</td>\n",
       "      <td>11015015</td>\n",
       "      <td>NaN</td>\n",
       "      <td>1</td>\n",
       "      <td>1</td>\n",
       "      <td>15</td>\n",
       "      <td>CLEBURNE COUNTY</td>\n",
       "      <td>1</td>\n",
       "      <td>...</td>\n",
       "      <td>0</td>\n",
       "      <td>0</td>\n",
       "      <td>0</td>\n",
       "      <td>0</td>\n",
       "      <td>0</td>\n",
       "      <td>0</td>\n",
       "      <td>4259</td>\n",
       "      <td>72</td>\n",
       "      <td>0</td>\n",
       "      <td>4187</td>\n",
       "    </tr>\n",
       "  </tbody>\n",
       "</table>\n",
       "<p>5 rows × 594 columns</p>\n",
       "</div>"
      ],
      "text/plain": [
       "   SurveyYr  Year4  YearofData        ID  IDChanged  State_Code  Type_Code  \\\n",
       "0        16   2016         NaN  11002002        NaN           1          1   \n",
       "1        16   2016         NaN  11005005        NaN           1          1   \n",
       "2        16   2016         NaN  11008008        NaN           1          1   \n",
       "3        16   2016         NaN  11010010        NaN           1          1   \n",
       "4        16   2016         NaN  11015015        NaN           1          1   \n",
       "\n",
       "   County             Name  FIPS_Code_State           ...             \\\n",
       "0       2   BALDWIN COUNTY                1           ...              \n",
       "1       5    BLOUNT COUNTY                1           ...              \n",
       "2       8   CALHOUN COUNTY                1           ...              \n",
       "3      10  CHEROKEE COUNTY                1           ...              \n",
       "4      15  CLEBURNE COUNTY                1           ...              \n",
       "\n",
       "   Emp_Retire_Sec_Mortgages  Emp_Retire_Sec_Misc_Inv  Emp_Retire_Sec_Oth_Nong  \\\n",
       "0                         0                        0                        0   \n",
       "1                         0                        0                        0   \n",
       "2                         0                        0                        0   \n",
       "3                         0                        0                        0   \n",
       "4                         0                        0                        0   \n",
       "\n",
       "   Unemp_Comp_Cash___Sec  Unemp_Comp_Bal_In_US_Trs  Unemp_Comp_Other_Balance  \\\n",
       "0                      0                         0                         0   \n",
       "1                      0                         0                         0   \n",
       "2                      0                         0                         0   \n",
       "3                      0                         0                         0   \n",
       "4                      0                         0                         0   \n",
       "\n",
       "   Nonin_Trust_Cash___Sec  Sinking_Fd_Cash___Sec  Bond_Fd_Cash___Sec  \\\n",
       "0                   95519                  14789                   0   \n",
       "1                   11092                      0                   0   \n",
       "2                   27871                      0                   0   \n",
       "3                    4074                    340                   0   \n",
       "4                    4259                     72                   0   \n",
       "\n",
       "   Oth_Nonin_Fd_Cash___Sec  \n",
       "0                    80730  \n",
       "1                    11092  \n",
       "2                    27871  \n",
       "3                     3734  \n",
       "4                     4187  \n",
       "\n",
       "[5 rows x 594 columns]"
      ]
     },
     "execution_count": 4,
     "metadata": {},
     "output_type": "execute_result"
    }
   ],
   "source": [
    "county.head()"
   ]
  },
  {
   "cell_type": "code",
   "execution_count": 16,
   "metadata": {},
   "outputs": [],
   "source": [
    "# stats = get_stats(county)"
   ]
  },
  {
   "cell_type": "code",
   "execution_count": 157,
   "metadata": {},
   "outputs": [],
   "source": [
    "all_nans = [x for x,y in stats.items() if y['nans'][1] == 1]"
   ]
  },
  {
   "cell_type": "code",
   "execution_count": 158,
   "metadata": {},
   "outputs": [
    {
     "data": {
      "text/plain": [
       "['SchLevCode', 'FunctionCode', 'Enrollment']"
      ]
     },
     "execution_count": 158,
     "metadata": {},
     "output_type": "execute_result"
    }
   ],
   "source": [
    "all_nans"
   ]
  },
  {
   "cell_type": "code",
   "execution_count": 159,
   "metadata": {},
   "outputs": [],
   "source": [
    "to_drop = set(all_nans)"
   ]
  },
  {
   "cell_type": "code",
   "execution_count": 161,
   "metadata": {},
   "outputs": [],
   "source": [
    "all_zeros = [x for x,y in stats.items() if y['zeros'][1] == 1]"
   ]
  },
  {
   "cell_type": "code",
   "execution_count": 183,
   "metadata": {},
   "outputs": [
    {
     "data": {
      "text/plain": [
       "['SchLevCode', 'FunctionCode', 'Enrollment']"
      ]
     },
     "execution_count": 183,
     "metadata": {},
     "output_type": "execute_result"
    }
   ],
   "source": [
    "all_nans"
   ]
  },
  {
   "cell_type": "code",
   "execution_count": 165,
   "metadata": {},
   "outputs": [],
   "source": [
    "to_drop.update(all_zeros)"
   ]
  },
  {
   "cell_type": "code",
   "execution_count": 166,
   "metadata": {},
   "outputs": [
    {
     "data": {
      "text/plain": [
       "(36, 3)"
      ]
     },
     "execution_count": 166,
     "metadata": {},
     "output_type": "execute_result"
    }
   ],
   "source": [
    "len(all_zeros),len(all_nans)"
   ]
  },
  {
   "cell_type": "code",
   "execution_count": 168,
   "metadata": {},
   "outputs": [],
   "source": [
    "zero_or_nan = [x for x,y in stats.items() if y['zeros'][1] + y['nans'][1] == 1]"
   ]
  },
  {
   "cell_type": "code",
   "execution_count": null,
   "metadata": {},
   "outputs": [],
   "source": [
    "for i in zero_or_nan:\n",
    "    if stats[i][\"total_missing\"][1] == 1:\n",
    "        print(i)"
   ]
  },
  {
   "cell_type": "code",
   "execution_count": 177,
   "metadata": {},
   "outputs": [],
   "source": [
    "to_drop.update(zero_or_nan)"
   ]
  },
  {
   "cell_type": "code",
   "execution_count": 178,
   "metadata": {},
   "outputs": [],
   "source": [
    "total_instances = len(county)"
   ]
  },
  {
   "cell_type": "code",
   "execution_count": 179,
   "metadata": {},
   "outputs": [
    {
     "name": "stdout",
     "output_type": "stream",
     "text": [
      "Educ_NEC_Cap_Outlay 104149\n",
      "Emp_Sec_Adm_Direct_Exp 104150\n",
      "Emp_Sec_Adm_Cap_Outlay 104150\n",
      "Emp_Sec_Adm_Construct 104150\n",
      "Welf_Cash_IG_Local_Govts 104148\n",
      "LTD_Iss_NG_Trans_Util 104147\n",
      "LTD_Iss_NG_Other_Educ 104146\n",
      "LTD_Ret_NG_Elem_Educ 104146\n"
     ]
    }
   ],
   "source": [
    "for i in zero_or_nan:\n",
    "    l= len(county.loc[(county[i] != county[i]) | (county[i] == 0)])\n",
    "    if l != total_instances:\n",
    "        print(i, l)\n"
   ]
  },
  {
   "cell_type": "code",
   "execution_count": 180,
   "metadata": {},
   "outputs": [],
   "source": [
    "negatives = [x for x,y in stats.items() if y['negatives'][1] > 0 if y['negatives'][1] < .9]"
   ]
  },
  {
   "cell_type": "code",
   "execution_count": 181,
   "metadata": {},
   "outputs": [
    {
     "name": "stdout",
     "output_type": "stream",
     "text": [
      "Total_Revenue (8, 0.0001)\n",
      "Total_Rev_Own_Sources (15, 0.0001)\n",
      "Total_Insur_Trust_Rev (219, 0.0021)\n",
      "Tot_Ins_Trust_Inv_Rev (326, 0.0031)\n",
      "Total_Emp_Ret_Rev (219, 0.0021)\n",
      "Emp_Ret_Int_Rev (326, 0.0031)\n",
      "LTD_Out_Gen_Other_NEC (6, 0.0001)\n",
      "Sinking_Fd_Cash___Sec (13, 0.0001)\n"
     ]
    }
   ],
   "source": [
    "for i in negatives:\n",
    "    print(i,stats[i]['negatives'])"
   ]
  },
  {
   "cell_type": "markdown",
   "metadata": {},
   "source": [
    "** We can safely drop below features **\n",
    "```\n",
    "SurveyYr\n",
    "YearofData\n",
    "IDChanged\n",
    "'SchLevCode',\n",
    "'FunctionCode', \n",
    "'Enrollment'\n",
    "```"
   ]
  },
  {
   "cell_type": "code",
   "execution_count": 9,
   "metadata": {},
   "outputs": [],
   "source": [
    "to_drop.update(['SurveyYr','YearofData','IDChanged'])"
   ]
  },
  {
   "cell_type": "code",
   "execution_count": 184,
   "metadata": {},
   "outputs": [
    {
     "name": "stdout",
     "output_type": "stream",
     "text": [
      "{'LTD_Iss_NG_Trans_Util', 'Educ_NEC_Cap_Outlay', 'LTD_Ret_NG_Gas_Util', 'Unemp_Comp_Ben_Paymts', 'Net_Lottery_Revenue', 'LTD_Iss_NG_Gas_Util', 'Emp_Sec_Adm_Construct', 'Emp_Ret_Other_Earnings', 'Unemp_Payroll_Tax', 'FunctionCode', 'Water_Trans_IG_To_Sta', 'LTD_Iss_NG_Other_Educ', 'Unemp_Int_Revenue', 'Educ_NEC_Construction', 'LTD_Iss_NG_Elem_Educ', 'Welf_Cash_IG_Local_Govts', 'Enrollment', 'Educ_NEC_Assistance', 'Unemp_Comp_Bal_In_US_Trs', 'Emp_Sec_Adm_Current_Exp', 'Local_IGR_InterSchool_Aid', 'VetBonus', 'Elem_Educ_IG_Sch_to_Sch', 'Unemp_Ext___Spec_Pmts', 'Unemp_Federal_Advances', 'Fed_IGR_Emp_Sec_Adm', 'LTD_Iss_NG_Elec_Util', 'LTD_Ret_NG_Elem_Educ', 'Welf_State_Share_Part_D', 'Emp_Sec_Adm_Direct_Exp', 'Emp_Sec_Adm_Cap_Outlay', 'Unemp_Comp_Cash___Sec', 'Total_Educ_Assist___Sub', 'SchLevCode', 'LTD_Ret_NG_Elec_Util', 'Unemp_Comp_Total_Exp', 'Total_Unemp_Rev', 'Educ_NEC_IG_To_State', 'Hunting___Fishing_License', 'Unemp_Comp_Other_Balance'}\n"
     ]
    }
   ],
   "source": [
    "print(to_drop)"
   ]
  },
  {
   "cell_type": "code",
   "execution_count": null,
   "metadata": {},
   "outputs": [],
   "source": [
    "print(negatives)"
   ]
  },
  {
   "cell_type": "code",
   "execution_count": null,
   "metadata": {},
   "outputs": [],
   "source": [
    "len(county.keys()), len(county)"
   ]
  },
  {
   "cell_type": "code",
   "execution_count": null,
   "metadata": {},
   "outputs": [],
   "source": [
    "stats = get_stats(county)"
   ]
  },
  {
   "cell_type": "code",
   "execution_count": null,
   "metadata": {},
   "outputs": [],
   "source": [
    "len(county.keys()), len(county)"
   ]
  },
  {
   "cell_type": "markdown",
   "metadata": {},
   "source": [
    "Let's Use a unique name for a geographic location\n",
    "\n",
    "For eg: \n",
    "\n",
    "    'FORT BEND COUNTY'     == 'FT BEND COUNTY'\n",
    "\n",
    "    'OGLALA LAKOTA COUNTY' == 'SHANNON COUNTY' etc.,"
   ]
  },
  {
   "cell_type": "code",
   "execution_count": null,
   "metadata": {},
   "outputs": [],
   "source": [
    "id_name_map=county.groupby(['ID'])['Name'].unique().to_dict() "
   ]
  },
  {
   "cell_type": "code",
   "execution_count": null,
   "metadata": {},
   "outputs": [],
   "source": [
    "l=[]\n",
    "for i,j in id_name_map.items():\n",
    "    if len(j) > 1:\n",
    "        print(i,j)\n",
    "        l.append(i)"
   ]
  },
  {
   "cell_type": "code",
   "execution_count": null,
   "metadata": {},
   "outputs": [],
   "source": [
    "# temp = temp.apply(lambda x: replace_name(x), axis=1)"
   ]
  },
  {
   "cell_type": "code",
   "execution_count": null,
   "metadata": {},
   "outputs": [],
   "source": [
    "county = pd.merge(_county,temp)"
   ]
  },
  {
   "cell_type": "markdown",
   "metadata": {},
   "source": [
    "** Total_Revenue **"
   ]
  },
  {
   "cell_type": "code",
   "execution_count": 189,
   "metadata": {},
   "outputs": [],
   "source": [
    "stats = get_stats(county)"
   ]
  },
  {
   "cell_type": "code",
   "execution_count": 190,
   "metadata": {},
   "outputs": [
    {
     "data": {
      "text/plain": [
       "{'total_missing': (23, 0.00022083321331528262),\n",
       " 'nans': (0, 0.0),\n",
       " 'zeros': (23, 0.0002),\n",
       " 'negatives': (8, 0.0001)}"
      ]
     },
     "execution_count": 190,
     "metadata": {},
     "output_type": "execute_result"
    }
   ],
   "source": [
    "stats['Total_Revenue']"
   ]
  },
  {
   "cell_type": "code",
   "execution_count": null,
   "metadata": {},
   "outputs": [],
   "source": [
    "tr=county.loc[county['Total_Revenue'] < 0][['Year4','ID','Total_Revenue','Population']]"
   ]
  },
  {
   "cell_type": "code",
   "execution_count": null,
   "metadata": {},
   "outputs": [],
   "source": [
    "id_list = tr['ID'].unique().tolist()"
   ]
  },
  {
   "cell_type": "code",
   "execution_count": null,
   "metadata": {},
   "outputs": [],
   "source": [
    "countys_missing_TR = county.loc[county['ID'].isin(id_list)]"
   ]
  },
  {
   "cell_type": "code",
   "execution_count": null,
   "metadata": {},
   "outputs": [],
   "source": [
    "len(countys_missing_TR)"
   ]
  },
  {
   "cell_type": "code",
   "execution_count": null,
   "metadata": {},
   "outputs": [],
   "source": [
    "df = countys_missing_TR.groupby(['ID','Year4']).head()"
   ]
  },
  {
   "cell_type": "code",
   "execution_count": null,
   "metadata": {},
   "outputs": [],
   "source": [
    "df_grouped = countys_missing_TR.groupby('ID')\n",
    "fig, ax = pyplot.subplots(figsize=(20,10))\n",
    "years=[1967, 1970, 1971, 1972, 1973, 1974, 1975, 1976, 1977, 1978, 1979, 1980, 1981, 1982, 1983, 1984, 1985, 1986, 1987, 1988, 1989, 1990, 1991, 1992, 1993, 1994, 1995, 1996, 1997, 1998, 1999, 2000, 2001, 2002, 2003, 2004, 2005, 2006, 2007, 2008, 2009, 2010, 2011, 2012, 2013, 2014, 2015, 2016]\n",
    "ax.set_xticklabels(years, rotation=0)\n",
    "for key, group in df_grouped:\n",
    "#     if key == 381035035:\n",
    "    group.groupby('Year4')['Total_Revenue'].mean().plot(ax=ax,legend=True,label=key)\n"
   ]
  },
  {
   "cell_type": "code",
   "execution_count": null,
   "metadata": {},
   "outputs": [],
   "source": [
    "for id_ in id_list:\n",
    "    l=countys_missing_TR.loc[countys_missing_TR['ID'] == id_]['Year4'].values\n",
    "    print(id_,\":\",sorted(l))\n"
   ]
  },
  {
   "cell_type": "code",
   "execution_count": null,
   "metadata": {},
   "outputs": [],
   "source": [
    "print(id_list)"
   ]
  },
  {
   "cell_type": "code",
   "execution_count": null,
   "metadata": {},
   "outputs": [],
   "source": [
    "# county.loc[(county['Total_Rev_Own_Sources'] < 0)][['Name','Year4']].to_dict()"
   ]
  },
  {
   "cell_type": "markdown",
   "metadata": {},
   "source": [
    "** Can Total_Revenue be <=0 - Yes? **"
   ]
  },
  {
   "cell_type": "markdown",
   "metadata": {},
   "source": [
    "** Total_Rev_Own_Sources **"
   ]
  },
  {
   "cell_type": "code",
   "execution_count": null,
   "metadata": {},
   "outputs": [],
   "source": [
    "stats['Total_Rev_Own_Sources']"
   ]
  },
  {
   "cell_type": "code",
   "execution_count": null,
   "metadata": {},
   "outputs": [],
   "source": [
    "tr=county.loc[county['Total_Rev_Own_Sources'] < 0][['Year4','ID','Total_Revenue','Population']]"
   ]
  },
  {
   "cell_type": "code",
   "execution_count": null,
   "metadata": {},
   "outputs": [],
   "source": [
    "id_list = tr['ID'].unique().tolist()"
   ]
  },
  {
   "cell_type": "code",
   "execution_count": null,
   "metadata": {},
   "outputs": [],
   "source": [
    "countys_missing_TROS = county.loc[county['ID'].isin(id_list)]"
   ]
  },
  {
   "cell_type": "code",
   "execution_count": null,
   "metadata": {},
   "outputs": [],
   "source": [
    "len(countys_missing_TROS)\n",
    "k.head()"
   ]
  },
  {
   "cell_type": "code",
   "execution_count": null,
   "metadata": {},
   "outputs": [],
   "source": [
    "county.loc[(county['Year4'] == 2009) & (county['Total_Rev_Own_Sources'] < 0)][['Year4','ID','Total_Rev_Own_Sources','Population']]"
   ]
  },
  {
   "cell_type": "code",
   "execution_count": null,
   "metadata": {},
   "outputs": [],
   "source": [
    "df_grouped = countys_missing_TROS[['ID','Total_Rev_Own_Sources','Year4']].groupby('ID')\n",
    "fig, ax = pyplot.subplots(figsize=(20,10))\n",
    "years=[1967, 1970, 1971, 1972, 1973, 1974, 1975, 1976, 1977, 1978, 1979, 1980, 1981, 1982, 1983, 1984, 1985, 1986, 1987, 1988, 1989, 1990, 1991, 1992, 1993, 1994, 1995, 1996, 1997, 1998, 1999, 2000, 2001, 2002, 2003, 2004, 2005, 2006, 2007, 2008, 2009, 2010, 2011, 2012, 2013, 2014, 2015, 2016]\n",
    "ax.set_xticklabels(years, rotation=0)\n",
    "for key, group in df_grouped:\n",
    "#     if key == 381035035:\n",
    "    group.groupby('Year4')['Total_Rev_Own_Sources'].mean().plot(ax=ax,legend=True,label=key)\n"
   ]
  },
  {
   "cell_type": "code",
   "execution_count": null,
   "metadata": {},
   "outputs": [],
   "source": [
    "k.head(100)"
   ]
  },
  {
   "cell_type": "code",
   "execution_count": null,
   "metadata": {},
   "outputs": [],
   "source": [
    "county_2019 = county.loc[(county['Year4'] == 2009) ]"
   ]
  },
  {
   "cell_type": "code",
   "execution_count": null,
   "metadata": {},
   "outputs": [],
   "source": [
    "len(county_2019),len(county_2019.keys())"
   ]
  },
  {
   "cell_type": "code",
   "execution_count": null,
   "metadata": {},
   "outputs": [],
   "source": [
    "county_ids = [11001001,11002002,11002002,11002002] # Few counties with positive 'Total_Rev_Own_Sources','Total_Revenue'"
   ]
  },
  {
   "cell_type": "code",
   "execution_count": null,
   "metadata": {},
   "outputs": [],
   "source": [
    "id_list"
   ]
  },
  {
   "cell_type": "code",
   "execution_count": null,
   "metadata": {},
   "outputs": [],
   "source": [
    "ids = county_ids + id_list"
   ]
  },
  {
   "cell_type": "code",
   "execution_count": null,
   "metadata": {},
   "outputs": [],
   "source": [
    "few_counties = county.loc[(county['ID'].isin(ids))]"
   ]
  },
  {
   "cell_type": "code",
   "execution_count": null,
   "metadata": {},
   "outputs": [],
   "source": [
    "few_counties['TR_normalized'].head()"
   ]
  },
  {
   "cell_type": "code",
   "execution_count": null,
   "metadata": {},
   "outputs": [],
   "source": [
    "totals = [x for x in county.columns.values if \"total\" in x.lower()]"
   ]
  },
  {
   "cell_type": "code",
   "execution_count": null,
   "metadata": {},
   "outputs": [],
   "source": [
    "# few_counties['TR_normalized'] = few_counties['Total_Revenue'] / few_counties['Population']\n",
    "df_grouped = few_counties.groupby('ID')\n",
    "fig, ax = pyplot.subplots(figsize=(20,10))\n",
    "years=[1967, 1970, 1971, 1972, 1973, 1974, 1975, 1976, 1977, 1978, 1979, 1980, 1981, 1982, 1983, 1984, 1985, 1986, 1987, 1988, 1989, 1990, 1991, 1992, 1993, 1994, 1995, 1996, 1997, 1998, 1999, 2000, 2001, 2002, 2003, 2004, 2005, 2006, 2007, 2008, 2009, 2010, 2011, 2012, 2013, 2014, 2015, 2016]\n",
    "ax.set_xticklabels(years, rotation=0)\n",
    "for key, group in df_grouped:\n",
    "    if key == 11001001 or key == 51010010:\n",
    "        group.groupby('Year4')[totals].mean().plot(ax=ax,legend=True,label=key)\n",
    "#         group.groupby('Year4')['Total_Revenue'].mean().plot(ax=ax,legend=True,label=key)\n"
   ]
  },
  {
   "cell_type": "markdown",
   "metadata": {},
   "source": [
    "**FIPS_County**\n"
   ]
  },
  {
   "cell_type": "code",
   "execution_count": null,
   "metadata": {},
   "outputs": [],
   "source": [
    "stats['FIPS_County']"
   ]
  },
  {
   "cell_type": "code",
   "execution_count": null,
   "metadata": {},
   "outputs": [],
   "source": [
    "county.loc[county['FIPS_County'] != county['FIPS_County']].head(2)"
   ]
  },
  {
   "cell_type": "code",
   "execution_count": null,
   "metadata": {},
   "outputs": [],
   "source": [
    "county.loc[county['ID'] == 21011011]['FIPS_County'].unique()"
   ]
  },
  {
   "cell_type": "code",
   "execution_count": null,
   "metadata": {},
   "outputs": [],
   "source": [
    "# replace nans with 188.0\n",
    "county['FIPS_County'] = county['FIPS_County'].fillna(188.0)"
   ]
  },
  {
   "cell_type": "code",
   "execution_count": null,
   "metadata": {},
   "outputs": [],
   "source": [
    "stats = get_stats(county)"
   ]
  },
  {
   "cell_type": "code",
   "execution_count": null,
   "metadata": {},
   "outputs": [],
   "source": [
    "stats['FIPS_County']"
   ]
  },
  {
   "cell_type": "markdown",
   "metadata": {},
   "source": [
    "** FIPS_Place **"
   ]
  },
  {
   "cell_type": "code",
   "execution_count": null,
   "metadata": {},
   "outputs": [],
   "source": [
    "stats['FIPS_Place']"
   ]
  },
  {
   "cell_type": "code",
   "execution_count": 142,
   "metadata": {},
   "outputs": [],
   "source": [
    "# Nearly 80 % of the values are nans. Adding it to to_drop\n",
    "to_drop.update('FIPS_Place')"
   ]
  },
  {
   "cell_type": "markdown",
   "metadata": {},
   "source": [
    "** FYEndDate **"
   ]
  },
  {
   "cell_type": "code",
   "execution_count": null,
   "metadata": {},
   "outputs": [],
   "source": [
    "stats['FYEndDate']"
   ]
  },
  {
   "cell_type": "markdown",
   "metadata": {},
   "source": [
    "There are 1586 nans and 44 zeroes.  "
   ]
  },
  {
   "cell_type": "code",
   "execution_count": null,
   "metadata": {},
   "outputs": [],
   "source": [
    "county['FYEndDate'].dropna().astype('str').unique()"
   ]
  },
  {
   "cell_type": "code",
   "execution_count": null,
   "metadata": {},
   "outputs": [],
   "source": [
    "nan_FYEndDate = county.loc[county['FYEndDate'] != county['FYEndDate']]"
   ]
  },
  {
   "cell_type": "code",
   "execution_count": null,
   "metadata": {},
   "outputs": [],
   "source": [
    "nan_FYEndDate['Year4'].unique()"
   ]
  },
  {
   "cell_type": "code",
   "execution_count": null,
   "metadata": {},
   "outputs": [],
   "source": [
    "nan_FYEndDate['Name'].unique()"
   ]
  },
  {
   "cell_type": "code",
   "execution_count": null,
   "metadata": {},
   "outputs": [],
   "source": [
    "len(nan_FYEndDate['ID'].unique()),len(nan_FYEndDate['Name'].unique())"
   ]
  },
  {
   "cell_type": "markdown",
   "metadata": {},
   "source": [
    "Ignoring FYEndDate "
   ]
  },
  {
   "cell_type": "code",
   "execution_count": 143,
   "metadata": {},
   "outputs": [],
   "source": [
    "to_drop.update('FYEndDate')"
   ]
  },
  {
   "cell_type": "markdown",
   "metadata": {},
   "source": [
    "** YearPop **"
   ]
  },
  {
   "cell_type": "code",
   "execution_count": null,
   "metadata": {},
   "outputs": [],
   "source": [
    "stats['YearPop']"
   ]
  },
  {
   "cell_type": "code",
   "execution_count": null,
   "metadata": {},
   "outputs": [],
   "source": [
    "county['YearPop'].dropna().astype('str').unique()"
   ]
  },
  {
   "cell_type": "code",
   "execution_count": null,
   "metadata": {},
   "outputs": [],
   "source": [
    "nan_YearPop = county.loc[county['YearPop'] != county['YearPop']]"
   ]
  },
  {
   "cell_type": "code",
   "execution_count": null,
   "metadata": {},
   "outputs": [],
   "source": [
    "nan_YearPop['Year4'].unique()"
   ]
  },
  {
   "cell_type": "code",
   "execution_count": null,
   "metadata": {},
   "outputs": [],
   "source": [
    "nan_YearPop['Name'].unique()"
   ]
  },
  {
   "cell_type": "code",
   "execution_count": null,
   "metadata": {},
   "outputs": [],
   "source": [
    "len(nan_YearPop['ID'].unique()),len(nan_YearPop['Name'].unique())"
   ]
  },
  {
   "cell_type": "markdown",
   "metadata": {},
   "source": [
    "Ignoring YearPop "
   ]
  },
  {
   "cell_type": "code",
   "execution_count": 144,
   "metadata": {},
   "outputs": [],
   "source": [
    "to_drop.update('YearPop')"
   ]
  },
  {
   "cell_type": "code",
   "execution_count": 191,
   "metadata": {},
   "outputs": [
    {
     "name": "stdout",
     "output_type": "stream",
     "text": [
      "{'LTD_Iss_NG_Trans_Util', 'Educ_NEC_Cap_Outlay', 'LTD_Ret_NG_Gas_Util', 'Unemp_Comp_Ben_Paymts', 'Net_Lottery_Revenue', 'LTD_Iss_NG_Gas_Util', 'Emp_Sec_Adm_Construct', 'Emp_Ret_Other_Earnings', 'Unemp_Payroll_Tax', 'FunctionCode', 'Water_Trans_IG_To_Sta', 'LTD_Iss_NG_Other_Educ', 'Unemp_Int_Revenue', 'Educ_NEC_Construction', 'LTD_Iss_NG_Elem_Educ', 'Welf_Cash_IG_Local_Govts', 'Enrollment', 'Educ_NEC_Assistance', 'Unemp_Comp_Bal_In_US_Trs', 'Emp_Sec_Adm_Current_Exp', 'Local_IGR_InterSchool_Aid', 'VetBonus', 'Elem_Educ_IG_Sch_to_Sch', 'Unemp_Ext___Spec_Pmts', 'Unemp_Federal_Advances', 'Fed_IGR_Emp_Sec_Adm', 'LTD_Iss_NG_Elec_Util', 'LTD_Ret_NG_Elem_Educ', 'Welf_State_Share_Part_D', 'Emp_Sec_Adm_Direct_Exp', 'Emp_Sec_Adm_Cap_Outlay', 'Unemp_Comp_Cash___Sec', 'Total_Educ_Assist___Sub', 'SchLevCode', 'LTD_Ret_NG_Elec_Util', 'Unemp_Comp_Total_Exp', 'Total_Unemp_Rev', 'Educ_NEC_IG_To_State', 'Hunting___Fishing_License', 'Unemp_Comp_Other_Balance'}\n"
     ]
    }
   ],
   "source": [
    "print(to_drop)"
   ]
  },
  {
   "cell_type": "markdown",
   "metadata": {},
   "source": [
    "** Motor_Vehicle_License_Total **"
   ]
  },
  {
   "cell_type": "code",
   "execution_count": 192,
   "metadata": {},
   "outputs": [],
   "source": [
    "county = county.drop(columns=to_drop)"
   ]
  },
  {
   "cell_type": "code",
   "execution_count": 193,
   "metadata": {},
   "outputs": [],
   "source": [
    "stats = get_stats(county)"
   ]
  },
  {
   "cell_type": "code",
   "execution_count": 194,
   "metadata": {},
   "outputs": [
    {
     "data": {
      "text/plain": [
       "{'total_missing': (65853, 0.6322838954978829),\n",
       " 'nans': (1433, 0.0138),\n",
       " 'zeros': (64420, 0.6185),\n",
       " 'negatives': (0, 0.0)}"
      ]
     },
     "execution_count": 194,
     "metadata": {},
     "output_type": "execute_result"
    }
   ],
   "source": [
    "stats['Motor_Vehicle_License_Total']"
   ]
  },
  {
   "cell_type": "code",
   "execution_count": 196,
   "metadata": {},
   "outputs": [
    {
     "data": {
      "text/plain": [
       "array([  nan,   78.,   39., ..., 2210., 1990., 1822.])"
      ]
     },
     "execution_count": 196,
     "metadata": {},
     "output_type": "execute_result"
    }
   ],
   "source": []
  },
  {
   "cell_type": "code",
   "execution_count": 68,
   "metadata": {},
   "outputs": [],
   "source": [
    "nan_ids = county.loc[(county['Motor_Vehicle_License_Total'] != county['Motor_Vehicle_License_Total'])]"
   ]
  },
  {
   "cell_type": "code",
   "execution_count": 96,
   "metadata": {},
   "outputs": [
    {
     "data": {
      "text/plain": [
       "array([2016])"
      ]
     },
     "execution_count": 96,
     "metadata": {},
     "output_type": "execute_result"
    }
   ],
   "source": [
    "nan_ids['Year4'].unique()"
   ]
  },
  {
   "cell_type": "markdown",
   "metadata": {},
   "source": [
    "All the missing values are for year 2016 "
   ]
  },
  {
   "cell_type": "code",
   "execution_count": 69,
   "metadata": {},
   "outputs": [
    {
     "data": {
      "text/plain": [
       "1433"
      ]
     },
     "execution_count": 69,
     "metadata": {},
     "output_type": "execute_result"
    }
   ],
   "source": [
    "len(nan_ids)"
   ]
  },
  {
   "cell_type": "code",
   "execution_count": 84,
   "metadata": {},
   "outputs": [],
   "source": [
    "ids = nan_ids['ID'].unique()"
   ]
  },
  {
   "cell_type": "code",
   "execution_count": 85,
   "metadata": {},
   "outputs": [],
   "source": [
    "names = nan_ids['Name'].unique()"
   ]
  },
  {
   "cell_type": "code",
   "execution_count": 87,
   "metadata": {},
   "outputs": [
    {
     "data": {
      "text/plain": [
       "(1433, 1024)"
      ]
     },
     "execution_count": 87,
     "metadata": {},
     "output_type": "execute_result"
    }
   ],
   "source": [
    "len(ids),len(names)"
   ]
  },
  {
   "cell_type": "code",
   "execution_count": 94,
   "metadata": {},
   "outputs": [],
   "source": [
    "d = nan_ids.groupby('Name')['ID'].unique().to_dict()"
   ]
  },
  {
   "cell_type": "code",
   "execution_count": null,
   "metadata": {},
   "outputs": [],
   "source": [
    "for key , val in d.items():\n",
    "    if len(val) > 1:\n",
    "        print(key,val)"
   ]
  },
  {
   "cell_type": "code",
   "execution_count": 15,
   "metadata": {},
   "outputs": [
    {
     "data": {
      "text/plain": [
       "3061"
      ]
     },
     "execution_count": 15,
     "metadata": {},
     "output_type": "execute_result"
    }
   ],
   "source": [
    "len(county['ID'].unique())"
   ]
  },
  {
   "cell_type": "code",
   "execution_count": 16,
   "metadata": {},
   "outputs": [],
   "source": [
    "instances = county.loc[county['ID'].isin(nan_ids)]"
   ]
  },
  {
   "cell_type": "code",
   "execution_count": 28,
   "metadata": {},
   "outputs": [],
   "source": [
    "instances = instances.loc[(instances['Motor_Vehicle_License_Total'] != instances['Motor_Vehicle_License_Total']) | (instances['Motor_Vehicle_License_Total'] > 0)]"
   ]
  },
  {
   "cell_type": "code",
   "execution_count": 32,
   "metadata": {},
   "outputs": [
    {
     "data": {
      "text/plain": [
       "{'Motor_Vehicle_License_Total': {'nans': (1433, 0.1075),\n",
       "  'zeros': (0, 0.0),\n",
       "  'negatives': (0, 0.0)}}"
      ]
     },
     "execution_count": 32,
     "metadata": {},
     "output_type": "execute_result"
    }
   ],
   "source": [
    "get_stats(instances,['Motor_Vehicle_License_Total'])"
   ]
  },
  {
   "cell_type": "code",
   "execution_count": null,
   "metadata": {},
   "outputs": [],
   "source": []
  },
  {
   "cell_type": "code",
   "execution_count": 99,
   "metadata": {},
   "outputs": [],
   "source": [
    "_2016 = county.loc[county['Year4'] == 2016]"
   ]
  },
  {
   "cell_type": "code",
   "execution_count": 205,
   "metadata": {},
   "outputs": [],
   "source": [
    "rest = county.loc[county['Year4'] != 2016]"
   ]
  },
  {
   "cell_type": "code",
   "execution_count": 104,
   "metadata": {},
   "outputs": [],
   "source": [
    "stats_2016 = get_stats(_2016)"
   ]
  },
  {
   "cell_type": "code",
   "execution_count": 111,
   "metadata": {},
   "outputs": [],
   "source": []
  },
  {
   "cell_type": "code",
   "execution_count": 133,
   "metadata": {},
   "outputs": [],
   "source": [
    "def print_missing(stats):\n",
    "    for key,val in stats.items():\n",
    "        if val['nans'][0] > 100 :\n",
    "            print(key)\n",
    "            print(val)"
   ]
  },
  {
   "cell_type": "code",
   "execution_count": 124,
   "metadata": {},
   "outputs": [],
   "source": [
    "c= _2016[get_features(_2016, \"motor\")]"
   ]
  },
  {
   "cell_type": "code",
   "execution_count": 126,
   "metadata": {},
   "outputs": [
    {
     "data": {
      "text/plain": [
       "Motor_Fuels_Tax                  int64\n",
       "Motor_Vehicle_License            int64\n",
       "Motor_Veh_Oper_License           int64\n",
       "Motor_Vehicle_License_Total    float64\n",
       "dtype: object"
      ]
     },
     "execution_count": 126,
     "metadata": {},
     "output_type": "execute_result"
    }
   ],
   "source": [
    "county[get_features(_2016, \"motor\")].dtypes"
   ]
  },
  {
   "cell_type": "code",
   "execution_count": 206,
   "metadata": {},
   "outputs": [],
   "source": [
    "stats_rest = get_stats(rest)"
   ]
  },
  {
   "cell_type": "code",
   "execution_count": 201,
   "metadata": {},
   "outputs": [],
   "source": []
  },
  {
   "cell_type": "code",
   "execution_count": 202,
   "metadata": {},
   "outputs": [],
   "source": [
    "county,stats = load_data(file_path,drop_list=to_drop)"
   ]
  },
  {
   "cell_type": "code",
   "execution_count": 200,
   "metadata": {},
   "outputs": [],
   "source": [
    "to_drop.update(['YearofData','IDChanged','FIPS_Place','FYEndDate','YearPop'])"
   ]
  },
  {
   "cell_type": "code",
   "execution_count": 207,
   "metadata": {},
   "outputs": [],
   "source": [
    "print_missing(stats_rest)"
   ]
  },
  {
   "cell_type": "code",
   "execution_count": null,
   "metadata": {},
   "outputs": [],
   "source": [
    "from matplotlib import pyplot\n",
    "import seaborn as sns"
   ]
  },
  {
   "cell_type": "code",
   "execution_count": 98,
   "metadata": {},
   "outputs": [
    {
     "data": {
      "image/png": "[encoded data removed]",
      "text/plain": [
       "<Figure size 1440x720 with 1 Axes>"
      ]
     },
     "metadata": {
      "needs_background": "light"
     },
     "output_type": "display_data"
    }
   ],
   "source": [
    "df_grouped = instances[['ID','Name','Total_Revenue','Year4','Motor_Vehicle_License_Total']].groupby('Name')\n",
    "fig, ax = pyplot.subplots(figsize=(20,10))\n",
    "years=[1967, 1970, 1971, 1972, 1973, 1974, 1975, 1976, 1977, 1978, 1979, 1980, 1981, 1982, 1983, 1984, 1985, 1986, 1987, 1988, 1989, 1990, 1991, 1992, 1993, 1994, 1995, 1996, 1997, 1998, 1999, 2000, 2001, 2002, 2003, 2004, 2005, 2006, 2007, 2008, 2009, 2010, 2011, 2012, 2013, 2014, 2015, 2016]\n",
    "ax.set_xticklabels(years, rotation=0)\n",
    "count=0\n",
    "for key, group in df_grouped:\n",
    "#     if key == 381035035:\n",
    "    group.groupby('Year4')['Motor_Vehicle_License_Total'].mean().plot(ax=ax,legend=True,label=key)\n",
    "    count +=1\n",
    "    if count > 5:\n",
    "        break\n"
   ]
  },
  {
   "cell_type": "code",
   "execution_count": null,
   "metadata": {},
   "outputs": [],
   "source": [
    "for feature,stat in stats.items():\n",
    "    if stat['nans'][0] > 0:\n",
    "        print(feature, \" : \", stats[feature])"
   ]
  },
  {
   "cell_type": "code",
   "execution_count": 208,
   "metadata": {},
   "outputs": [
    {
     "data": {
      "text/plain": [
       "{'Educ_NEC_Assistance',\n",
       " 'Educ_NEC_Cap_Outlay',\n",
       " 'Educ_NEC_Construction',\n",
       " 'Educ_NEC_IG_To_State',\n",
       " 'Elem_Educ_IG_Sch_to_Sch',\n",
       " 'Emp_Ret_Other_Earnings',\n",
       " 'Emp_Sec_Adm_Cap_Outlay',\n",
       " 'Emp_Sec_Adm_Construct',\n",
       " 'Emp_Sec_Adm_Current_Exp',\n",
       " 'Emp_Sec_Adm_Direct_Exp',\n",
       " 'Enrollment',\n",
       " 'FIPS_Place',\n",
       " 'FYEndDate',\n",
       " 'Fed_IGR_Emp_Sec_Adm',\n",
       " 'FunctionCode',\n",
       " 'Hunting___Fishing_License',\n",
       " 'IDChanged',\n",
       " 'LTD_Iss_NG_Elec_Util',\n",
       " 'LTD_Iss_NG_Elem_Educ',\n",
       " 'LTD_Iss_NG_Gas_Util',\n",
       " 'LTD_Iss_NG_Other_Educ',\n",
       " 'LTD_Iss_NG_Trans_Util',\n",
       " 'LTD_Ret_NG_Elec_Util',\n",
       " 'LTD_Ret_NG_Elem_Educ',\n",
       " 'LTD_Ret_NG_Gas_Util',\n",
       " 'Local_IGR_InterSchool_Aid',\n",
       " 'Net_Lottery_Revenue',\n",
       " 'SchLevCode',\n",
       " 'Total_Educ_Assist___Sub',\n",
       " 'Total_Unemp_Rev',\n",
       " 'Unemp_Comp_Bal_In_US_Trs',\n",
       " 'Unemp_Comp_Ben_Paymts',\n",
       " 'Unemp_Comp_Cash___Sec',\n",
       " 'Unemp_Comp_Other_Balance',\n",
       " 'Unemp_Comp_Total_Exp',\n",
       " 'Unemp_Ext___Spec_Pmts',\n",
       " 'Unemp_Federal_Advances',\n",
       " 'Unemp_Int_Revenue',\n",
       " 'Unemp_Payroll_Tax',\n",
       " 'VetBonus',\n",
       " 'Water_Trans_IG_To_Sta',\n",
       " 'Welf_Cash_IG_Local_Govts',\n",
       " 'Welf_State_Share_Part_D',\n",
       " 'YearPop',\n",
       " 'YearofData'}"
      ]
     },
     "execution_count": 208,
     "metadata": {},
     "output_type": "execute_result"
    }
   ],
   "source": [
    "to_drop"
   ]
  },
  {
   "cell_type": "code",
   "execution_count": null,
   "metadata": {},
   "outputs": [],
   "source": [
    "final_ignore_list = ['YearofData','YearPop','SchLevCode']"
   ]
  },
  {
   "cell_type": "code",
   "execution_count": 209,
   "metadata": {},
   "outputs": [
    {
     "data": {
      "text/plain": [
       "{'total_missing': (23, 0.00022083321331528262),\n",
       " 'nans': (0, 0.0),\n",
       " 'zeros': (23, 0.0002),\n",
       " 'negatives': (8, 0.0001)}"
      ]
     },
     "execution_count": 209,
     "metadata": {},
     "output_type": "execute_result"
    }
   ],
   "source": [
    "stats['Total_Revenue']"
   ]
  },
  {
   "cell_type": "code",
   "execution_count": null,
   "metadata": {},
   "outputs": [],
   "source": []
  }
 ],
 "metadata": {
  "kernelspec": {
   "display_name": "Python 3",
   "language": "python",
   "name": "python3"
  },
  "language_info": {
   "codemirror_mode": {
    "name": "ipython",
    "version": 3
   },
   "file_extension": ".py",
   "mimetype": "text/x-python",
   "name": "python",
   "nbconvert_exporter": "python",
   "pygments_lexer": "ipython3",
   "version": "3.7.2"
  }
 },
 "nbformat": 4,
 "nbformat_minor": 2
}
