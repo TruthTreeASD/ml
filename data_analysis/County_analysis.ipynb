{
 "cells": [
  {
   "cell_type": "code",
   "execution_count": 7,
   "metadata": {},
   "outputs": [],
   "source": [
    "%run helper.ipynb"
   ]
  },
  {
   "cell_type": "code",
   "execution_count": 8,
   "metadata": {},
   "outputs": [],
   "source": [
    "file_path=\"/Users/lohith/Desktop/NEU_Courses/ThirdSemester/CS6510-ASD/data/TheGovernmentFinanceDatabase_CountyData/CountyData.csv\"\n",
    "ignore=set(['YearofData','IDChanged','FIPS_Place','YearPop','SchLevCode','FunctionCode'])"
   ]
  },
  {
   "cell_type": "code",
   "execution_count": 9,
   "metadata": {},
   "outputs": [],
   "source": [
    "county = pd.read_csv(file_path)"
   ]
  },
  {
   "cell_type": "code",
   "execution_count": 18,
   "metadata": {},
   "outputs": [
    {
     "data": {
      "text/html": [
       "<div>\n",
       "<style scoped>\n",
       "    .dataframe tbody tr th:only-of-type {\n",
       "        vertical-align: middle;\n",
       "    }\n",
       "\n",
       "    .dataframe tbody tr th {\n",
       "        vertical-align: top;\n",
       "    }\n",
       "\n",
       "    .dataframe thead th {\n",
       "        text-align: right;\n",
       "    }\n",
       "</style>\n",
       "<table border=\"1\" class=\"dataframe\">\n",
       "  <thead>\n",
       "    <tr style=\"text-align: right;\">\n",
       "      <th></th>\n",
       "      <th>SurveyYr</th>\n",
       "      <th>Year4</th>\n",
       "      <th>YearofData</th>\n",
       "      <th>ID</th>\n",
       "      <th>IDChanged</th>\n",
       "      <th>State_Code</th>\n",
       "      <th>Type_Code</th>\n",
       "      <th>County</th>\n",
       "      <th>Name</th>\n",
       "      <th>FIPS_Code_State</th>\n",
       "      <th>...</th>\n",
       "      <th>Emp_Retire_Sec_Mortgages</th>\n",
       "      <th>Emp_Retire_Sec_Misc_Inv</th>\n",
       "      <th>Emp_Retire_Sec_Oth_Nong</th>\n",
       "      <th>Unemp_Comp_Cash___Sec</th>\n",
       "      <th>Unemp_Comp_Bal_In_US_Trs</th>\n",
       "      <th>Unemp_Comp_Other_Balance</th>\n",
       "      <th>Nonin_Trust_Cash___Sec</th>\n",
       "      <th>Sinking_Fd_Cash___Sec</th>\n",
       "      <th>Bond_Fd_Cash___Sec</th>\n",
       "      <th>Oth_Nonin_Fd_Cash___Sec</th>\n",
       "    </tr>\n",
       "  </thead>\n",
       "  <tbody>\n",
       "    <tr>\n",
       "      <th>0</th>\n",
       "      <td>16</td>\n",
       "      <td>2016</td>\n",
       "      <td>NaN</td>\n",
       "      <td>11002002</td>\n",
       "      <td>NaN</td>\n",
       "      <td>1</td>\n",
       "      <td>1</td>\n",
       "      <td>2</td>\n",
       "      <td>BALDWIN COUNTY</td>\n",
       "      <td>1</td>\n",
       "      <td>...</td>\n",
       "      <td>0</td>\n",
       "      <td>0</td>\n",
       "      <td>0</td>\n",
       "      <td>0</td>\n",
       "      <td>0</td>\n",
       "      <td>0</td>\n",
       "      <td>95519</td>\n",
       "      <td>14789</td>\n",
       "      <td>0</td>\n",
       "      <td>80730</td>\n",
       "    </tr>\n",
       "    <tr>\n",
       "      <th>1</th>\n",
       "      <td>16</td>\n",
       "      <td>2016</td>\n",
       "      <td>NaN</td>\n",
       "      <td>11005005</td>\n",
       "      <td>NaN</td>\n",
       "      <td>1</td>\n",
       "      <td>1</td>\n",
       "      <td>5</td>\n",
       "      <td>BLOUNT COUNTY</td>\n",
       "      <td>1</td>\n",
       "      <td>...</td>\n",
       "      <td>0</td>\n",
       "      <td>0</td>\n",
       "      <td>0</td>\n",
       "      <td>0</td>\n",
       "      <td>0</td>\n",
       "      <td>0</td>\n",
       "      <td>11092</td>\n",
       "      <td>0</td>\n",
       "      <td>0</td>\n",
       "      <td>11092</td>\n",
       "    </tr>\n",
       "    <tr>\n",
       "      <th>2</th>\n",
       "      <td>16</td>\n",
       "      <td>2016</td>\n",
       "      <td>NaN</td>\n",
       "      <td>11008008</td>\n",
       "      <td>NaN</td>\n",
       "      <td>1</td>\n",
       "      <td>1</td>\n",
       "      <td>8</td>\n",
       "      <td>CALHOUN COUNTY</td>\n",
       "      <td>1</td>\n",
       "      <td>...</td>\n",
       "      <td>0</td>\n",
       "      <td>0</td>\n",
       "      <td>0</td>\n",
       "      <td>0</td>\n",
       "      <td>0</td>\n",
       "      <td>0</td>\n",
       "      <td>27871</td>\n",
       "      <td>0</td>\n",
       "      <td>0</td>\n",
       "      <td>27871</td>\n",
       "    </tr>\n",
       "    <tr>\n",
       "      <th>3</th>\n",
       "      <td>16</td>\n",
       "      <td>2016</td>\n",
       "      <td>NaN</td>\n",
       "      <td>11010010</td>\n",
       "      <td>NaN</td>\n",
       "      <td>1</td>\n",
       "      <td>1</td>\n",
       "      <td>10</td>\n",
       "      <td>CHEROKEE COUNTY</td>\n",
       "      <td>1</td>\n",
       "      <td>...</td>\n",
       "      <td>0</td>\n",
       "      <td>0</td>\n",
       "      <td>0</td>\n",
       "      <td>0</td>\n",
       "      <td>0</td>\n",
       "      <td>0</td>\n",
       "      <td>4074</td>\n",
       "      <td>340</td>\n",
       "      <td>0</td>\n",
       "      <td>3734</td>\n",
       "    </tr>\n",
       "    <tr>\n",
       "      <th>4</th>\n",
       "      <td>16</td>\n",
       "      <td>2016</td>\n",
       "      <td>NaN</td>\n",
       "      <td>11015015</td>\n",
       "      <td>NaN</td>\n",
       "      <td>1</td>\n",
       "      <td>1</td>\n",
       "      <td>15</td>\n",
       "      <td>CLEBURNE COUNTY</td>\n",
       "      <td>1</td>\n",
       "      <td>...</td>\n",
       "      <td>0</td>\n",
       "      <td>0</td>\n",
       "      <td>0</td>\n",
       "      <td>0</td>\n",
       "      <td>0</td>\n",
       "      <td>0</td>\n",
       "      <td>4259</td>\n",
       "      <td>72</td>\n",
       "      <td>0</td>\n",
       "      <td>4187</td>\n",
       "    </tr>\n",
       "  </tbody>\n",
       "</table>\n",
       "<p>5 rows × 594 columns</p>\n",
       "</div>"
      ],
      "text/plain": [
       "   SurveyYr  Year4  YearofData        ID  IDChanged  State_Code  Type_Code  \\\n",
       "0        16   2016         NaN  11002002        NaN           1          1   \n",
       "1        16   2016         NaN  11005005        NaN           1          1   \n",
       "2        16   2016         NaN  11008008        NaN           1          1   \n",
       "3        16   2016         NaN  11010010        NaN           1          1   \n",
       "4        16   2016         NaN  11015015        NaN           1          1   \n",
       "\n",
       "   County             Name  FIPS_Code_State           ...             \\\n",
       "0       2   BALDWIN COUNTY                1           ...              \n",
       "1       5    BLOUNT COUNTY                1           ...              \n",
       "2       8   CALHOUN COUNTY                1           ...              \n",
       "3      10  CHEROKEE COUNTY                1           ...              \n",
       "4      15  CLEBURNE COUNTY                1           ...              \n",
       "\n",
       "   Emp_Retire_Sec_Mortgages  Emp_Retire_Sec_Misc_Inv  Emp_Retire_Sec_Oth_Nong  \\\n",
       "0                         0                        0                        0   \n",
       "1                         0                        0                        0   \n",
       "2                         0                        0                        0   \n",
       "3                         0                        0                        0   \n",
       "4                         0                        0                        0   \n",
       "\n",
       "   Unemp_Comp_Cash___Sec  Unemp_Comp_Bal_In_US_Trs  Unemp_Comp_Other_Balance  \\\n",
       "0                      0                         0                         0   \n",
       "1                      0                         0                         0   \n",
       "2                      0                         0                         0   \n",
       "3                      0                         0                         0   \n",
       "4                      0                         0                         0   \n",
       "\n",
       "   Nonin_Trust_Cash___Sec  Sinking_Fd_Cash___Sec  Bond_Fd_Cash___Sec  \\\n",
       "0                   95519                  14789                   0   \n",
       "1                   11092                      0                   0   \n",
       "2                   27871                      0                   0   \n",
       "3                    4074                    340                   0   \n",
       "4                    4259                     72                   0   \n",
       "\n",
       "   Oth_Nonin_Fd_Cash___Sec  \n",
       "0                    80730  \n",
       "1                    11092  \n",
       "2                    27871  \n",
       "3                     3734  \n",
       "4                     4187  \n",
       "\n",
       "[5 rows x 594 columns]"
      ]
     },
     "execution_count": 18,
     "metadata": {},
     "output_type": "execute_result"
    }
   ],
   "source": [
    "county.head()"
   ]
  },
  {
   "cell_type": "code",
   "execution_count": 12,
   "metadata": {},
   "outputs": [],
   "source": [
    "stats = get_stats(county)"
   ]
  },
  {
   "cell_type": "code",
   "execution_count": 24,
   "metadata": {},
   "outputs": [],
   "source": [
    "all_nans = [x for x,y in stats.items() if y['nans'][1] == 1]"
   ]
  },
  {
   "cell_type": "code",
   "execution_count": 25,
   "metadata": {},
   "outputs": [
    {
     "data": {
      "text/plain": [
       "['SchLevCode', 'FunctionCode', 'Enrollment']"
      ]
     },
     "execution_count": 25,
     "metadata": {},
     "output_type": "execute_result"
    }
   ],
   "source": [
    "all_nans"
   ]
  },
  {
   "cell_type": "code",
   "execution_count": 26,
   "metadata": {},
   "outputs": [],
   "source": [
    "all_zeros = [x for x,y in stats.items() if y['zeros'][1] == 1]"
   ]
  },
  {
   "cell_type": "code",
   "execution_count": 31,
   "metadata": {},
   "outputs": [
    {
     "data": {
      "text/plain": [
       "(36, 3)"
      ]
     },
     "execution_count": 31,
     "metadata": {},
     "output_type": "execute_result"
    }
   ],
   "source": [
    "len(all_zeros),len(all_nans)"
   ]
  },
  {
   "cell_type": "code",
   "execution_count": 13,
   "metadata": {},
   "outputs": [],
   "source": [
    "zero_or_nan = [x for x,y in stats.items() if y['zeros'][1] + y['nans'][1] == 1]"
   ]
  },
  {
   "cell_type": "code",
   "execution_count": 14,
   "metadata": {},
   "outputs": [],
   "source": [
    "to_drop = set(zero_or_nan)"
   ]
  },
  {
   "cell_type": "code",
   "execution_count": 56,
   "metadata": {},
   "outputs": [],
   "source": [
    "total_instances = len(county)"
   ]
  },
  {
   "cell_type": "code",
   "execution_count": 57,
   "metadata": {},
   "outputs": [
    {
     "name": "stdout",
     "output_type": "stream",
     "text": [
      "Educ_NEC_Cap_Outlay 104149\n",
      "Emp_Sec_Adm_Direct_Exp 104150\n",
      "Emp_Sec_Adm_Cap_Outlay 104150\n",
      "Emp_Sec_Adm_Construct 104150\n",
      "Welf_Cash_IG_Local_Govts 104148\n",
      "LTD_Iss_NG_Trans_Util 104147\n",
      "LTD_Iss_NG_Other_Educ 104146\n",
      "LTD_Ret_NG_Elem_Educ 104146\n"
     ]
    }
   ],
   "source": [
    "for i in zero_or_nan:\n",
    "    l= len(county.loc[(county[i] != county[i]) | (county[i] == 0)])\n",
    "    if l != total_instances:\n",
    "        print(i, l)\n"
   ]
  },
  {
   "cell_type": "code",
   "execution_count": 55,
   "metadata": {},
   "outputs": [
    {
     "data": {
      "text/plain": [
       "0     104149\n",
       "17         1\n",
       "1          1\n",
       "Name: Educ_NEC_Cap_Outlay, dtype: int64"
      ]
     },
     "execution_count": 55,
     "metadata": {},
     "output_type": "execute_result"
    }
   ],
   "source": [
    "county['Educ_NEC_Cap_Outlay'].value_counts()"
   ]
  },
  {
   "cell_type": "code",
   "execution_count": 37,
   "metadata": {},
   "outputs": [],
   "source": [
    "negatives = [x for x,y in stats.items() if y['negatives'][1] > 0 if y['negatives'][1] < .9]"
   ]
  },
  {
   "cell_type": "code",
   "execution_count": 60,
   "metadata": {},
   "outputs": [
    {
     "name": "stdout",
     "output_type": "stream",
     "text": [
      "Total_Revenue (8, 0.0001)\n",
      "Total_Rev_Own_Sources (15, 0.0001)\n",
      "Total_Insur_Trust_Rev (219, 0.0021)\n",
      "Tot_Ins_Trust_Inv_Rev (326, 0.0031)\n",
      "Total_Emp_Ret_Rev (219, 0.0021)\n",
      "Emp_Ret_Int_Rev (326, 0.0031)\n",
      "LTD_Out_Gen_Other_NEC (6, 0.0001)\n",
      "Sinking_Fd_Cash___Sec (13, 0.0001)\n"
     ]
    }
   ],
   "source": [
    "for i in negatives:\n",
    "    print(i,stats[i]['negatives'])"
   ]
  },
  {
   "cell_type": "markdown",
   "metadata": {},
   "source": [
    "** We can safely drop below features **\n",
    "```\n",
    "SurveyYr\n",
    "YearofData\n",
    "IDChanged\n",
    "```"
   ]
  },
  {
   "cell_type": "code",
   "execution_count": 15,
   "metadata": {},
   "outputs": [],
   "source": [
    "to_drop.update(['SurveyYr','YearofData','IDChanged'])"
   ]
  },
  {
   "cell_type": "code",
   "execution_count": 16,
   "metadata": {},
   "outputs": [
    {
     "name": "stdout",
     "output_type": "stream",
     "text": [
      "{'Unemp_Comp_Bal_In_US_Trs', 'Welf_Cash_IG_Local_Govts', 'Unemp_Comp_Other_Balance', 'Hunting___Fishing_License', 'Unemp_Comp_Ben_Paymts', 'Educ_NEC_Cap_Outlay', 'SchLevCode', 'Educ_NEC_Assistance', 'Emp_Sec_Adm_Direct_Exp', 'Emp_Sec_Adm_Construct', 'VetBonus', 'Unemp_Comp_Total_Exp', 'SurveyYr', 'Local_IGR_InterSchool_Aid', 'LTD_Iss_NG_Gas_Util', 'Unemp_Comp_Cash___Sec', 'LTD_Iss_NG_Other_Educ', 'IDChanged', 'LTD_Iss_NG_Trans_Util', 'FunctionCode', 'Elem_Educ_IG_Sch_to_Sch', 'Enrollment', 'LTD_Iss_NG_Elec_Util', 'Net_Lottery_Revenue', 'LTD_Ret_NG_Elec_Util', 'Total_Educ_Assist___Sub', 'Unemp_Payroll_Tax', 'Emp_Ret_Other_Earnings', 'Unemp_Federal_Advances', 'Total_Unemp_Rev', 'LTD_Ret_NG_Gas_Util', 'Emp_Sec_Adm_Cap_Outlay', 'LTD_Ret_NG_Elem_Educ', 'Educ_NEC_Construction', 'Unemp_Int_Revenue', 'Educ_NEC_IG_To_State', 'Unemp_Ext___Spec_Pmts', 'Fed_IGR_Emp_Sec_Adm', 'Emp_Sec_Adm_Current_Exp', 'LTD_Iss_NG_Elem_Educ', 'Welf_State_Share_Part_D', 'Water_Trans_IG_To_Sta', 'YearofData'}\n"
     ]
    }
   ],
   "source": [
    "print(to_drop)"
   ]
  },
  {
   "cell_type": "code",
   "execution_count": 79,
   "metadata": {},
   "outputs": [
    {
     "name": "stdout",
     "output_type": "stream",
     "text": [
      "['Total_Revenue', 'Total_Rev_Own_Sources', 'Total_Insur_Trust_Rev', 'Tot_Ins_Trust_Inv_Rev', 'Total_Emp_Ret_Rev', 'Emp_Ret_Int_Rev', 'LTD_Out_Gen_Other_NEC', 'Sinking_Fd_Cash___Sec']\n"
     ]
    }
   ],
   "source": [
    "print(negatives)"
   ]
  },
  {
   "cell_type": "code",
   "execution_count": 97,
   "metadata": {},
   "outputs": [
    {
     "data": {
      "text/plain": [
       "(594, 104151)"
      ]
     },
     "execution_count": 97,
     "metadata": {},
     "output_type": "execute_result"
    }
   ],
   "source": [
    "len(county.keys()), len(county)"
   ]
  },
  {
   "cell_type": "code",
   "execution_count": 17,
   "metadata": {},
   "outputs": [],
   "source": [
    "county = county.drop(columns=to_drop)"
   ]
  },
  {
   "cell_type": "code",
   "execution_count": 18,
   "metadata": {},
   "outputs": [
    {
     "data": {
      "text/plain": [
       "(551, 104151)"
      ]
     },
     "execution_count": 18,
     "metadata": {},
     "output_type": "execute_result"
    }
   ],
   "source": [
    "len(county.keys()), len(county)"
   ]
  },
  {
   "cell_type": "markdown",
   "metadata": {},
   "source": [
    "Let's Use a unique name for a geographic location\n",
    "\n",
    "For eg: \n",
    "\n",
    "    'FORT BEND COUNTY'     == 'FT BEND COUNTY'\n",
    "\n",
    "    'OGLALA LAKOTA COUNTY' == 'SHANNON COUNTY' etc.,"
   ]
  },
  {
   "cell_type": "code",
   "execution_count": 169,
   "metadata": {},
   "outputs": [],
   "source": [
    "id_name_map=county.groupby(['ID'])['Name'].unique().to_dict() "
   ]
  },
  {
   "cell_type": "code",
   "execution_count": 170,
   "metadata": {},
   "outputs": [
    {
     "name": "stdout",
     "output_type": "stream",
     "text": [
      "21028028 ['SKAGWAY BOROUGH' 'GREATER JUNEAU AREA BOROUGH']\n",
      "101013013 ['MIAMI-DADE COUNTY' 'METROPOLITAN DADE COUNTY']\n",
      "141019019 ['DEKALB COUNTY' 'DE KALB COUNTY']\n",
      "141022022 ['DUPAGE COUNTY' 'DU PAGE COUNTY']\n",
      "141050050 ['LASALLE COUNTY' 'LA SALLE COUNTY']\n",
      "191030029 ['LASALLE PARISH' 'LA SALLE PARISH']\n",
      "191048046 ['ST JOHN THE BAPTIST PARISH' 'ST. JOHN THE BAPTIST PARISH']\n",
      "421057057 ['OGLALA LAKOTA COUNTY' 'SHANNON COUNTY']\n",
      "441079079 ['FORT BEND COUNTY' 'FT BEND COUNTY']\n"
     ]
    }
   ],
   "source": [
    "l=[]\n",
    "for i,j in id_name_map.items():\n",
    "    if len(j) > 1:\n",
    "        print(i,j)\n",
    "        l.append(i)"
   ]
  },
  {
   "cell_type": "code",
   "execution_count": 182,
   "metadata": {},
   "outputs": [],
   "source": [
    "# temp = temp.apply(lambda x: replace_name(x), axis=1)"
   ]
  },
  {
   "cell_type": "code",
   "execution_count": 183,
   "metadata": {},
   "outputs": [],
   "source": [
    "county = pd.merge(_county,temp)"
   ]
  },
  {
   "cell_type": "code",
   "execution_count": 185,
   "metadata": {},
   "outputs": [
    {
     "data": {
      "text/html": [
       "<div>\n",
       "<style scoped>\n",
       "    .dataframe tbody tr th:only-of-type {\n",
       "        vertical-align: middle;\n",
       "    }\n",
       "\n",
       "    .dataframe tbody tr th {\n",
       "        vertical-align: top;\n",
       "    }\n",
       "\n",
       "    .dataframe thead th {\n",
       "        text-align: right;\n",
       "    }\n",
       "</style>\n",
       "<table border=\"1\" class=\"dataframe\">\n",
       "  <thead>\n",
       "    <tr style=\"text-align: right;\">\n",
       "      <th></th>\n",
       "      <th>Year4</th>\n",
       "      <th>ID</th>\n",
       "      <th>State_Code</th>\n",
       "      <th>Type_Code</th>\n",
       "      <th>County</th>\n",
       "      <th>Name</th>\n",
       "      <th>FIPS_Code_State</th>\n",
       "      <th>FIPS_County</th>\n",
       "      <th>FIPS_Place</th>\n",
       "      <th>FYEndDate</th>\n",
       "      <th>...</th>\n",
       "      <th>Emp_Retire_Sec_Tot_Nong</th>\n",
       "      <th>Emp_Retire_Sec_Corp_Bds</th>\n",
       "      <th>Emp_Retire_Sec_Corp_Stk</th>\n",
       "      <th>Emp_Retire_Sec_Mortgages</th>\n",
       "      <th>Emp_Retire_Sec_Misc_Inv</th>\n",
       "      <th>Emp_Retire_Sec_Oth_Nong</th>\n",
       "      <th>Nonin_Trust_Cash___Sec</th>\n",
       "      <th>Sinking_Fd_Cash___Sec</th>\n",
       "      <th>Bond_Fd_Cash___Sec</th>\n",
       "      <th>Oth_Nonin_Fd_Cash___Sec</th>\n",
       "    </tr>\n",
       "  </thead>\n",
       "  <tbody>\n",
       "  </tbody>\n",
       "</table>\n",
       "<p>0 rows × 551 columns</p>\n",
       "</div>"
      ],
      "text/plain": [
       "Empty DataFrame\n",
       "Columns: [Year4, ID, State_Code, Type_Code, County, Name, FIPS_Code_State, FIPS_County, FIPS_Place, FYEndDate, YearPop, Population, Total_Revenue, Total_Rev_Own_Sources, General_Revenue, Gen_Rev_Own_Sources, Total_Taxes, Property_Tax, Tot_Sales___Gr_Rec_Tax, Total_Gen_Sales_Tax, Total_Select_Sales_Tax, Alcoholic_Beverage_Tax, Amusement_Tax, Insurance_Premium_Tax, Motor_Fuels_Tax, Pari_mutuels_Tax, Public_Utility_Tax, Tobacco_Tax, Other_Select_Sales_Tax, Total_License_Taxes, Alcoholic_Beverage_Lic, Amusement_License, Corporation_License, Motor_Vehicle_License, Motor_Veh_Oper_License, Motor_Vehicle_License_Total, Public_Utility_License, Occup_and_Bus_Lic_NEC, Other_License_Taxes, Total_Income_Taxes, Individual_Income_Tax, Corp_Net_Income_Tax, Death_and_Gift_Tax, Docum_and_Stock_Tr_Tax, Severance_Tax, Taxes_NEC, Total_IG_Revenue, Total_Fed_IG_Revenue, Fed_IGR_Air_Transport, Fed_IGR_Education, Fed_IGR_Gen_Rev_Shar, Fed_IGR_Gen_Support, Fed_IGR_Health___Hos, Fed_IGR_Highways, Fed_IGR_Transit_Sub, Fed_IGR_Hous_Com_Dev, Fed_IGR_Natural_Res, Fed_IGR_Public_Welf, Fed_IGR_Sewerage, Fed_IGR_Other, Total_State_IG_Revenue, State_IGR_Education, State_IGR_Tax_Relief, State_IGR_Oth_Gen_Sup, State_IGR_Gen_Sup, State_IGR_Health___Hos, State_IGR_Highways, State_IGR_Transit_Sub, State_IGR_Hous_Com_Dev, State_IGR_Public_Welf, State_IGR_Sewerage, State_IGR_Other, Tot_Local_IG_Rev, Local_IGR_Other_Education, Local_IGR_Oth_Gen_Sup, Local_IGR_Health___Hos, Local_IGR_Highways, Local_IGR_Transit_Sub, Local_IGR_Hous_Com_Dev, Local_IGR_Public_Welf, Local_IGR_Sewerage, Local_IGR_Other, Tot_Chgs_and_Misc_Rev, Total_General_Charges, Chg_Air_Transportation, Chg_Misc_Com_Activ, Chg_Total_Education, Chg_Total_Elem_Education, Chg_Elem_Ed_Sch_Lunch, Chg_Elem_Ed_Tuition, Chg_Elem_Ed_NEC, Chg_Total_High_Ed, Chg_Hospitals, Chg_Highways, Chg_Regular_Highways, Chg_Toll_Highways, Chg_Housing___Comm_Dev, Chg_Total_Nat_Res, Chg_Parking, Chg_Parks___Recreation, ...]\n",
       "Index: []\n",
       "\n",
       "[0 rows x 551 columns]"
      ]
     },
     "execution_count": 185,
     "metadata": {},
     "output_type": "execute_result"
    }
   ],
   "source": [
    "county.head()"
   ]
  },
  {
   "cell_type": "markdown",
   "metadata": {},
   "source": [
    "## Initial set of features ##\n",
    "\n",
    "``` \n",
    "Total_Revenue\n",
    "Population\n",
    "Year4\n",
    "```"
   ]
  },
  {
   "cell_type": "markdown",
   "metadata": {},
   "source": [
    "** Total_Revenue **"
   ]
  },
  {
   "cell_type": "code",
   "execution_count": 19,
   "metadata": {},
   "outputs": [
    {
     "data": {
      "text/plain": [
       "{'nans': (0, 0.0), 'zeros': (23, 0.0002), 'negatives': (8, 0.0001)}"
      ]
     },
     "execution_count": 19,
     "metadata": {},
     "output_type": "execute_result"
    }
   ],
   "source": [
    "stats['Total_Revenue']"
   ]
  },
  {
   "cell_type": "code",
   "execution_count": 20,
   "metadata": {},
   "outputs": [],
   "source": [
    "tr=county.loc[county['Total_Revenue'] <= 0][['Year4','ID','Total_Revenue','Population']]"
   ]
  },
  {
   "cell_type": "code",
   "execution_count": 21,
   "metadata": {},
   "outputs": [],
   "source": [
    "id_list = tr['ID'].unique().tolist()"
   ]
  },
  {
   "cell_type": "code",
   "execution_count": 22,
   "metadata": {},
   "outputs": [],
   "source": [
    "countys_missing_TR = county.loc[county['ID'].isin(id_list)]"
   ]
  },
  {
   "cell_type": "code",
   "execution_count": 23,
   "metadata": {},
   "outputs": [
    {
     "data": {
      "text/plain": [
       "844"
      ]
     },
     "execution_count": 23,
     "metadata": {},
     "output_type": "execute_result"
    }
   ],
   "source": [
    "len(countys_missing_TR)"
   ]
  },
  {
   "cell_type": "code",
   "execution_count": 37,
   "metadata": {},
   "outputs": [],
   "source": [
    "from matplotlib import pyplot\n",
    "import seaborn as sns"
   ]
  },
  {
   "cell_type": "code",
   "execution_count": 44,
   "metadata": {},
   "outputs": [],
   "source": [
    "df = countys_missing_TR.groupby([,'Year4']).head()"
   ]
  },
  {
   "cell_type": "code",
   "execution_count": 84,
   "metadata": {},
   "outputs": [
    {
     "data": {
      "image/png": "[encoded data removed]",
      "text/plain": [
       "<Figure size 1440x720 with 1 Axes>"
      ]
     },
     "metadata": {
      "needs_background": "light"
     },
     "output_type": "display_data"
    }
   ],
   "source": [
    "df_grouped = countys_missing_TR.groupby('ID')\n",
    "fig, ax = pyplot.subplots(figsize=(20,10))\n",
    "for key, group in df_grouped:\n",
    "    group.groupby('Year4')['Total_Revenue'].mean().plot(ax=ax,label=key,legend=True)\n"
   ]
  },
  {
   "cell_type": "code",
   "execution_count": 78,
   "metadata": {},
   "outputs": [
    {
     "name": "stdout",
     "output_type": "stream",
     "text": [
      "381035035 [2016 2015 2014 2012 2007 2002 1997 1992 1990 1987 1986 1985 1984 1982\n",
      " 1981 1979 1977 1972] 18\n"
     ]
    }
   ],
   "source": [
    "for id_ in id_list:\n",
    "    l=countys_missing_TR.loc[countys_missing_TR['ID'] == id_]['Year4'].values\n",
    "    print(id_,l,len(l))\n",
    "    break\n",
    "    "
   ]
  },
  {
   "cell_type": "code",
   "execution_count": 75,
   "metadata": {},
   "outputs": [
    {
     "name": "stdout",
     "output_type": "stream",
     "text": [
      "[381035035, 241068068, 241080080, 51010010, 51056055, 221001001, 221003003, 221011010, 221012011, 231063063, 51034034, 191060058, 481016016, 481020020, 481033033, 481035035, 21024024, 131012012, 191055053, 131006006, 131036036, 301002002, 251042042]\n"
     ]
    }
   ],
   "source": [
    "print(id_list)"
   ]
  },
  {
   "cell_type": "code",
   "execution_count": 83,
   "metadata": {},
   "outputs": [
    {
     "data": {
      "text/plain": [
       "53574    0\n",
       "Name: Total_Revenue, dtype: int64"
      ]
     },
     "execution_count": 83,
     "metadata": {},
     "output_type": "execute_result"
    }
   ],
   "source": [
    "county.loc[(county['ID'] == 481035035) & ( county['Year4'] == 1990)]['Total_Revenue']"
   ]
  },
  {
   "cell_type": "code",
   "execution_count": null,
   "metadata": {},
   "outputs": [],
   "source": []
  }
 ],
 "metadata": {
  "kernelspec": {
   "display_name": "Python 3",
   "language": "python",
   "name": "python3"
  },
  "language_info": {
   "codemirror_mode": {
    "name": "ipython",
    "version": 3
   },
   "file_extension": ".py",
   "mimetype": "text/x-python",
   "name": "python",
   "nbconvert_exporter": "python",
   "pygments_lexer": "ipython3",
   "version": "3.7.2"
  }
 },
 "nbformat": 4,
 "nbformat_minor": 2
}
