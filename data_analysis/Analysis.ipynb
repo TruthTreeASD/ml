{
 "cells": [
  {
   "cell_type": "code",
   "execution_count": 134,
   "metadata": {},
   "outputs": [],
   "source": [
    "%run helper.ipynb"
   ]
  },
  {
   "cell_type": "code",
   "execution_count": 64,
   "metadata": {},
   "outputs": [],
   "source": [
    "df=pd.read_csv(all_data)"
   ]
  },
  {
   "cell_type": "code",
   "execution_count": 135,
   "metadata": {},
   "outputs": [],
   "source": [
    "data = DataAnalyzer(all_data,df=df)"
   ]
  },
  {
   "cell_type": "code",
   "execution_count": 111,
   "metadata": {},
   "outputs": [],
   "source": [
    "data.load_stats()"
   ]
  },
  {
   "cell_type": "code",
   "execution_count": 66,
   "metadata": {
    "scrolled": true
   },
   "outputs": [
    {
     "data": {
      "text/plain": [
       "['__class__',\n",
       " '__delattr__',\n",
       " '__dict__',\n",
       " '__dir__',\n",
       " '__doc__',\n",
       " '__eq__',\n",
       " '__format__',\n",
       " '__ge__',\n",
       " '__getattribute__',\n",
       " '__gt__',\n",
       " '__hash__',\n",
       " '__init__',\n",
       " '__init_subclass__',\n",
       " '__le__',\n",
       " '__lt__',\n",
       " '__module__',\n",
       " '__ne__',\n",
       " '__new__',\n",
       " '__reduce__',\n",
       " '__reduce_ex__',\n",
       " '__repr__',\n",
       " '__setattr__',\n",
       " '__sizeof__',\n",
       " '__str__',\n",
       " '__subclasshook__',\n",
       " '__weakref__',\n",
       " 'df',\n",
       " 'features',\n",
       " 'features_with_nan',\n",
       " 'fill_missing',\n",
       " 'find_missing_years',\n",
       " 'get_features',\n",
       " 'len',\n",
       " 'load_stats',\n",
       " 'src_file',\n",
       " 'total_features']"
      ]
     },
     "execution_count": 66,
     "metadata": {},
     "output_type": "execute_result"
    }
   ],
   "source": [
    "dir(data)"
   ]
  },
  {
   "cell_type": "code",
   "execution_count": 136,
   "metadata": {},
   "outputs": [
    {
     "data": {
      "text/plain": [
       "(1799436, 594)"
      ]
     },
     "execution_count": 136,
     "metadata": {},
     "output_type": "execute_result"
    }
   ],
   "source": [
    "data.len, data.total_features"
   ]
  },
  {
   "cell_type": "code",
   "execution_count": 116,
   "metadata": {},
   "outputs": [
    {
     "data": {
      "text/plain": [
       "1004758"
      ]
     },
     "execution_count": 116,
     "metadata": {},
     "output_type": "execute_result"
    }
   ],
   "source": [
    "data.nans['Population']"
   ]
  },
  {
   "cell_type": "code",
   "execution_count": 117,
   "metadata": {},
   "outputs": [
    {
     "data": {
      "text/plain": [
       "289"
      ]
     },
     "execution_count": 117,
     "metadata": {},
     "output_type": "execute_result"
    }
   ],
   "source": [
    "data.zeros['Population']"
   ]
  },
  {
   "cell_type": "code",
   "execution_count": 137,
   "metadata": {},
   "outputs": [
    {
     "data": {
      "text/plain": [
       "['Alcoholic_Beverage_Tax', 'Alcoholic_Beverage_Lic']"
      ]
     },
     "execution_count": 137,
     "metadata": {},
     "output_type": "execute_result"
    }
   ],
   "source": [
    "data.get_features(\"beverage\")"
   ]
  },
  {
   "cell_type": "code",
   "execution_count": 138,
   "metadata": {},
   "outputs": [
    {
     "data": {
      "text/plain": [
       "59"
      ]
     },
     "execution_count": 138,
     "metadata": {},
     "output_type": "execute_result"
    }
   ],
   "source": [
    "len(data.features_with_nan)"
   ]
  },
  {
   "cell_type": "code",
   "execution_count": 140,
   "metadata": {},
   "outputs": [],
   "source": [
    "# data.negatives['Total_Revenue']"
   ]
  },
  {
   "cell_type": "code",
   "execution_count": 143,
   "metadata": {},
   "outputs": [
    {
     "name": "stdout",
     "output_type": "stream",
     "text": [
      "YearofData: 1094304(60.8137%) missing values which are for years [2016, 2015, 2014, 2013, 2012, 2011, 2010, 2009, 2008, 2007, 2006, 2005, 2004, 2003, 2002, 2001, 1999, 1998, 1997, 1996, 1995, 1994, 1993, 1992, 1991, 1990, 1989, 1988, 1987, 1986, 1985, 1984, 1983, 1982, 1981, 1980, 1979, 1978, 1977, 1976, 1975, 1974, 1973, 1972, 1971, 1970, 1967]\n",
      "IDChanged: 374515(20.8129%) missing values which are for years [2016, 2015, 2014, 2013, 2012, 2011, 2010, 2009, 2008, 2007]\n",
      "Name: 1(0.0001%) missing values which are for years [2014]\n",
      "FIPS_Code_State: 569(0.0316%) missing values which are for years [2014, 2011, 2010, 2009, 2008, 2007, 2006, 2005, 2004, 2003, 2002, 2001, 2000, 1999, 1998, 1997, 1996, 1995, 1994, 1993, 1992, 1991, 1990, 1989, 1988, 1987, 1986, 1985, 1984, 1983, 1982, 1981, 1980, 1979, 1978, 1977, 1976, 1975, 1974, 1973, 1972, 1971, 1970, 1967]\n",
      "FIPS_County: 766557(42.5998%) missing values which are for years [2016, 2015, 2014, 2013, 2012, 2009, 2008, 2007, 2006, 2005, 2004, 2003, 2002, 2001, 2000, 1999, 1998, 1997, 1996, 1995, 1994, 1993, 1992, 1991, 1990, 1989, 1988, 1987, 1986, 1985, 1984, 1983, 1982, 1981, 1980, 1979, 1978, 1977, 1976, 1975, 1974, 1973, 1972, 1971, 1970, 1967]\n",
      "FIPS_Place: 1096009(60.9085%) missing values which are for years [2016, 2015, 2014, 2013, 2012, 2011, 2010, 2009, 2008, 2007, 2006, 2005, 2004, 2003, 2002, 2001, 2000, 1999, 1998, 1997, 1996, 1995, 1994, 1993, 1992, 1991, 1990, 1989, 1988, 1987, 1986, 1985, 1984, 1983, 1982, 1981, 1980, 1979, 1978, 1977, 1976, 1975, 1974, 1973, 1972, 1971, 1970, 1967]\n",
      "FYEndDate: 76658(4.2601%) missing values which are for years [2016, 2015, 2014, 2013, 2012, 2011, 2010, 2009, 2008, 2007, 2006, 2005, 2004, 2003, 2002, 2001, 2000, 1999, 1998, 1997, 1996, 1995, 1994, 1993, 1992, 1991, 1990, 1989, 1988, 1987, 1986, 1985, 1984, 1983, 1982, 1981, 1980, 1979, 1978, 1977, 1976, 1975, 1974, 1973, 1972, 1971, 1970, 1967]\n",
      "YearPop: 1176368(65.3743%) missing values which are for years [2016, 2015, 2014, 2013, 2012, 2011, 2010, 2009, 2008, 2007, 2006, 2005, 2004, 2003, 2002, 2001, 2000, 1999, 1998, 1997, 1996, 1995, 1994, 1993, 1992, 1991, 1990, 1989, 1988, 1987, 1986, 1985, 1984, 1983, 1982, 1981, 1980, 1979, 1978, 1977, 1976, 1975, 1974, 1973, 1972, 1971, 1970, 1967]\n",
      "SchLevCode: 1443877(80.2405%) missing values which are for years [2016, 2015, 2014, 2013, 2012, 2011, 2010, 2009, 2008, 2007, 2006, 2005, 2004, 2003, 2002, 2001, 2000, 1999, 1998, 1997, 1996, 1995, 1994, 1993, 1992, 1991, 1990, 1989, 1988, 1987, 1986, 1985, 1984, 1983, 1982, 1981, 1980, 1979, 1978, 1977, 1976, 1975, 1974, 1973, 1972, 1971, 1970, 1967]\n",
      "Population: 1004758(55.8374%) missing values which are for years [2016, 2015, 2014, 2013, 2012, 2011, 2010, 2009, 2008, 2007, 2006, 2005, 2004, 2003, 2002, 2001, 2000, 1999, 1998, 1997, 1996, 1995, 1994, 1993, 1992, 1991, 1990, 1989, 1988, 1987, 1986, 1985, 1984, 1983, 1982, 1981, 1980, 1979, 1978, 1977, 1976, 1975, 1974, 1973, 1972, 1971, 1970, 1967]\n",
      "FunctionCode: 1351236(75.0922%) missing values which are for years [2016, 2015, 2014, 2013, 2012, 2011, 2010, 2009, 2008, 2007, 2006, 2005, 2004, 2003, 2002, 2001, 2000, 1999, 1998, 1997, 1996, 1995, 1994, 1993, 1992, 1991, 1990, 1989, 1988, 1987, 1986, 1985, 1984, 1983, 1982, 1981, 1980, 1979, 1978, 1977, 1976, 1975, 1974, 1973, 1972, 1971, 1970, 1967]\n",
      "Enrollment: 1243086(69.082%) missing values which are for years [2016, 2015, 2014, 2013, 2012, 2011, 2010, 2009, 2008, 2007, 2006, 2005, 2004, 2003, 2002, 2001, 2000, 1999, 1998, 1997, 1996, 1995, 1994, 1993, 1992, 1991, 1990, 1989, 1988, 1987, 1986, 1985, 1984, 1983, 1982, 1981, 1980, 1979, 1978, 1977, 1976, 1975, 1974, 1973, 1972, 1971, 1970, 1967]\n",
      "Motor_Vehicle_License_Total: 23239(1.2915%) missing values which are for years [2016]\n",
      "State_IGR_Gen_Sup: 18864(1.0483%) missing values which are for years [2016]\n",
      "Chg_Total_Elem_Education: 11075(0.6155%) missing values which are for years [2016]\n",
      "Chg_Highways: 22803(1.2672%) missing values which are for years [2016]\n",
      "Prop_Sale_Total: 17125(0.9517%) missing values which are for years [2016]\n",
      "Total_Other_Capital_Outlays: 2900(0.1612%) missing values which are for years [2016]\n",
      "General_Capital_Outlay_Other: 3573(0.1986%) missing values which are for years [2016]\n",
      "Air_Trans_Current_Exp: 22734(1.2634%) missing values which are for years [2016]\n",
      "Misc_Com_Activ_Current_Exp: 22944(1.2751%) missing values which are for years [2016]\n",
      "Correct_Current_Exp: 22216(1.2346%) missing values which are for years [2016]\n",
      "Total_Educ_Current_Exp: 9726(0.5405%) missing values which are for years [2016]\n",
      "Elem_Educ_Current_Exp: 10185(0.566%) missing values which are for years [2016]\n",
      "Higher_Ed_Current_Exp: 23595(1.3112%) missing values which are for years [2016]\n",
      "Educ_NEC_Current_Exp: 24258(1.3481%) missing values which are for years [2016]\n",
      "Emp_Sec_Adm_Current_Exp: 24258(1.3481%) missing values which are for years [2016]\n",
      "Fin_Admin_Current_Exp: 18506(1.0284%) missing values which are for years [2016]\n",
      "Fire_Prot_Current_Exp: 19254(1.07%) missing values which are for years [2016]\n",
      "Judicial_Current_Exp: 19288(1.0719%) missing values which are for years [2016]\n",
      "Cen_Staff_Current_Exp: 18040(1.0025%) missing values which are for years [2016]\n",
      "Gen_Pub_Bldg_Current_Exp: 19741(1.0971%) missing values which are for years [2016]\n",
      "Health_Current_Exp: 19942(1.1082%) missing values which are for years [2016]\n",
      "Total_Hospital_Current_Exp: 23507(1.3064%) missing values which are for years [2016]\n",
      "Own_Hospital_Current_Exp: 24308(1.3509%) missing values which are for years [2016]\n",
      "Hosp_Other_Current_Exp: 24308(1.3509%) missing values which are for years [2016]\n",
      "Total_Highways_Current_Exp: 18035(1.0023%) missing values which are for years [2016]\n",
      "Regular_Hwy_Current_Exp: 18079(1.0047%) missing values which are for years [2016]\n",
      "Toll_Hwy_Current_Exp: 24185(1.344%) missing values which are for years [2016]\n",
      "Hous___Com_Current_Exp: 21098(1.1725%) missing values which are for years [2016]\n",
      "Libraries_Current_Exp: 20752(1.1533%) missing values which are for years [2016]\n",
      "Natural_Res_Current_Exp: 21360(1.187%) missing values which are for years [2016]\n",
      "Parking_Current_Exp: 23533(1.3078%) missing values which are for years [2016]\n",
      "Parks___Rec_Current_Exp: 18461(1.0259%) missing values which are for years [2016]\n",
      "Police_Prot_Current_Exp: 18213(1.0122%) missing values which are for years [2016]\n",
      "Prot_Insp_Current_Exp: 21221(1.1793%) missing values which are for years [2016]\n",
      "Public_Welf_Current_Exp: 21614(1.2012%) missing values which are for years [2016]\n",
      "Welf_Ins_Current_Exp: 23999(1.3337%) missing values which are for years [2016]\n",
      "Welf_NEC_Current_Exp: 21853(1.2144%) missing values which are for years [2016]\n",
      "Sewerage_Current_Exp: 19559(1.087%) missing values which are for years [2016]\n",
      "SW_Mgmt_Current_Exp: 19478(1.0825%) missing values which are for years [2016]\n",
      "Water_Trans_Current_Exp: 24055(1.3368%) missing values which are for years [2016]\n",
      "General_NEC_Current_Exp: 18020(1.0014%) missing values which are for years [2016]\n",
      "Liquor_Stores_Current_Exp: 24166(1.343%) missing values which are for years [2016]\n",
      "Total_Util_Current_Exp: 18997(1.0557%) missing values which are for years [2016]\n",
      "Water_Util_Current_Exp: 19698(1.0947%) missing values which are for years [2016]\n",
      "Elec_Util_Current_Exp: 23260(1.2926%) missing values which are for years [2016]\n",
      "Gas_Util_Current_Exp: 23981(1.3327%) missing values which are for years [2016]\n",
      "Trans_Util_Current_Exp: 22982(1.2772%) missing values which are for years [2016]\n"
     ]
    }
   ],
   "source": [
    "for f in data.features_with_nan:\n",
    "    print(data.find_missing_years(f))\n"
   ]
  },
  {
   "cell_type": "code",
   "execution_count": 144,
   "metadata": {},
   "outputs": [],
   "source": [
    "t = data.df.loc[data.df['State_IGR_Gen_Sup'] != data.df['State_IGR_Gen_Sup']]"
   ]
  },
  {
   "cell_type": "code",
   "execution_count": 145,
   "metadata": {},
   "outputs": [
    {
     "data": {
      "text/plain": [
       "5    13464\n",
       "4     4262\n",
       "2      617\n",
       "1      317\n",
       "3      154\n",
       "0       50\n",
       "Name: Type_Code, dtype: int64"
      ]
     },
     "execution_count": 145,
     "metadata": {},
     "output_type": "execute_result"
    }
   ],
   "source": [
    "t['Type_Code'].value_counts()"
   ]
  },
  {
   "cell_type": "code",
   "execution_count": 146,
   "metadata": {},
   "outputs": [],
   "source": [
    "data.fill_missing('State_IGR_Gen_Sup')"
   ]
  },
  {
   "cell_type": "code",
   "execution_count": 152,
   "metadata": {},
   "outputs": [
    {
     "data": {
      "text/plain": [
       "0"
      ]
     },
     "execution_count": 152,
     "metadata": {},
     "output_type": "execute_result"
    }
   ],
   "source": [
    "data.df['State_IGR_Gen_Sup'].isna().sum()"
   ]
  },
  {
   "cell_type": "code",
   "execution_count": 18,
   "metadata": {},
   "outputs": [],
   "source": [
    "t1 = data.df.loc[data.df['State_IGR_Gen_Sup'] != data.df['State_IGR_Gen_Sup']]"
   ]
  },
  {
   "cell_type": "code",
   "execution_count": 20,
   "metadata": {},
   "outputs": [
    {
     "data": {
      "text/plain": [
       "Series([], Name: Type_Code, dtype: int64)"
      ]
     },
     "execution_count": 20,
     "metadata": {},
     "output_type": "execute_result"
    }
   ],
   "source": [
    "t1['Type_Code'].value_counts()"
   ]
  },
  {
   "cell_type": "code",
   "execution_count": 154,
   "metadata": {},
   "outputs": [
    {
     "data": {
      "text/plain": [
       "{'op': 'ADD',\n",
       " 'src_features': ['Motor_Vehicle_License', 'Motor_Veh_Oper_License']}"
      ]
     },
     "execution_count": 154,
     "metadata": {},
     "output_type": "execute_result"
    }
   ],
   "source": [
    "missing_feature_map['Motor_Vehicle_License_Total']"
   ]
  },
  {
   "cell_type": "markdown",
   "metadata": {},
   "source": [
    "**TODO : make it work for below features**\n",
    "```\n",
    "Motor_Vehicle_License_Total\n",
    "State_IGR_Gen_Sup\n",
    "Chg_Total_Elem_Education\n",
    "Chg_Highways\n",
    "Prop_Sale_Total\n",
    "Total_Other_Capital_Outlays\n",
    "General_Capital_Outlay_Other\n",
    "Air_Trans_Current_Exp\n",
    "Misc_Com_Activ_Current_Exp\n",
    "Educ_NEC_Current_Exp\n",
    "Fin_Admin_IG_Local_Govts\n",
    "Judicial_Current_Exp\n",
    "Health_Current_Exp\n",
    "Total_Highways_Current_Exp\n",
    "Toll_Hwy_Current_Exp\n",
    "Welf_NEC_Current_Exp\n",
    "Sewerage_Current_Exp\n",
    "SW_Mgmt_Current_Exp\n",
    "Liquor_Stores_Current_Exp\n",
    "\n",
    "```\n"
   ]
  },
  {
   "cell_type": "code",
   "execution_count": 98,
   "metadata": {},
   "outputs": [
    {
     "name": "stdout",
     "output_type": "stream",
     "text": [
      "Total_Highways_Current_Exp:['Total_Highways_Tot_Exp', 'Total_Highways_Dir_Exp', 'Total_Highways_Cap_Out', 'Total_Highways_Current_Exp', 'Total_Highways_Construct']\n",
      "{}\n"
     ]
    }
   ],
   "source": [
    "d = {}\n",
    "feature_current_list =['Total_Highways_Current_Exp']\n",
    "for f in feature_current_list:\n",
    "    cat = f.split(\"Current\")[0]\n",
    "    related = get_features(cat)\n",
    "    # Case 1 : (Direct - capital outlay)\n",
    "    interest = \"{}Inter_Exp\".format(cat)\n",
    "    direct = \"{}Direct_Exp\".format(cat)\n",
    "    total = \"{}Total_Exp\".format(cat)\n",
    "    print(\"{}:{}\".format(f,related))\n",
    "#     print(\"***\",related,s)\n",
    "    if  interest in related:\n",
    "        f1 = \"{}Total_Exp\".format(cat)\n",
    "        f3 = \"{}Cap_Outlay\".format(cat)\n",
    "        d[f] = {'op' : \"SUBSTRACT\", \"src_features\" : [f1,interest,f3]}\n",
    "    elif  direct in related:\n",
    "        cap_ol = \"{}Cap_Outlay\".format(cat)\n",
    "        d[f] = {'op' : \"SUBSTRACT\", \"src_features\" : [direct,cap_ol]}\n",
    "    elif total in related:\n",
    "        cap_ol = \"{}Cap_Out\".format(cat)\n",
    "        d[f] = {'op' : \"SUBSTRACT\", \"src_features\" : [total,cap_ol]}\n",
    "        \n",
    "print(d)"
   ]
  },
  {
   "cell_type": "code",
   "execution_count": 73,
   "metadata": {},
   "outputs": [
    {
     "data": {
      "text/plain": [
       "(59, 46)"
      ]
     },
     "execution_count": 73,
     "metadata": {},
     "output_type": "execute_result"
    }
   ],
   "source": [
    "len(data.features_with_nan),len(missing_feature_map)"
   ]
  },
  {
   "cell_type": "code",
   "execution_count": 91,
   "metadata": {},
   "outputs": [
    {
     "name": "stdout",
     "output_type": "stream",
     "text": [
      "Motor_Vehicle_License_Total\n",
      "State_IGR_Gen_Sup\n",
      "Chg_Total_Elem_Education\n",
      "Chg_Highways\n",
      "Prop_Sale_Total\n",
      "Total_Other_Capital_Outlays\n",
      "General_Capital_Outlay_Other\n",
      "Air_Trans_Current_Exp\n",
      "Misc_Com_Activ_Current_Exp\n",
      "Educ_NEC_Current_Exp\n",
      "Fin_Admin_IG_Local_Govts\n",
      "Judicial_Current_Exp\n",
      "Health_Current_Exp\n",
      "Total_Highways_Current_Exp\n",
      "Toll_Hwy_Current_Exp\n",
      "Welf_NEC_Current_Exp\n",
      "Sewerage_Current_Exp\n",
      "SW_Mgmt_Current_Exp\n",
      "Liquor_Stores_Current_Exp\n"
     ]
    }
   ],
   "source": [
    "for key, val in missing_feature_map.items():\n",
    "    if key not in d:\n",
    "        print(key)\n",
    "#         val1 = d[key]\n",
    "#         if val['op'] != val1['op']:\n",
    "#             print(key, val,val1)\n",
    "                    \n",
    "#         if len(val['src_features']) != len(val1['src_features']):\n",
    "#             print(val,val1)\n",
    "# #         if val['src_features'] != val1['src_features']:\n",
    "#             print(\"Same src_features length but different features\")\n",
    "#             print(val,val1)\n",
    "            "
   ]
  },
  {
   "cell_type": "code",
   "execution_count": 58,
   "metadata": {},
   "outputs": [],
   "source": [
    "t=df.isna().any().to_dict()"
   ]
  },
  {
   "cell_type": "code",
   "execution_count": 61,
   "metadata": {},
   "outputs": [],
   "source": [
    "l = [ x for x in t.keys() if t[x]]"
   ]
  },
  {
   "cell_type": "code",
   "execution_count": 63,
   "metadata": {},
   "outputs": [
    {
     "data": {
      "text/plain": [
       "0"
      ]
     },
     "execution_count": 63,
     "metadata": {},
     "output_type": "execute_result"
    }
   ],
   "source": [
    "df['Prop_Sale_Total'].isna().sum()"
   ]
  },
  {
   "cell_type": "code",
   "execution_count": 17,
   "metadata": {},
   "outputs": [],
   "source": [
    "before_filling={}\n",
    "for key in missing_feature_map.keys():\n",
    "    nan_count = data.df[key].isna().sum()\n",
    "    details = data.df.loc[data.df[key] != data.df[key]]['Type_Code'].value_counts().to_dict()\n",
    "    before_filling[key] = {'count' : nan_count,'datails':details}"
   ]
  },
  {
   "cell_type": "code",
   "execution_count": 18,
   "metadata": {},
   "outputs": [
    {
     "data": {
      "text/plain": [
       "{'Motor_Vehicle_License_Total': {'count': 23239,\n",
       "  'datails': {5: 13464, 4: 4246, 2: 3089, 1: 1433, 3: 1007}},\n",
       " 'State_IGR_Gen_Sup': {'count': 18864,\n",
       "  'datails': {5: 13464, 4: 4262, 2: 617, 1: 317, 3: 154, 0: 50}},\n",
       " 'Chg_Total_Elem_Education': {'count': 11075,\n",
       "  'datails': {4: 4265, 2: 3301, 1: 1725, 5: 999, 3: 744, 0: 41}},\n",
       " 'Chg_Highways': {'count': 22803,\n",
       "  'datails': {5: 13464, 4: 4220, 2: 2832, 1: 1374, 3: 912, 0: 1}},\n",
       " 'Prop_Sale_Total': {'count': 17125,\n",
       "  'datails': {5: 9848, 4: 3703, 2: 1902, 1: 939, 3: 730, 0: 3}},\n",
       " 'Total_Other_Capital_Outlays': {'count': 2900,\n",
       "  'datails': {4: 1558, 5: 614, 2: 373, 3: 178, 1: 177}},\n",
       " 'General_Capital_Outlay_Other': {'count': 3573,\n",
       "  'datails': {4: 2199, 5: 614, 2: 402, 3: 181, 1: 177}},\n",
       " 'Air_Trans_Current_Exp': {'count': 22734,\n",
       "  'datails': {5: 13464, 4: 4171, 2: 2617, 1: 1464, 3: 1011, 0: 7}},\n",
       " 'Misc_Com_Activ_Current_Exp': {'count': 22944,\n",
       "  'datails': {5: 13464, 4: 4216, 2: 2585, 1: 1892, 3: 749, 0: 38}},\n",
       " 'Correct_Current_Exp': {'count': 22216,\n",
       "  'datails': {5: 13464, 4: 4250, 2: 3180, 3: 1033, 1: 289}},\n",
       " 'Elem_Educ_Current_Exp': {'count': 10185,\n",
       "  'datails': {4: 4231, 2: 3260, 1: 1526, 3: 713, 5: 426, 0: 29}},\n",
       " 'Higher_Ed_Current_Exp': {'count': 23595,\n",
       "  'datails': {5: 12926, 4: 4265, 2: 3492, 1: 1873, 3: 1039}},\n",
       " 'Educ_NEC_Current_Exp': {'count': 24258,\n",
       "  'datails': {5: 13464, 4: 4265, 2: 3501, 1: 1989, 3: 1039}},\n",
       " 'Emp_Sec_Adm_Current_Exp': {'count': 24258,\n",
       "  'datails': {5: 13464, 4: 4265, 2: 3500, 1: 1989, 3: 1039, 0: 1}},\n",
       " 'Fire_Prot_Current_Exp': {'count': 19254,\n",
       "  'datails': {5: 13464, 4: 4041, 1: 978, 2: 591, 3: 130, 0: 50}},\n",
       " 'Cen_Staff_Current_Exp': {'count': 18040,\n",
       "  'datails': {5: 13464, 4: 4265, 2: 187, 3: 64, 1: 60}},\n",
       " 'Gen_Pub_Bldg_Current_Exp': {'count': 19741,\n",
       "  'datails': {5: 13464, 4: 4265, 2: 1366, 1: 400, 3: 246}},\n",
       " 'Total_Hospital_Current_Exp': {'count': 23507,\n",
       "  'datails': {5: 13464, 4: 3966, 2: 3395, 1: 1652, 3: 1030}},\n",
       " 'Own_Hospital_Current_Exp': {'count': 24308,\n",
       "  'datails': {5: 13464, 4: 4265, 2: 3501, 1: 1989, 3: 1039, 0: 50}},\n",
       " 'Hosp_Other_Current_Exp': {'count': 24308,\n",
       "  'datails': {5: 13464, 4: 4265, 2: 3501, 1: 1989, 3: 1039, 0: 50}},\n",
       " 'Regular_Hwy_Current_Exp': {'count': 18079,\n",
       "  'datails': {5: 13464, 4: 4157, 1: 243, 2: 178, 3: 37}},\n",
       " 'Hous___Com_Current_Exp': {'count': 21098,\n",
       "  'datails': {5: 13464, 4: 3668, 2: 1857, 1: 1292, 3: 817}},\n",
       " 'Libraries_Current_Exp': {'count': 20752,\n",
       "  'datails': {5: 13464, 4: 4097, 2: 1814, 1: 1028, 3: 345, 0: 4}},\n",
       " 'Natural_Res_Current_Exp': {'count': 21360,\n",
       "  'datails': {5: 13464, 4: 3922, 2: 2804, 3: 647, 1: 523}},\n",
       " 'Parks___Rec_Current_Exp': {'count': 18461,\n",
       "  'datails': {5: 13464, 4: 4072, 1: 451, 2: 307, 3: 167}},\n",
       " 'Police_Prot_Current_Exp': {'count': 18213,\n",
       "  'datails': {5: 13464, 4: 4253, 2: 227, 3: 216, 1: 53}},\n",
       " 'Prot_Insp_Current_Exp': {'count': 21221,\n",
       "  'datails': {5: 13464, 4: 4265, 2: 1747, 1: 1307, 3: 438}},\n",
       " 'Public_Welf_Current_Exp': {'count': 21614,\n",
       "  'datails': {5: 13464, 4: 4248, 2: 2926, 3: 501, 1: 475}},\n",
       " 'Welf_Ins_Current_Exp': {'count': 23999,\n",
       "  'datails': {5: 13464, 4: 4259, 2: 3471, 1: 1763, 3: 1035, 0: 7}},\n",
       " 'Water_Trans_Current_Exp': {'count': 24055,\n",
       "  'datails': {5: 13464, 4: 4204, 2: 3408, 1: 1956, 3: 994, 0: 29}},\n",
       " 'General_NEC_Current_Exp': {'count': 18020,\n",
       "  'datails': {5: 13464, 4: 3836, 2: 488, 1: 127, 3: 105}},\n",
       " 'Total_Util_Current_Exp': {'count': 18997,\n",
       "  'datails': {5: 13464, 4: 3083, 1: 1372, 3: 574, 2: 499, 0: 5}},\n",
       " 'Water_Util_Current_Exp': {'count': 19698,\n",
       "  'datails': {5: 13464, 4: 3393, 1: 1556, 3: 637, 2: 624, 0: 24}},\n",
       " 'Elec_Util_Current_Exp': {'count': 23260,\n",
       "  'datails': {5: 13464, 4: 4116, 2: 2677, 1: 1959, 3: 1003, 0: 41}},\n",
       " 'Gas_Util_Current_Exp': {'count': 23981,\n",
       "  'datails': {5: 13464, 4: 4224, 2: 3239, 1: 1972, 3: 1034, 0: 48}},\n",
       " 'Trans_Util_Current_Exp': {'count': 22982,\n",
       "  'datails': {5: 13464, 4: 4107, 2: 2865, 1: 1688, 3: 840, 0: 18}}}"
      ]
     },
     "execution_count": 18,
     "metadata": {},
     "output_type": "execute_result"
    }
   ],
   "source": [
    "before_filling"
   ]
  },
  {
   "cell_type": "code",
   "execution_count": 28,
   "metadata": {},
   "outputs": [
    {
     "name": "stdout",
     "output_type": "stream",
     "text": [
      "Motor_Vehicle_License_Total\n",
      "State_IGR_Gen_Sup\n",
      "Chg_Total_Elem_Education\n",
      "Chg_Highways\n",
      "Prop_Sale_Total\n",
      "Total_Other_Capital_Outlays\n",
      "General_Capital_Outlay_Other\n",
      "Air_Trans_Current_Exp\n",
      "Misc_Com_Activ_Current_Exp\n",
      "Correct_Current_Exp\n",
      "Elem_Educ_Current_Exp\n",
      "Higher_Ed_Current_Exp\n",
      "Educ_NEC_Current_Exp\n",
      "Emp_Sec_Adm_Current_Exp\n",
      "Fire_Prot_Current_Exp\n",
      "Cen_Staff_Current_Exp\n",
      "Gen_Pub_Bldg_Current_Exp\n"
     ]
    },
    {
     "ename": "KeyError",
     "evalue": "'Gen_Pub_Bldg_Cap_Outlay'",
     "output_type": "error",
     "traceback": [
      "\u001b[0;31m---------------------------------------------------------------------------\u001b[0m",
      "\u001b[0;31mKeyError\u001b[0m                                  Traceback (most recent call last)",
      "\u001b[0;32m/usr/local/lib/python3.7/site-packages/pandas/core/indexes/base.py\u001b[0m in \u001b[0;36mget_loc\u001b[0;34m(self, key, method, tolerance)\u001b[0m\n\u001b[1;32m   2655\u001b[0m             \u001b[0;32mtry\u001b[0m\u001b[0;34m:\u001b[0m\u001b[0;34m\u001b[0m\u001b[0;34m\u001b[0m\u001b[0m\n\u001b[0;32m-> 2656\u001b[0;31m                 \u001b[0;32mreturn\u001b[0m \u001b[0mself\u001b[0m\u001b[0;34m.\u001b[0m\u001b[0m_engine\u001b[0m\u001b[0;34m.\u001b[0m\u001b[0mget_loc\u001b[0m\u001b[0;34m(\u001b[0m\u001b[0mkey\u001b[0m\u001b[0;34m)\u001b[0m\u001b[0;34m\u001b[0m\u001b[0;34m\u001b[0m\u001b[0m\n\u001b[0m\u001b[1;32m   2657\u001b[0m             \u001b[0;32mexcept\u001b[0m \u001b[0mKeyError\u001b[0m\u001b[0;34m:\u001b[0m\u001b[0;34m\u001b[0m\u001b[0;34m\u001b[0m\u001b[0m\n",
      "\u001b[0;32mpandas/_libs/index.pyx\u001b[0m in \u001b[0;36mpandas._libs.index.IndexEngine.get_loc\u001b[0;34m()\u001b[0m\n",
      "\u001b[0;32mpandas/_libs/index.pyx\u001b[0m in \u001b[0;36mpandas._libs.index.IndexEngine.get_loc\u001b[0;34m()\u001b[0m\n",
      "\u001b[0;32mpandas/_libs/hashtable_class_helper.pxi\u001b[0m in \u001b[0;36mpandas._libs.hashtable.PyObjectHashTable.get_item\u001b[0;34m()\u001b[0m\n",
      "\u001b[0;32mpandas/_libs/hashtable_class_helper.pxi\u001b[0m in \u001b[0;36mpandas._libs.hashtable.PyObjectHashTable.get_item\u001b[0;34m()\u001b[0m\n",
      "\u001b[0;31mKeyError\u001b[0m: 'Gen_Pub_Bldg_Cap_Outlay'",
      "\nDuring handling of the above exception, another exception occurred:\n",
      "\u001b[0;31mKeyError\u001b[0m                                  Traceback (most recent call last)",
      "\u001b[0;32m<ipython-input-28-cb6f498086a1>\u001b[0m in \u001b[0;36m<module>\u001b[0;34m\u001b[0m\n\u001b[1;32m      3\u001b[0m     \u001b[0mprint\u001b[0m\u001b[0;34m(\u001b[0m\u001b[0mkey\u001b[0m\u001b[0;34m)\u001b[0m\u001b[0;34m\u001b[0m\u001b[0;34m\u001b[0m\u001b[0m\n\u001b[1;32m      4\u001b[0m     \u001b[0;32mif\u001b[0m \u001b[0mkey\u001b[0m \u001b[0;32mnot\u001b[0m \u001b[0;32min\u001b[0m \u001b[0mdone\u001b[0m\u001b[0;34m:\u001b[0m\u001b[0;34m\u001b[0m\u001b[0;34m\u001b[0m\u001b[0m\n\u001b[0;32m----> 5\u001b[0;31m         \u001b[0mdata\u001b[0m\u001b[0;34m.\u001b[0m\u001b[0mfill_missing\u001b[0m\u001b[0;34m(\u001b[0m\u001b[0mkey\u001b[0m\u001b[0;34m)\u001b[0m\u001b[0;34m\u001b[0m\u001b[0;34m\u001b[0m\u001b[0m\n\u001b[0m\u001b[1;32m      6\u001b[0m         \u001b[0mdone\u001b[0m\u001b[0;34m.\u001b[0m\u001b[0mupdate\u001b[0m\u001b[0;34m(\u001b[0m\u001b[0mkey\u001b[0m\u001b[0;34m)\u001b[0m\u001b[0;34m\u001b[0m\u001b[0;34m\u001b[0m\u001b[0m\n",
      "\u001b[0;32m<ipython-input-8-7613152e8aad>\u001b[0m in \u001b[0;36mfill_missing\u001b[0;34m(self, feature)\u001b[0m\n\u001b[1;32m     44\u001b[0m             \u001b[0mself\u001b[0m\u001b[0;34m.\u001b[0m\u001b[0mdf\u001b[0m\u001b[0;34m[\u001b[0m\u001b[0;34m'temp'\u001b[0m\u001b[0;34m]\u001b[0m  \u001b[0;34m=\u001b[0m \u001b[0mself\u001b[0m\u001b[0;34m.\u001b[0m\u001b[0mdf\u001b[0m\u001b[0;34m[\u001b[0m\u001b[0mfeatures\u001b[0m\u001b[0;34m]\u001b[0m\u001b[0;34m.\u001b[0m\u001b[0msum\u001b[0m\u001b[0;34m(\u001b[0m\u001b[0maxis\u001b[0m\u001b[0;34m=\u001b[0m\u001b[0;36m1\u001b[0m\u001b[0;34m)\u001b[0m\u001b[0;34m\u001b[0m\u001b[0;34m\u001b[0m\u001b[0m\n\u001b[1;32m     45\u001b[0m         \u001b[0;32melif\u001b[0m \u001b[0mop\u001b[0m \u001b[0;34m==\u001b[0m \u001b[0mSUBSTRACT\u001b[0m\u001b[0;34m:\u001b[0m\u001b[0;34m\u001b[0m\u001b[0;34m\u001b[0m\u001b[0m\n\u001b[0;32m---> 46\u001b[0;31m             \u001b[0mself\u001b[0m\u001b[0;34m.\u001b[0m\u001b[0mdf\u001b[0m\u001b[0;34m[\u001b[0m\u001b[0;34m'temp'\u001b[0m\u001b[0;34m]\u001b[0m \u001b[0;34m=\u001b[0m \u001b[0mself\u001b[0m\u001b[0;34m.\u001b[0m\u001b[0mdf\u001b[0m\u001b[0;34m[\u001b[0m\u001b[0mfeatures\u001b[0m\u001b[0;34m[\u001b[0m\u001b[0;36m0\u001b[0m\u001b[0;34m]\u001b[0m\u001b[0;34m]\u001b[0m \u001b[0;34m-\u001b[0m \u001b[0mself\u001b[0m\u001b[0;34m.\u001b[0m\u001b[0mdf\u001b[0m\u001b[0;34m[\u001b[0m\u001b[0mfeatures\u001b[0m\u001b[0;34m[\u001b[0m\u001b[0;36m1\u001b[0m\u001b[0;34m]\u001b[0m\u001b[0;34m]\u001b[0m\u001b[0;34m\u001b[0m\u001b[0;34m\u001b[0m\u001b[0m\n\u001b[0m\u001b[1;32m     47\u001b[0m             \u001b[0;32mif\u001b[0m \u001b[0mlen\u001b[0m\u001b[0;34m(\u001b[0m\u001b[0mfeatures\u001b[0m\u001b[0;34m)\u001b[0m \u001b[0;34m==\u001b[0m \u001b[0;36m3\u001b[0m\u001b[0;34m:\u001b[0m\u001b[0;34m\u001b[0m\u001b[0;34m\u001b[0m\u001b[0m\n\u001b[1;32m     48\u001b[0m                 \u001b[0mself\u001b[0m\u001b[0;34m.\u001b[0m\u001b[0mdf\u001b[0m\u001b[0;34m[\u001b[0m\u001b[0;34m'temp'\u001b[0m\u001b[0;34m]\u001b[0m \u001b[0;34m=\u001b[0m \u001b[0mself\u001b[0m\u001b[0;34m.\u001b[0m\u001b[0mdf\u001b[0m\u001b[0;34m[\u001b[0m\u001b[0;34m'temp'\u001b[0m\u001b[0;34m]\u001b[0m \u001b[0;34m-\u001b[0m \u001b[0mself\u001b[0m\u001b[0;34m.\u001b[0m\u001b[0mdf\u001b[0m\u001b[0;34m[\u001b[0m\u001b[0mfeatures\u001b[0m\u001b[0;34m[\u001b[0m\u001b[0;36m2\u001b[0m\u001b[0;34m]\u001b[0m\u001b[0;34m]\u001b[0m\u001b[0;34m\u001b[0m\u001b[0;34m\u001b[0m\u001b[0m\n",
      "\u001b[0;32m/usr/local/lib/python3.7/site-packages/pandas/core/frame.py\u001b[0m in \u001b[0;36m__getitem__\u001b[0;34m(self, key)\u001b[0m\n\u001b[1;32m   2925\u001b[0m             \u001b[0;32mif\u001b[0m \u001b[0mself\u001b[0m\u001b[0;34m.\u001b[0m\u001b[0mcolumns\u001b[0m\u001b[0;34m.\u001b[0m\u001b[0mnlevels\u001b[0m \u001b[0;34m>\u001b[0m \u001b[0;36m1\u001b[0m\u001b[0;34m:\u001b[0m\u001b[0;34m\u001b[0m\u001b[0;34m\u001b[0m\u001b[0m\n\u001b[1;32m   2926\u001b[0m                 \u001b[0;32mreturn\u001b[0m \u001b[0mself\u001b[0m\u001b[0;34m.\u001b[0m\u001b[0m_getitem_multilevel\u001b[0m\u001b[0;34m(\u001b[0m\u001b[0mkey\u001b[0m\u001b[0;34m)\u001b[0m\u001b[0;34m\u001b[0m\u001b[0;34m\u001b[0m\u001b[0m\n\u001b[0;32m-> 2927\u001b[0;31m             \u001b[0mindexer\u001b[0m \u001b[0;34m=\u001b[0m \u001b[0mself\u001b[0m\u001b[0;34m.\u001b[0m\u001b[0mcolumns\u001b[0m\u001b[0;34m.\u001b[0m\u001b[0mget_loc\u001b[0m\u001b[0;34m(\u001b[0m\u001b[0mkey\u001b[0m\u001b[0;34m)\u001b[0m\u001b[0;34m\u001b[0m\u001b[0;34m\u001b[0m\u001b[0m\n\u001b[0m\u001b[1;32m   2928\u001b[0m             \u001b[0;32mif\u001b[0m \u001b[0mis_integer\u001b[0m\u001b[0;34m(\u001b[0m\u001b[0mindexer\u001b[0m\u001b[0;34m)\u001b[0m\u001b[0;34m:\u001b[0m\u001b[0;34m\u001b[0m\u001b[0;34m\u001b[0m\u001b[0m\n\u001b[1;32m   2929\u001b[0m                 \u001b[0mindexer\u001b[0m \u001b[0;34m=\u001b[0m \u001b[0;34m[\u001b[0m\u001b[0mindexer\u001b[0m\u001b[0;34m]\u001b[0m\u001b[0;34m\u001b[0m\u001b[0;34m\u001b[0m\u001b[0m\n",
      "\u001b[0;32m/usr/local/lib/python3.7/site-packages/pandas/core/indexes/base.py\u001b[0m in \u001b[0;36mget_loc\u001b[0;34m(self, key, method, tolerance)\u001b[0m\n\u001b[1;32m   2656\u001b[0m                 \u001b[0;32mreturn\u001b[0m \u001b[0mself\u001b[0m\u001b[0;34m.\u001b[0m\u001b[0m_engine\u001b[0m\u001b[0;34m.\u001b[0m\u001b[0mget_loc\u001b[0m\u001b[0;34m(\u001b[0m\u001b[0mkey\u001b[0m\u001b[0;34m)\u001b[0m\u001b[0;34m\u001b[0m\u001b[0;34m\u001b[0m\u001b[0m\n\u001b[1;32m   2657\u001b[0m             \u001b[0;32mexcept\u001b[0m \u001b[0mKeyError\u001b[0m\u001b[0;34m:\u001b[0m\u001b[0;34m\u001b[0m\u001b[0;34m\u001b[0m\u001b[0m\n\u001b[0;32m-> 2658\u001b[0;31m                 \u001b[0;32mreturn\u001b[0m \u001b[0mself\u001b[0m\u001b[0;34m.\u001b[0m\u001b[0m_engine\u001b[0m\u001b[0;34m.\u001b[0m\u001b[0mget_loc\u001b[0m\u001b[0;34m(\u001b[0m\u001b[0mself\u001b[0m\u001b[0;34m.\u001b[0m\u001b[0m_maybe_cast_indexer\u001b[0m\u001b[0;34m(\u001b[0m\u001b[0mkey\u001b[0m\u001b[0;34m)\u001b[0m\u001b[0;34m)\u001b[0m\u001b[0;34m\u001b[0m\u001b[0;34m\u001b[0m\u001b[0m\n\u001b[0m\u001b[1;32m   2659\u001b[0m         \u001b[0mindexer\u001b[0m \u001b[0;34m=\u001b[0m \u001b[0mself\u001b[0m\u001b[0;34m.\u001b[0m\u001b[0mget_indexer\u001b[0m\u001b[0;34m(\u001b[0m\u001b[0;34m[\u001b[0m\u001b[0mkey\u001b[0m\u001b[0;34m]\u001b[0m\u001b[0;34m,\u001b[0m \u001b[0mmethod\u001b[0m\u001b[0;34m=\u001b[0m\u001b[0mmethod\u001b[0m\u001b[0;34m,\u001b[0m \u001b[0mtolerance\u001b[0m\u001b[0;34m=\u001b[0m\u001b[0mtolerance\u001b[0m\u001b[0;34m)\u001b[0m\u001b[0;34m\u001b[0m\u001b[0;34m\u001b[0m\u001b[0m\n\u001b[1;32m   2660\u001b[0m         \u001b[0;32mif\u001b[0m \u001b[0mindexer\u001b[0m\u001b[0;34m.\u001b[0m\u001b[0mndim\u001b[0m \u001b[0;34m>\u001b[0m \u001b[0;36m1\u001b[0m \u001b[0;32mor\u001b[0m \u001b[0mindexer\u001b[0m\u001b[0;34m.\u001b[0m\u001b[0msize\u001b[0m \u001b[0;34m>\u001b[0m \u001b[0;36m1\u001b[0m\u001b[0;34m:\u001b[0m\u001b[0;34m\u001b[0m\u001b[0;34m\u001b[0m\u001b[0m\n",
      "\u001b[0;32mpandas/_libs/index.pyx\u001b[0m in \u001b[0;36mpandas._libs.index.IndexEngine.get_loc\u001b[0;34m()\u001b[0m\n",
      "\u001b[0;32mpandas/_libs/index.pyx\u001b[0m in \u001b[0;36mpandas._libs.index.IndexEngine.get_loc\u001b[0;34m()\u001b[0m\n",
      "\u001b[0;32mpandas/_libs/hashtable_class_helper.pxi\u001b[0m in \u001b[0;36mpandas._libs.hashtable.PyObjectHashTable.get_item\u001b[0;34m()\u001b[0m\n",
      "\u001b[0;32mpandas/_libs/hashtable_class_helper.pxi\u001b[0m in \u001b[0;36mpandas._libs.hashtable.PyObjectHashTable.get_item\u001b[0;34m()\u001b[0m\n",
      "\u001b[0;31mKeyError\u001b[0m: 'Gen_Pub_Bldg_Cap_Outlay'"
     ]
    }
   ],
   "source": [
    "done=set()\n",
    "for key in missing_feature_map.keys():\n",
    "    print(key)\n",
    "    if key not in done:\n",
    "        data.fill_missing(key)\n",
    "        done.update(key)"
   ]
  },
  {
   "cell_type": "code",
   "execution_count": 25,
   "metadata": {},
   "outputs": [],
   "source": [
    "after_filling={}\n",
    "for key in missing_feature_map.keys():\n",
    "    nan_count = data.df[key].isna().sum()\n",
    "    details = data.df.loc[data.df[key] != data.df[key]]['Type_Code'].value_counts().to_dict()\n",
    "    after_filling[key] = {'count' : nan_count,'datails':details}"
   ]
  },
  {
   "cell_type": "code",
   "execution_count": 26,
   "metadata": {},
   "outputs": [
    {
     "data": {
      "text/plain": [
       "{'Motor_Vehicle_License_Total': {'count': 0, 'datails': {}},\n",
       " 'State_IGR_Gen_Sup': {'count': 0, 'datails': {}},\n",
       " 'Chg_Total_Elem_Education': {'count': 0, 'datails': {}},\n",
       " 'Chg_Highways': {'count': 0, 'datails': {}},\n",
       " 'Prop_Sale_Total': {'count': 0, 'datails': {}},\n",
       " 'Total_Other_Capital_Outlays': {'count': 0, 'datails': {}},\n",
       " 'General_Capital_Outlay_Other': {'count': 0, 'datails': {}},\n",
       " 'Air_Trans_Current_Exp': {'count': 0, 'datails': {}},\n",
       " 'Misc_Com_Activ_Current_Exp': {'count': 0, 'datails': {}},\n",
       " 'Correct_Current_Exp': {'count': 0, 'datails': {}},\n",
       " 'Elem_Educ_Current_Exp': {'count': 0, 'datails': {}},\n",
       " 'Higher_Ed_Current_Exp': {'count': 0, 'datails': {}},\n",
       " 'Educ_NEC_Current_Exp': {'count': 0, 'datails': {}},\n",
       " 'Emp_Sec_Adm_Current_Exp': {'count': 0, 'datails': {}},\n",
       " 'Fire_Prot_Current_Exp': {'count': 19254,\n",
       "  'datails': {5: 13464, 4: 4041, 1: 978, 2: 591, 3: 130, 0: 50}},\n",
       " 'Cen_Staff_Current_Exp': {'count': 0, 'datails': {}},\n",
       " 'Gen_Pub_Bldg_Current_Exp': {'count': 19741,\n",
       "  'datails': {5: 13464, 4: 4265, 2: 1366, 1: 400, 3: 246}},\n",
       " 'Total_Hospital_Current_Exp': {'count': 23507,\n",
       "  'datails': {5: 13464, 4: 3966, 2: 3395, 1: 1652, 3: 1030}},\n",
       " 'Own_Hospital_Current_Exp': {'count': 24308,\n",
       "  'datails': {5: 13464, 4: 4265, 2: 3501, 1: 1989, 3: 1039, 0: 50}},\n",
       " 'Hosp_Other_Current_Exp': {'count': 0, 'datails': {}},\n",
       " 'Regular_Hwy_Current_Exp': {'count': 0, 'datails': {}},\n",
       " 'Hous___Com_Current_Exp': {'count': 0, 'datails': {}},\n",
       " 'Libraries_Current_Exp': {'count': 0, 'datails': {}},\n",
       " 'Natural_Res_Current_Exp': {'count': 0, 'datails': {}},\n",
       " 'Parks___Rec_Current_Exp': {'count': 0, 'datails': {}},\n",
       " 'Police_Prot_Current_Exp': {'count': 0, 'datails': {}},\n",
       " 'Prot_Insp_Current_Exp': {'count': 0, 'datails': {}},\n",
       " 'Public_Welf_Current_Exp': {'count': 0, 'datails': {}},\n",
       " 'Welf_Ins_Current_Exp': {'count': 0, 'datails': {}},\n",
       " 'Water_Trans_Current_Exp': {'count': 0, 'datails': {}},\n",
       " 'General_NEC_Current_Exp': {'count': 0, 'datails': {}},\n",
       " 'Total_Util_Current_Exp': {'count': 0, 'datails': {}},\n",
       " 'Water_Util_Current_Exp': {'count': 0, 'datails': {}},\n",
       " 'Elec_Util_Current_Exp': {'count': 0, 'datails': {}},\n",
       " 'Gas_Util_Current_Exp': {'count': 0, 'datails': {}},\n",
       " 'Trans_Util_Current_Exp': {'count': 0, 'datails': {}}}"
      ]
     },
     "execution_count": 26,
     "metadata": {},
     "output_type": "execute_result"
    }
   ],
   "source": [
    "after_filling"
   ]
  },
  {
   "cell_type": "code",
   "execution_count": 94,
   "metadata": {},
   "outputs": [
    {
     "name": "stdout",
     "output_type": "stream",
     "text": [
      "Gen_Pub_Bldg_Current_Exp Gen_Pub_Bldg_Cap_Outlay\n",
      "Total_Hospital_Current_Exp Total_Hospital_Cap_Outlay\n",
      "Own_Hospital_Current_Exp Own_Hospital_Cap_Outlay\n"
     ]
    }
   ],
   "source": [
    "for key,val in missing_feature_map.items():\n",
    "    for f in val['src_features']:\n",
    "        if f not in features:\n",
    "            print(key,f)"
   ]
  },
  {
   "cell_type": "code",
   "execution_count": 99,
   "metadata": {},
   "outputs": [],
   "source": [
    "state = df.loc[df['Type_Code'] == 0]"
   ]
  },
  {
   "cell_type": "code",
   "execution_count": null,
   "metadata": {},
   "outputs": [],
   "source": []
  }
 ],
 "metadata": {
  "kernelspec": {
   "display_name": "Python 3",
   "language": "python",
   "name": "python3"
  },
  "language_info": {
   "codemirror_mode": {
    "name": "ipython",
    "version": 3
   },
   "file_extension": ".py",
   "mimetype": "text/x-python",
   "name": "python",
   "nbconvert_exporter": "python",
   "pygments_lexer": "ipython3",
   "version": "3.7.2"
  }
 },
 "nbformat": 4,
 "nbformat_minor": 2
}
